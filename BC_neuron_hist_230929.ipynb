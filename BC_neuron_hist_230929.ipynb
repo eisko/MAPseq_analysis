{
 "cells": [
  {
   "cell_type": "code",
   "execution_count": 1,
   "metadata": {},
   "outputs": [],
   "source": [
    "###### load packages\n",
    "import pandas as pd\n",
    "import numpy as np\n",
    "import matplotlib.pyplot as plt\n",
    "# from sklearn.preprocessing import MinMaxScaler, StandardScaler # min/max scaling\n",
    "import pickle\n",
    "import seaborn as sns\n",
    "from matplotlib.colors import LogNorm\n",
    "from MAPseq_processing import * # import all functions from this script\n",
    "from MAPseq_plotting import * # import all functions from this script\n",
    "import matplotlib.lines as mlines # needed for custom legend\n",
    "from scipy import stats\n",
    "import random\n",
    "\n",
    "# import metadata\n",
    "from M194_M220_metadata import *\n",
    "\n",
    "# import colormaps\n",
    "from colormaps import blue_cmp, orange_cmp\n",
    "\n",
    "%matplotlib inline\n",
    "\n",
    "# auto refreshes imported functions if source code changes:\n",
    "%load_ext autoreload\n",
    "%autoreload 2"
   ]
  },
  {
   "cell_type": "code",
   "execution_count": 31,
   "metadata": {},
   "outputs": [
    {
     "ename": "EOFError",
     "evalue": "Ran out of input",
     "output_type": "error",
     "traceback": [
      "\u001b[0;31m---------------------------------------------------------------------------\u001b[0m",
      "\u001b[0;31mEOFError\u001b[0m                                  Traceback (most recent call last)",
      "\u001b[1;32m/Users/eisko/github_repos/MAPseq_analysis/BC_neuron_hist_230929.ipynb Cell 2\u001b[0m line \u001b[0;36m1\n\u001b[1;32m      <a href='vscode-notebook-cell:/Users/eisko/github_repos/MAPseq_analysis/BC_neuron_hist_230929.ipynb#W1sZmlsZQ%3D%3D?line=7'>8</a>\u001b[0m \u001b[39m# Load normalized count data - minimum intervention\u001b[39;00m\n\u001b[1;32m      <a href='vscode-notebook-cell:/Users/eisko/github_repos/MAPseq_analysis/BC_neuron_hist_230929.ipynb#W1sZmlsZQ%3D%3D?line=8'>9</a>\u001b[0m \u001b[39mwith\u001b[39;00m \u001b[39mopen\u001b[39m(in_path \u001b[39m+\u001b[39m \u001b[39m'\u001b[39m\u001b[39mM194_M220_OMC_separate_all_count.pkl\u001b[39m\u001b[39m'\u001b[39m, \u001b[39m'\u001b[39m\u001b[39mrb\u001b[39m\u001b[39m'\u001b[39m) \u001b[39mas\u001b[39;00m f:\n\u001b[0;32m---> <a href='vscode-notebook-cell:/Users/eisko/github_repos/MAPseq_analysis/BC_neuron_hist_230929.ipynb#W1sZmlsZQ%3D%3D?line=9'>10</a>\u001b[0m     omc_count \u001b[39m=\u001b[39m pickle\u001b[39m.\u001b[39;49mload(f)\n\u001b[1;32m     <a href='vscode-notebook-cell:/Users/eisko/github_repos/MAPseq_analysis/BC_neuron_hist_230929.ipynb#W1sZmlsZQ%3D%3D?line=11'>12</a>\u001b[0m \u001b[39mwith\u001b[39;00m \u001b[39mopen\u001b[39m(in_path \u001b[39m+\u001b[39m \u001b[39m'\u001b[39m\u001b[39mM194_M220_ACA_separate_all_count.pkl\u001b[39m\u001b[39m'\u001b[39m, \u001b[39m'\u001b[39m\u001b[39mrb\u001b[39m\u001b[39m'\u001b[39m) \u001b[39mas\u001b[39;00m f:\n\u001b[1;32m     <a href='vscode-notebook-cell:/Users/eisko/github_repos/MAPseq_analysis/BC_neuron_hist_230929.ipynb#W1sZmlsZQ%3D%3D?line=12'>13</a>\u001b[0m     aca_count \u001b[39m=\u001b[39m pickle\u001b[39m.\u001b[39mload(f)\n",
      "\u001b[0;31mEOFError\u001b[0m: Ran out of input"
     ]
    }
   ],
   "source": [
    "# load data\n",
    "# set-up paths\n",
    "home_dir = '/Volumes/Data/'\n",
    "in_path = home_dir+'Emily/MAPseq/combined_analysis_M194_M220/processed_data/'\n",
    "out_path = home_dir+'Emily/figures/fig_2_mapseq/python_out/'\n",
    "\n",
    "\n",
    "# Load normalized count data - minimum intervention\n",
    "with open(in_path + 'M194_M220_OMC_separate_all_count.pkl', 'rb') as f:\n",
    "    omc_count = pickle.load(f)\n",
    "    \n",
    "with open(in_path + 'M194_M220_ACA_separate_all_count.pkl', 'rb') as f:\n",
    "    aca_count = pickle.load(f)\n",
    "\n",
    "with open(in_path + 'M194_M220_OMC_separate_all_countN.pkl', 'rb') as f:\n",
    "    omc_countN = pickle.load(f)\n",
    "    \n",
    "with open(in_path + 'M194_M220_ACA_separate_all_countN.pkl', 'rb') as f:\n",
    "    aca_countN = pickle.load(f)"
   ]
  },
  {
   "cell_type": "markdown",
   "metadata": {},
   "source": [
    "# histograms of bc counts"
   ]
  },
  {
   "cell_type": "code",
   "execution_count": 16,
   "metadata": {},
   "outputs": [
    {
     "data": {
      "text/plain": [
       "Index(['OB', 'AOMCi', 'POMCi', 'ACAi', 'AOMCc', 'POMCc', 'ACAc', 'AUD', 'STRd',\n",
       "       'STRv', 'TH', 'HY', 'AMY', 'HIP', 'SNr', 'SCm', 'PG', 'APAGd', 'APAGv',\n",
       "       'PPAGd', 'PPAGv', 'RN'],\n",
       "      dtype='object')"
      ]
     },
     "execution_count": 16,
     "metadata": {},
     "output_type": "execute_result"
    }
   ],
   "source": [
    "test.columns"
   ]
  },
  {
   "cell_type": "code",
   "execution_count": 33,
   "metadata": {},
   "outputs": [
    {
     "data": {
      "text/plain": [
       "<AxesSubplot: xlabel='AOMCi', ylabel='Count'>"
      ]
     },
     "execution_count": 33,
     "metadata": {},
     "output_type": "execute_result"
    },
    {
     "data": {
      "image/png": "[encoded data removed]",
      "text/plain": [
       "<Figure size 640x480 with 1 Axes>"
      ]
     },
     "metadata": {},
     "output_type": "display_data"
    }
   ],
   "source": [
    "plot = test['AOMCi'].reset_index(drop=True)\n",
    "plot = plot[plot>0]\n",
    "sns.histplot(plot)"
   ]
  }
 ],
 "metadata": {
  "kernelspec": {
   "display_name": "Python 3",
   "language": "python",
   "name": "python3"
  },
  "language_info": {
   "codemirror_mode": {
    "name": "ipython",
    "version": 3
   },
   "file_extension": ".py",
   "mimetype": "text/x-python",
   "name": "python",
   "nbconvert_exporter": "python",
   "pygments_lexer": "ipython3",
   "version": "3.10.6"
  },
  "orig_nbformat": 4
 },
 "nbformat": 4,
 "nbformat_minor": 2
}
