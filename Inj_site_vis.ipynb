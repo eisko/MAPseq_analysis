{
 "cells": [
  {
   "cell_type": "code",
   "execution_count": 21,
   "metadata": {},
   "outputs": [
    {
     "name": "stdout",
     "output_type": "stream",
     "text": [
      "The autoreload extension is already loaded. To reload it, use:\n",
      "  %reload_ext autoreload\n"
     ]
    }
   ],
   "source": [
    "# load packages\n",
    "import numpy as np\n",
    "import pandas as pd\n",
    "import napari\n",
    "import tifffile as tf\n",
    "import os\n",
    "import matplotlib.pyplot as plt\n",
    "import copy # needed for deepcopy of dictionaries\n",
    "\n",
    "from skimage.filters import threshold_otsu # threshold method used to threshold inj site\n",
    "\n",
    "\n",
    "# import custum colormaps\n",
    "from colormaps import *\n",
    "\n",
    "# import metadata\n",
    "from M194_M220_metadata import *\n",
    "\n",
    " \n",
    "# adding Folder_2 to the system path\n",
    "import sys\n",
    "sys.path.insert(0, '../STP_analysis')\n",
    "# import custum functions\n",
    "from STP_plotting import *\n",
    "from STP_processing import *\n",
    "\n",
    "# auto refreshes imported functions if source code changes:\n",
    "%load_ext autoreload\n",
    "%autoreload 2"
   ]
  },
  {
   "cell_type": "code",
   "execution_count": 6,
   "metadata": {},
   "outputs": [],
   "source": [
    "# Set-up variables\n",
    "\n",
    "home_dir = \"/Volumes/Data/\"\n",
    "# home_dir = \"/mnt/labNAS/\"\n",
    "\n",
    "in_path = home_dir+\"Emily/STP_for_MAPseq/4_python_output/input_tifs/\"\n",
    "out_path = home_dir+\"Emily/STP_for_MAPseq/4_python_output/output_figs/\"\n"
   ]
  },
  {
   "cell_type": "code",
   "execution_count": 8,
   "metadata": {},
   "outputs": [
    {
     "name": "stdout",
     "output_type": "stream",
     "text": [
      "working on grey\n",
      "working on CTX\n",
      "working on OMCi\n",
      "working on OMCc\n",
      "working on ACAc\n",
      "working on aud\n",
      "working on TH\n",
      "working on STR\n",
      "working on CP\n",
      "working on AMY\n",
      "working on P\n",
      "working on PG\n",
      "working on MB\n",
      "working on PAG\n",
      "working on SCm\n",
      "working on SNr\n",
      "working on HY\n",
      "working on CNU\n",
      "working on TEa\n",
      "working on ECT\n",
      "working on VISC\n",
      "working on AI\n",
      "working on GU\n",
      "working on BS\n",
      "working on HIP\n"
     ]
    }
   ],
   "source": [
    "# import reference STeg brain\n",
    "# import masks from allen_STeg_220429_straight_asr\n",
    "masks_folder = in_path+\"masks/steg_220429_hs_asr/\"\n",
    "\n",
    "# area list from make_masks.py\n",
    "areas = [\"grey\", \"CTX\", \"OMCi\", \"OMCc\", \"ACAc\", \"aud\",\"TH\", \"STR\", \"CP\", \"AMY\", \"P\", \"PG\", \"MB\", \"PAG\", \"SCm\", \n",
    "         \"SNr\", \"HY\", \"CNU\", \"TEa\", \"ECT\", \"VISC\", \"AI\", \"GU\", \"BS\", \"HIP\"]\n",
    "\n",
    "# make dictionary where keys = areas, values=list of masks corresponding to metadata order\n",
    "masks_steg = {}\n",
    "for area in areas:\n",
    "    print(\"working on\", area)\n",
    "    with open(masks_folder+\"steg_220429_hs_asr_\"+area+\".npy\", \"rb\") as f:\n",
    "        masks_steg[area] = np.load(f)"
   ]
  },
  {
   "cell_type": "markdown",
   "metadata": {},
   "source": [
    "# Visualize reference and test localization"
   ]
  },
  {
   "cell_type": "code",
   "execution_count": 9,
   "metadata": {},
   "outputs": [],
   "source": [
    "# load reference STeg image\n",
    "steg_ref = tf.imread(home_dir+\"Emily/STP_for_MAPseq/2_fiji_adjusted/OMC_STeg_220429_b2_hand_straightened_asr.tif\")"
   ]
  },
  {
   "cell_type": "code",
   "execution_count": 13,
   "metadata": {},
   "outputs": [],
   "source": [
    "for key in masks_steg:\n",
    "    masks_steg[key]"
   ]
  },
  {
   "cell_type": "code",
   "execution_count": 35,
   "metadata": {},
   "outputs": [
    {
     "data": {
      "text/plain": [
       "<Image layer 'STeg reference' at 0x17c6b0550>"
      ]
     },
     "execution_count": 35,
     "metadata": {},
     "output_type": "execute_result"
    }
   ],
   "source": [
    "viewer = napari.Viewer()\n",
    "\n",
    "# add reference image\n",
    "viewer.add_image(\n",
    "    steg_ref,\n",
    "    name=\"STeg reference\",\n",
    "    scale=[2.5,1,1],\n",
    "    blending=\"additive\"\n",
    ")\n"
   ]
  },
  {
   "cell_type": "code",
   "execution_count": null,
   "metadata": {},
   "outputs": [],
   "source": [
    "\n",
    "# add masks\n",
    "for mask in masks_steg:\n",
    "    viewer.add_image(\n",
    "        masks_steg[mask],\n",
    "        name=mask,\n",
    "        scale=[2.5,1,1],\n",
    "        blending=\"additive\",\n",
    "        colormap=\"bop orange\",\n",
    "        opacity=0.5\n",
    "    )"
   ]
  },
  {
   "cell_type": "code",
   "execution_count": 24,
   "metadata": {},
   "outputs": [
    {
     "data": {
      "text/html": [
       "<div>\n",
       "<style scoped>\n",
       "    .dataframe tbody tr th:only-of-type {\n",
       "        vertical-align: middle;\n",
       "    }\n",
       "\n",
       "    .dataframe tbody tr th {\n",
       "        vertical-align: top;\n",
       "    }\n",
       "\n",
       "    .dataframe thead th {\n",
       "        text-align: right;\n",
       "    }\n",
       "</style>\n",
       "<table border=\"1\" class=\"dataframe\">\n",
       "  <thead>\n",
       "    <tr style=\"text-align: right;\">\n",
       "      <th></th>\n",
       "      <th>mice</th>\n",
       "      <th>species</th>\n",
       "      <th>sex</th>\n",
       "      <th>dataset</th>\n",
       "    </tr>\n",
       "  </thead>\n",
       "  <tbody>\n",
       "    <tr>\n",
       "      <th>0</th>\n",
       "      <td>STF4</td>\n",
       "      <td>STeg</td>\n",
       "      <td>female</td>\n",
       "      <td>M220</td>\n",
       "    </tr>\n",
       "    <tr>\n",
       "      <th>1</th>\n",
       "      <td>STM5</td>\n",
       "      <td>STeg</td>\n",
       "      <td>male</td>\n",
       "      <td>M220</td>\n",
       "    </tr>\n",
       "    <tr>\n",
       "      <th>2</th>\n",
       "      <td>STF6</td>\n",
       "      <td>STeg</td>\n",
       "      <td>female</td>\n",
       "      <td>M220</td>\n",
       "    </tr>\n",
       "    <tr>\n",
       "      <th>3</th>\n",
       "      <td>STM7</td>\n",
       "      <td>STeg</td>\n",
       "      <td>male</td>\n",
       "      <td>M220</td>\n",
       "    </tr>\n",
       "  </tbody>\n",
       "</table>\n",
       "</div>"
      ],
      "text/plain": [
       "   mice species     sex dataset\n",
       "0  STF4    STeg  female    M220\n",
       "1  STM5    STeg    male    M220\n",
       "2  STF6    STeg  female    M220\n",
       "3  STM7    STeg    male    M220"
      ]
     },
     "execution_count": 24,
     "metadata": {},
     "output_type": "execute_result"
    }
   ],
   "source": [
    "metadata_inj = metadata[metadata['dataset']==\"M220\"]\n",
    "metadata_inj = metadata_inj[metadata_inj['species']==\"STeg\"].reset_index(drop=True)\n",
    "\n",
    "metadata_inj"
   ]
  },
  {
   "cell_type": "code",
   "execution_count": 26,
   "metadata": {},
   "outputs": [],
   "source": [
    "# add points layers to mark injection sites\n",
    "\n",
    "# for i in range(metadata_inj.shape[0]):\n",
    "STF4 = viewer.add_points(name=\"STF4\")\n",
    "STM5 = viewer.add_points(name=\"STM5\")\n",
    "STF6 = viewer.add_points(name=\"STF6\")\n",
    "STM7 = viewer.add_points(name=\"STM7\")"
   ]
  },
  {
   "cell_type": "code",
   "execution_count": 34,
   "metadata": {},
   "outputs": [
    {
     "data": {
      "text/plain": [
       "<Points layer 'test [1]' at 0x17c74e1a0>"
      ]
     },
     "execution_count": 34,
     "metadata": {},
     "output_type": "execute_result"
    }
   ],
   "source": [
    "# STF4\n",
    "# slide 9\n",
    "# slide 12\n",
    "\n",
    "viewer.add_points([78,216,214], name=\"test\", edge_color=\"red\")\n"
   ]
  },
  {
   "cell_type": "code",
   "execution_count": 37,
   "metadata": {},
   "outputs": [
    {
     "data": {
      "text/html": [
       "<div>\n",
       "<style scoped>\n",
       "    .dataframe tbody tr th:only-of-type {\n",
       "        vertical-align: middle;\n",
       "    }\n",
       "\n",
       "    .dataframe tbody tr th {\n",
       "        vertical-align: top;\n",
       "    }\n",
       "\n",
       "    .dataframe thead th {\n",
       "        text-align: right;\n",
       "    }\n",
       "</style>\n",
       "<table border=\"1\" class=\"dataframe\">\n",
       "  <thead>\n",
       "    <tr style=\"text-align: right;\">\n",
       "      <th></th>\n",
       "      <th>mice</th>\n",
       "      <th>species</th>\n",
       "      <th>sex</th>\n",
       "      <th>dataset</th>\n",
       "    </tr>\n",
       "  </thead>\n",
       "  <tbody>\n",
       "    <tr>\n",
       "      <th>0</th>\n",
       "      <td>STF4</td>\n",
       "      <td>STeg</td>\n",
       "      <td>female</td>\n",
       "      <td>M220</td>\n",
       "    </tr>\n",
       "    <tr>\n",
       "      <th>1</th>\n",
       "      <td>STM5</td>\n",
       "      <td>STeg</td>\n",
       "      <td>male</td>\n",
       "      <td>M220</td>\n",
       "    </tr>\n",
       "    <tr>\n",
       "      <th>2</th>\n",
       "      <td>STF6</td>\n",
       "      <td>STeg</td>\n",
       "      <td>female</td>\n",
       "      <td>M220</td>\n",
       "    </tr>\n",
       "    <tr>\n",
       "      <th>3</th>\n",
       "      <td>STM7</td>\n",
       "      <td>STeg</td>\n",
       "      <td>male</td>\n",
       "      <td>M220</td>\n",
       "    </tr>\n",
       "  </tbody>\n",
       "</table>\n",
       "</div>"
      ],
      "text/plain": [
       "   mice species     sex dataset\n",
       "0  STF4    STeg  female    M220\n",
       "1  STM5    STeg    male    M220\n",
       "2  STF6    STeg  female    M220\n",
       "3  STM7    STeg    male    M220"
      ]
     },
     "execution_count": 37,
     "metadata": {},
     "output_type": "execute_result"
    }
   ],
   "source": [
    "metadata_inj"
   ]
  },
  {
   "cell_type": "markdown",
   "metadata": {},
   "source": [
    "# Visualizing inj sites"
   ]
  },
  {
   "cell_type": "code",
   "execution_count": 81,
   "metadata": {},
   "outputs": [],
   "source": [
    "# setting the injection centers\n",
    "\n",
    "AOMC = np.array([[22,212,217],\n",
    "        [20,213,230],\n",
    "        [20,212,221],\n",
    "        [19,214,223]\n",
    "        ])\n",
    "POMC = np.array([[31,216,214],\n",
    "        [40, 174, 230],\n",
    "        [39,200,213],\n",
    "        [31,220,228]\n",
    "        ])\n",
    "\n",
    "OMC = np.mean([AOMC, POMC], axis=0)\n",
    "\n",
    "# range for inj sites, [start, stop]\n",
    "AOMC_range = np.array([\n",
    "        [18,39],\n",
    "        [16,32],\n",
    "        [12,28],\n",
    "        [15,27]\n",
    "        ])\n",
    "\n",
    "POMC_range = np.array([\n",
    "        [30,42],\n",
    "        [32,40],\n",
    "        [28,44],\n",
    "        [27,39]\n",
    "])\n",
    "\n",
    "OMC_range = [[AOMC_range[i][0], POMC_range[i][1]] for i in range(AOMC_range.shape[0])]\n",
    "OMC_range = np.array(OMC_range)"
   ]
  },
  {
   "cell_type": "code",
   "execution_count": 84,
   "metadata": {},
   "outputs": [
    {
     "data": {
      "text/plain": [
       "(4, 2)"
      ]
     },
     "execution_count": 84,
     "metadata": {},
     "output_type": "execute_result"
    }
   ],
   "source": [
    "AOMC_range.shape"
   ]
  },
  {
   "cell_type": "code",
   "execution_count": 85,
   "metadata": {},
   "outputs": [
    {
     "data": {
      "image/png": "[encoded data removed]",
      "text/plain": [
       "<Figure size 432x288 with 1 Axes>"
      ]
     },
     "metadata": {
      "needs_background": "light"
     },
     "output_type": "display_data"
    },
    {
     "data": {
      "image/png": "[encoded data removed]",
      "text/plain": [
       "<Figure size 432x288 with 1 Axes>"
      ]
     },
     "metadata": {
      "needs_background": "light"
     },
     "output_type": "display_data"
    },
    {
     "data": {
      "image/png": "[encoded data removed]",
      "text/plain": [
       "<Figure size 432x288 with 1 Axes>"
      ]
     },
     "metadata": {
      "needs_background": "light"
     },
     "output_type": "display_data"
    }
   ],
   "source": [
    "# plotting the injection centers\n",
    "outline_st = make_boundaries_dict(plot_areas=[\"grey\", \"CTX\"], mask_dict=masks_steg, view=\"top\")\n",
    "colors = ['#1f77b4', '#ff7f0e', '#2ca02c', '#d62728']\n",
    "\n",
    "\n",
    "plt.imshow(outline_st, cmap=\"Greys\", aspect=2.5)\n",
    "for i in range(metadata_inj.shape[0]):\n",
    "    plt.scatter(AOMC[i][2], AOMC[i][0], label=metadata_inj.loc[i,'mice'], alpha=0.5)\n",
    "    plt.vlines(AOMC[i][2], ymin=AOMC_range[i][0], ymax=AOMC_range[i][1], colors=colors[i], alpha=0.5)\n",
    "plt.title(\"AOMC\")\n",
    "plt.legend()\n",
    "plt.show()\n",
    "\n",
    "plt.imshow(outline_st, cmap=\"Greys\", aspect=2.5)\n",
    "for i in range(metadata_inj.shape[0]):\n",
    "    plt.scatter(POMC[i][2], POMC[i][0], label=metadata_inj.loc[i,'mice'], alpha=0.5)\n",
    "    plt.vlines(POMC[i][2], ymin=POMC_range[i][0], ymax=POMC_range[i][1], colors=colors[i], alpha=0.5)\n",
    "plt.title(\"POMC\")\n",
    "plt.legend()\n",
    "plt.show()\n",
    "\n",
    "plt.imshow(outline_st, cmap=\"Greys\", aspect=2.5)\n",
    "for i in range(metadata_inj.shape[0]):\n",
    "    plt.scatter(OMC[i][2], OMC[i][0], label=metadata_inj.loc[i,'mice'], alpha=0.5)\n",
    "    plt.vlines(OMC[i][2], ymin=OMC_range[i][0], ymax=OMC_range[i][1], colors=colors[i], alpha=0.5)\n",
    "plt.title(\"OMC\")\n",
    "plt.legend()\n",
    "plt.show()"
   ]
  },
  {
   "cell_type": "code",
   "execution_count": 78,
   "metadata": {},
   "outputs": [
    {
     "data": {
      "image/png": "[encoded data removed]",
      "text/plain": [
       "<Figure size 432x288 with 1 Axes>"
      ]
     },
     "metadata": {
      "needs_background": "light"
     },
     "output_type": "display_data"
    }
   ],
   "source": [
    "# plotting the injection centers\n",
    "outline_st = make_boundaries_dict(plot_areas=[\"grey\", \"CTX\"], mask_dict=masks_steg, view=\"top\")\n",
    "\n",
    "plt.imshow(outline_st, cmap=\"Greys\", aspect=2.5)\n",
    "colors = ['#1f77b4', '#ff7f0e', '#2ca02c', '#d62728']\n",
    "for i in range(metadata_inj.shape[0]):\n",
    "    plt.scatter(OMC[i][2], OMC[i][0], label=metadata_inj.loc[i,'mice'], alpha=0.5)\n",
    "    # plt.vlines(xm_stats[i]['median'], ymin=zm_stats[i]['q.05'], ymax=zm_stats[i]['q.95'], colors=colors[i], alpha=0.5)\n",
    "plt.title(\"OMC\")\n",
    "plt.legend()\n",
    "plt.show()"
   ]
  }
 ],
 "metadata": {
  "kernelspec": {
   "display_name": "Python 3",
   "language": "python",
   "name": "python3"
  },
  "language_info": {
   "codemirror_mode": {
    "name": "ipython",
    "version": 3
   },
   "file_extension": ".py",
   "mimetype": "text/x-python",
   "name": "python",
   "nbconvert_exporter": "python",
   "pygments_lexer": "ipython3",
   "version": "3.10.2"
  },
  "orig_nbformat": 4
 },
 "nbformat": 4,
 "nbformat_minor": 2
}
