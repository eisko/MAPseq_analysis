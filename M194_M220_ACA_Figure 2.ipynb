{
 "cells": [
  {
   "cell_type": "code",
   "execution_count": 1,
   "id": "7c5fc311",
   "metadata": {},
   "outputs": [],
   "source": [
    "###### load packages\n",
    "import pandas as pd\n",
    "import numpy as np\n",
    "import matplotlib.pyplot as plt\n",
    "from sklearn.preprocessing import binarize\n",
    "import pickle\n",
    "import seaborn as sns\n",
    "from matplotlib.colors import LogNorm, Normalize\n",
    "# from mapseq_fxns import sort_by_celltype\n",
    "# from math import log10\n",
    "from scipy import stats\n",
    "from statsmodels.sandbox.stats.multicomp import multipletests\n",
    "\n",
    "# for custom colormaps\n",
    "from matplotlib import cm \n",
    "from matplotlib.colors import ListedColormap,LinearSegmentedColormap\n",
    "\n",
    "# random sample consistent between runs\n",
    "import random\n",
    "\n",
    "# import multiple t-tests\n",
    "from statsmodels.sandbox.stats.multicomp import multipletests\n",
    "\n",
    "%matplotlib inline"
   ]
  },
  {
   "cell_type": "code",
   "execution_count": 10,
   "id": "bb8dca2f",
   "metadata": {},
   "outputs": [],
   "source": [
    "in_path = '/Volumes/Data/Emily/MAPseq/combined_analysis_M194_M220/processed_data/'\n",
    "out_path = '/Volumes/Data/Emily/MAPseq/combined_analysis_M194_M220/output/'\n",
    "\n",
    "num_samples = 12\n",
    "mice = [\"MMM1\",\"MMF2\", \"MMF3\", \"STM1\", \"STM2\", \"STF3\", 'MMM4', 'MMF5', 'STF4', 'STM5', 'STF6', 'STM7']\n",
    "species = [\"Mmus\"]*3 + [\"Steg\"]*3 + [\"Mmus\"]*2 + [\"Steg\"]*4\n",
    "sex = [\"male\", \"female\", \"female\", \"male\", \"male\", \"female\", \"male\", \"female\", \"female\", \"male\", \"female\", \"male\"]\n",
    "dataset = ['M194']*6 + ['M220']*6\n",
    "colors = {'M194':'blue', 'M220':'orange'}\n",
    "metadata = pd.DataFrame({'mice':mice, \"species\":species, \"sex\":sex, \"dataset\":dataset})\n",
    "\n",
    "random.seed(10)"
   ]
  },
  {
   "cell_type": "code",
   "execution_count": 11,
   "id": "0d495a41",
   "metadata": {},
   "outputs": [],
   "source": [
    "#### load data\n",
    "\n",
    "with open(in_path +'M194_M220_ACA_bin4.pkl', 'rb') as f:\n",
    "    aca_bin = pickle.load(f)"
   ]
  },
  {
   "cell_type": "code",
   "execution_count": 12,
   "id": "43f185d0",
   "metadata": {},
   "outputs": [],
   "source": [
    "# create custum colormaps\n",
    "# green = OMC\n",
    "# purple = ACA\n",
    "# blue = lab mo\n",
    "# create purple colormap\n",
    "N = 256\n",
    "purple = np.ones((N, 4))\n",
    "purple[:, 0] = np.linspace(1, 146/256, N) # R = 146\n",
    "purple[:, 1] = np.linspace(1, 39/256, N) # G = 39\n",
    "purple[:, 2] = np.linspace(1, 143/256, N)  # B = 143\n",
    "purple_cmp = ListedColormap(purple)\n",
    "\n",
    "green = np.ones((N, 4))\n",
    "green[:, 0] = np.linspace(1, 5/256, N) # R = 5\n",
    "green[:, 1] = np.linspace(1, 104/256, N) # G = 104\n",
    "green[:, 2] = np.linspace(1, 57/256, N)  # B = 57\n",
    "green_cmp = ListedColormap(green)\n",
    "\n",
    "orange = np.ones((N, 4))\n",
    "orange[:, 0] = np.linspace(1, 242/256, N) # R = 242\n",
    "orange[:, 1] = np.linspace(1, 101/256, N) # G = 101\n",
    "orange[:, 2] = np.linspace(1, 34/256, N)  # B = 34\n",
    "orange_cmp = ListedColormap(orange)\n",
    "\n",
    "blue = np.ones((N, 4))\n",
    "blue[:, 0] = np.linspace(1, 33/256, N) # R = 33\n",
    "blue[:, 1] = np.linspace(1, 64/256, N) # G = 64\n",
    "blue[:, 2] = np.linspace(1, 154/256, N)  # B = 154\n",
    "blue_cmp = ListedColormap(blue)"
   ]
  },
  {
   "cell_type": "code",
   "execution_count": 13,
   "id": "71ba7a22",
   "metadata": {},
   "outputs": [],
   "source": [
    "# sort by cell type function??? doesn't work when imported???\n",
    "\n",
    "def sort_by_celltype(proj, it_areas=[\"ACAc\", \"AUD\", \"STR\"], ct_areas=[\"TH\"], pt_areas=[\"AMY\",\"SNr\",\"SCm\",\"PG\",\"PAG\",\"RN\"]):\n",
    "    \"\"\"\n",
    "    Function takes in projection matrix and outputs matrix sorted by the 3 major celltypes:\n",
    "    - IT = intratelencephalic (projects to cortical and/or Striatum), type = 10\n",
    "    - CT = corticalthalamic (projects to thalamus w/o projection to brainstem), type = 100\n",
    "    - PT = pyramidal tract (projects to brainstem += other areas), type = 1000\n",
    "    Returns single dataframe with cells sorted and labelled by 3 cell types (IT/CT/PT)\n",
    "    \n",
    "    default areas:\n",
    "    - it_areas=[\"OMCc\", \"AUD\", \"STR\"]\n",
    "    - ct_areas=[\"TH\"]\n",
    "    - pt_areas=[\"AMY\",\"SNr\",\"SCm\",\"PG\",\"PAG\",\"RN\"]\n",
    "    \"\"\"\n",
    "    \n",
    "    ds=proj\n",
    "    \n",
    "    # 1. isolate PT cells\n",
    "    pt_counts = ds[pt_areas].sum(axis=1)\n",
    "    pt_idx = ds[pt_counts>0].index\n",
    "    ds_pt = ds.loc[pt_idx,:]\n",
    "    ds_pt = ds_pt.sort_values(['PAG','AMY'], ascending=False)\n",
    "    ds_pt['type'] = 1000\n",
    "\n",
    "    # Isolate remaining non-PT cells\n",
    "    ds_npt = ds.drop(pt_idx)\n",
    "    ds_npt.reset_index(drop=True)\n",
    "\n",
    "    # Identify CT cells by thalamus projection # THIS USED TO WORK, NOW IT DOESN'T???\n",
    "    #     th_idx = ds_npt[ct_areas] > 0\n",
    "    #     ds_th = ds_npt[th_idx]\n",
    "    #     th_TF = ds_npt[ct_areas] > 0\n",
    "    #     th_idx = th_TF.index\n",
    "    #     ds_th = ds_npt.loc[th_index, :]\n",
    "    ds_th = ds_npt[ds_npt.TH > 0]\n",
    "\n",
    "    ds_th = ds_th.sort_values('TH', ascending=False)\n",
    "    ds_th['type'] = 100\n",
    "\n",
    "    #     # Identify IT cells by the remaining cells (non-PT, non-CT)\n",
    "    ds_nth = ds_npt[~(ds_npt.TH > 0)]\n",
    "    ds_nth = ds_nth.sort_values(it_areas,ascending=False)\n",
    "    ds_nth['type'] = 10\n",
    "\n",
    "    # combine IT and CT cells\n",
    "    ds_npt = pd.concat([ds_nth, ds_th], ignore_index=True)\n",
    "\n",
    "    # combine IT/CT and PT cells\n",
    "    sorted_ds = pd.concat([ds_npt,ds_pt],ignore_index=True)\n",
    "\n",
    "    sorted_ds=sorted_ds.reset_index(drop=True)\n",
    "\n",
    "    return sorted_ds"
   ]
  },
  {
   "cell_type": "code",
   "execution_count": 14,
   "id": "4568d708",
   "metadata": {},
   "outputs": [],
   "source": [
    "# seperate by cell type\n",
    "\n",
    "aca_type = [sort_by_celltype(aca_bin[i]) for i in range(num_samples)]\n",
    "aca_pt = [(aca_type[i][aca_type[i]['type']==1000]).drop([\"type\"], axis=1).reset_index(drop=True) for i in range(num_samples)]\n",
    "aca_it = [(aca_type[i][aca_type[i]['type']==10]).drop([\"type\"], axis=1).reset_index(drop=True) for i in range(num_samples)]\n",
    "\n",
    "mm_i = [0,1,2,6,7]\n",
    "st_i = [3,4,5,8,9,10,11]\n",
    "\n",
    "aca_mm = []\n",
    "aca_st = []\n",
    "aca_pt_mm = []\n",
    "aca_pt_st = []\n",
    "aca_it_mm = []\n",
    "aca_it_st = []\n",
    "mice_mm=[]\n",
    "mice_st=[]\n",
    "\n",
    "for i in range(num_samples):\n",
    "    if i in mm_i:\n",
    "        aca_mm.append(aca_type[i])\n",
    "        aca_pt_mm.append(aca_pt[i])\n",
    "        aca_it_mm.append(aca_it[i])\n",
    "        mice_mm.append(mice[i])\n",
    "    else:\n",
    "        aca_st.append(aca_type[i])\n",
    "        aca_pt_st.append(aca_pt[i])\n",
    "        aca_it_st.append(aca_it[i])\n",
    "        mice_st.append(mice[i])\n",
    "\n",
    "aca_mm_all = pd.concat(aca_mm)\n",
    "aca_st_all = pd.concat(aca_st)"
   ]
  },
  {
   "cell_type": "code",
   "execution_count": 15,
   "id": "4b6559f9",
   "metadata": {},
   "outputs": [
    {
     "name": "stdout",
     "output_type": "stream",
     "text": [
      "(117113, 13)\n",
      "(14725, 13)\n"
     ]
    },
    {
     "data": {
      "text/plain": [
       "Index(['ACAi', 'ACAc', 'AUD', 'STR', 'TH', 'HY', 'AMY', 'SNr', 'SCm', 'PG',\n",
       "       'PAG', 'BS', 'type'],\n",
       "      dtype='object')"
      ]
     },
     "execution_count": 15,
     "metadata": {},
     "output_type": "execute_result"
    }
   ],
   "source": [
    "# clean-up datasets\n",
    "# drop OB, ACAc, HIP\n",
    "to_drop = ['OB', 'OMCi', 'OMCc', 'HIP']\n",
    "aca_mm_all = aca_mm_all.drop(to_drop, axis=1)\n",
    "aca_st_all = aca_st_all.drop(to_drop, axis=1)\n",
    "\n",
    "# change RN to BS\n",
    "aca_mm_all = aca_mm_all.rename(columns={'RN':'BS'})\n",
    "aca_st_all = aca_st_all.rename(columns={'RN':'BS'})\n",
    "\n",
    "\n",
    "# change type so .25,.5,.75\n",
    "mm_type_col = aca_mm_all['type']\n",
    "mm_replace = np.where(mm_type_col==1000, 0.75, mm_type_col)\n",
    "mm_replace = np.where(mm_replace==100, 0.5, mm_replace)\n",
    "mm_replace = np.where(mm_replace==10, 0.25, mm_replace)\n",
    "aca_mm_all['type'] = mm_replace\n",
    "\n",
    "# change type so .25,.5,.75\n",
    "st_type_col = aca_st_all['type']\n",
    "st_replace = np.where(st_type_col==1000, 0.75, st_type_col)\n",
    "st_replace = np.where(st_replace==100, 0.5, st_replace)\n",
    "st_replace = np.where(st_replace==10, 0.25, st_replace)\n",
    "aca_st_all['type'] = st_replace\n",
    "\n",
    "print(aca_mm_all.shape)\n",
    "print(aca_st_all.shape)\n",
    "aca_mm_all.columns"
   ]
  },
  {
   "cell_type": "code",
   "execution_count": 16,
   "id": "4fcee1ac",
   "metadata": {},
   "outputs": [
    {
     "data": {
      "image/png": "[encoded data removed]",
      "text/plain": [
       "<Figure size 2000x1000 with 10 Axes>"
      ]
     },
     "metadata": {},
     "output_type": "display_data"
    }
   ],
   "source": [
    "# randomly sample 1000 neurons and display as heatmap\n",
    "fig, axs = plt.subplots(2,5, figsize=(20,10))\n",
    "\n",
    "for ax in axs.flat[:5]:\n",
    "\n",
    "    plot = aca_st_all.sample(1000)\n",
    "    # sort by cell type\n",
    "    plot = plot.sort_values(by=['type']).reset_index(drop=True)\n",
    "    \n",
    "    sns.heatmap(plot, cmap=orange_cmp, cbar=False, ax=ax)\n",
    "    ax.get_yaxis().set_visible(False)\n",
    "\n",
    "\n",
    "# randomly sample 1000 neurons and display as heatmap\n",
    "# fig, axs = plt.subplots(1,5, figsize=(20,5))\n",
    "\n",
    "for ax in axs.flat[5:]:\n",
    "\n",
    "    plot = aca_mm_all.sample(1000)\n",
    "    # sort by cell type\n",
    "    plot = plot.sort_values(by=['type']).reset_index(drop=True)\n",
    "    \n",
    "    sns.heatmap(plot, cmap=blue_cmp, cbar=False, ax=ax)\n",
    "    ax.get_yaxis().set_visible(False)\n",
    "\n",
    "# fig.savefig(out_path+\"mm_st_multiple_1000_heatmaps.jpeg\", dpi=300)"
   ]
  },
  {
   "cell_type": "code",
   "execution_count": 17,
   "id": "9a2dba56",
   "metadata": {},
   "outputs": [
    {
     "data": {
      "image/png": "[encoded data removed]",
      "text/plain": [
       "<Figure size 640x480 with 1 Axes>"
      ]
     },
     "metadata": {},
     "output_type": "display_data"
    }
   ],
   "source": [
    "plot = aca_mm_all.sample(1000)\n",
    "# sort by cell type\n",
    "plot = plot.sort_values(by=['type']).reset_index(drop=True)\n",
    "\n",
    "sns.heatmap(plot, cmap=blue_cmp, cbar=False)\n",
    "plt.gca().get_yaxis().set_visible(False)\n",
    "# plt.savefig(out_path+\"mm_single_heatmap.jpeg\", dpi=300)"
   ]
  },
  {
   "cell_type": "code",
   "execution_count": 18,
   "id": "4032c73b",
   "metadata": {},
   "outputs": [
    {
     "data": {
      "image/png": "[encoded data removed]",
      "text/plain": [
       "<Figure size 640x480 with 1 Axes>"
      ]
     },
     "metadata": {},
     "output_type": "display_data"
    }
   ],
   "source": [
    "plot = aca_st_all.sample(1000)\n",
    "# sort by cell type\n",
    "plot = plot.sort_values(by=['type']).reset_index(drop=True)\n",
    "\n",
    "sns.heatmap(plot, cmap=orange_cmp, cbar=False)\n",
    "plt.gca().get_yaxis().set_visible(False)\n",
    "# plt.savefig(out_path+\"st_single_heatmap.jpeg\", dpi=300)"
   ]
  },
  {
   "attachments": {},
   "cell_type": "markdown",
   "id": "1bfe1923",
   "metadata": {},
   "source": [
    "# heatmaps of an individual animal"
   ]
  },
  {
   "cell_type": "code",
   "execution_count": 19,
   "id": "af1d116e",
   "metadata": {},
   "outputs": [
    {
     "name": "stdout",
     "output_type": "stream",
     "text": [
      "(647, 17)\n",
      "(4827, 17)\n",
      "(2544, 17)\n",
      "(707, 17)\n",
      "(1956, 17)\n",
      "(2571, 17)\n",
      "(1473, 17)\n"
     ]
    }
   ],
   "source": [
    "for i in range(len(aca_st)):\n",
    "    print(aca_st[i].shape)"
   ]
  },
  {
   "cell_type": "code",
   "execution_count": 20,
   "id": "d53b774b",
   "metadata": {},
   "outputs": [
    {
     "name": "stdout",
     "output_type": "stream",
     "text": [
      "(31033, 13)\n",
      "(2544, 13)\n"
     ]
    },
    {
     "data": {
      "text/plain": [
       "Index(['OMCi', 'OMCc', 'AUD', 'STR', 'TH', 'HY', 'AMY', 'SNr', 'SCm', 'PG',\n",
       "       'PAG', 'BS', 'type'],\n",
       "      dtype='object')"
      ]
     },
     "execution_count": 20,
     "metadata": {},
     "output_type": "execute_result"
    }
   ],
   "source": [
    "# clean-up datasets\n",
    "# drop OB, ACAc, HIP\n",
    "to_drop = ['OB', 'ACAi', 'ACAc', 'HIP']\n",
    "for i in range(len(aca_mm)):\n",
    "    aca_mm[i] = aca_mm[i].drop(to_drop, axis=1)\n",
    "    # change RN to BS\n",
    "    aca_mm[i] = aca_mm[i].rename(columns={'RN':'BS'})\n",
    "    # change type so .25,.5,.75\n",
    "    mm_type_col = aca_mm[i]['type']\n",
    "    mm_replace = np.where(mm_type_col==1000, 0.75, mm_type_col)\n",
    "    mm_replace = np.where(mm_replace==100, 0.5, mm_replace)\n",
    "    mm_replace = np.where(mm_replace==10, 0.25, mm_replace)\n",
    "    aca_mm[i]['type'] = mm_replace\n",
    "\n",
    "for i in range(len(aca_st)):\n",
    "    aca_st[i] = aca_st[i].drop(to_drop, axis=1)\n",
    "    aca_st[i] = aca_st[i].rename(columns={'RN':'BS'})\n",
    "    # change type so .25,.5,.75\n",
    "    st_type_col = aca_st[i]['type']\n",
    "    st_replace = np.where(st_type_col==1000, 0.75, st_type_col)\n",
    "    st_replace = np.where(st_replace==100, 0.5, st_replace)\n",
    "    st_replace = np.where(st_replace==10, 0.25, st_replace)\n",
    "    aca_st[i]['type'] = st_replace\n",
    "\n",
    "\n",
    "\n",
    "\n",
    "\n",
    "\n",
    "print(aca_mm[1].shape)\n",
    "print(aca_st[2].shape)\n",
    "aca_mm[0].columns"
   ]
  },
  {
   "cell_type": "code",
   "execution_count": 21,
   "id": "e0569cfa",
   "metadata": {},
   "outputs": [
    {
     "data": {
      "image/png": "[encoded data removed]",
      "text/plain": [
       "<Figure size 2000x300 with 14 Axes>"
      ]
     },
     "metadata": {},
     "output_type": "display_data"
    }
   ],
   "source": [
    "fig, axs = plt.subplots(1, len(aca_st), figsize=(20,3))\n",
    "\n",
    "i=0\n",
    "for ax in axs.flat:\n",
    "    sns.heatmap(aca_st[i], cmap=orange_cmp, ax=ax)\n",
    "    ax.get_yaxis().set_visible(False)\n",
    "    i+=1\n",
    "    \n",
    "# fig.savefig(out_path+\"aca_st_N1_heatmaps.jpeg\", dpi=300, bbox_inches=\"tight\")"
   ]
  },
  {
   "cell_type": "code",
   "execution_count": 22,
   "id": "31970c64",
   "metadata": {},
   "outputs": [
    {
     "data": {
      "image/png": "[encoded data removed]",
      "text/plain": [
       "<Figure size 640x480 with 2 Axes>"
      ]
     },
     "metadata": {},
     "output_type": "display_data"
    }
   ],
   "source": [
    "sns.heatmap(aca_mm[3], cmap=blue_cmp)\n",
    "plt.gca().get_yaxis().set_visible(False)\n",
    "# plt.savefig(out_path + \"MM_N1_n6454_heatmap.jpeg\", dpi=300, bbox_inches=\"tight\")"
   ]
  },
  {
   "cell_type": "code",
   "execution_count": 23,
   "id": "c19493bf",
   "metadata": {},
   "outputs": [
    {
     "data": {
      "image/png": "[encoded data removed]",
      "text/plain": [
       "<Figure size 1430x300 with 10 Axes>"
      ]
     },
     "metadata": {},
     "output_type": "display_data"
    }
   ],
   "source": [
    "fig, axs = plt.subplots(1, len(aca_mm), figsize=(14.3,3))\n",
    "\n",
    "i=0\n",
    "for ax in axs.flat:\n",
    "    sns.heatmap(aca_mm[i], cmap=blue_cmp, ax=ax)\n",
    "    ax.get_yaxis().set_visible(False)\n",
    "    i+=1\n",
    "    \n",
    "# fig.savefig(out_path+\"aca_mm_N1_heatmaps.jpeg\", dpi=300, bbox_inches=\"tight\")"
   ]
  },
  {
   "attachments": {},
   "cell_type": "markdown",
   "id": "b569463c",
   "metadata": {},
   "source": [
    "# summary plots\n",
    "- node degree plots"
   ]
  },
  {
   "cell_type": "code",
   "execution_count": 24,
   "id": "920ae287",
   "metadata": {},
   "outputs": [
    {
     "name": "stdout",
     "output_type": "stream",
     "text": [
      "(117113, 13)\n"
     ]
    },
    {
     "data": {
      "image/png": "[encoded data removed]",
      "text/plain": [
       "<Figure size 640x480 with 1 Axes>"
      ]
     },
     "metadata": {},
     "output_type": "display_data"
    }
   ],
   "source": [
    "# calculate node degrees\n",
    "print(aca_mm_all.shape)\n",
    "\n",
    "aca_mm_int = aca_mm_all.drop([\"ACAi\", \"type\"], axis=1)\n",
    "mm_nodes = aca_mm_int.sum(axis=1)\n",
    "mm_node_counts = mm_nodes.value_counts().sort_index()\n",
    "mm_node_proportion = mm_node_counts/mm_node_counts.sum()\n",
    "\n",
    "aca_st_int = aca_st_all.drop([\"ACAi\", \"type\"], axis=1)\n",
    "st_nodes = aca_st_int.sum(axis=1)\n",
    "st_node_counts = st_nodes.value_counts().sort_index()\n",
    "st_node_proportion = st_node_counts/st_node_counts.sum()\n",
    "\n",
    "plot_df = pd.DataFrame(columns=['mmus', 'steg'])\n",
    "# plot_df\n",
    "plot_df['mmus'] = mm_node_proportion\n",
    "plot_df['steg'] = st_node_proportion\n",
    "plot_df.transpose().plot(kind='bar', stacked=True)\n",
    "plt.gca().get_yaxis().set_visible(False)\n",
    "plt.legend(bbox_to_anchor=(1.05, 0.95), loc='upper left', borderaxespad=0, title=\"Node degree\")\n",
    "plt.gca().set_aspect(5)\n",
    "plt.gca().spines['top'].set_visible(False)\n",
    "plt.gca().spines['right'].set_visible(False)\n",
    "# plt.gca().spines['bottom'].set_visible(False)\n",
    "plt.gca().spines['left'].set_visible(False)\n",
    "# plt.savefig(out_path+\"mm_st_stack.jpeg\", dpi=300)"
   ]
  },
  {
   "cell_type": "code",
   "execution_count": 25,
   "id": "8291fc6f",
   "metadata": {},
   "outputs": [
    {
     "data": {
      "image/png": "[encoded data removed]",
      "text/plain": [
       "<Figure size 640x480 with 1 Axes>"
      ]
     },
     "metadata": {},
     "output_type": "display_data"
    }
   ],
   "source": [
    "# plot_df['Node_Degree'] = plot_df.index\n",
    "# plt.plot(plot_df.Node_Degree, plot_df.mmus, label=\"mmus\", alpha=0.5)\n",
    "# plt.plot(plot_df.Node_Degree, plot_df.steg, label=\"steg\", alpha=0.5)\n",
    "# plt.legend()\n",
    "\n",
    "plot_df.plot(kind='bar')\n",
    "plt.ylabel(\"Normalized Frequency\")\n",
    "plt.xlabel(\"Node Degree\")\n",
    "plt.gca().spines['top'].set_visible(False)\n",
    "plt.gca().spines['right'].set_visible(False)\n",
    "# plt.ylim((0,1))\n",
    "# plt.savefig(out_path+\"node_degree_hist.jpeg\", dpi=300, bbox_inches='tight')"
   ]
  },
  {
   "cell_type": "code",
   "execution_count": 26,
   "id": "9b3d0faf",
   "metadata": {},
   "outputs": [
    {
     "name": "stdout",
     "output_type": "stream",
     "text": [
      "(7397, 13)\n"
     ]
    },
    {
     "ename": "KeyError",
     "evalue": "\"['ACAi'] not found in axis\"",
     "output_type": "error",
     "traceback": [
      "\u001b[0;31m---------------------------------------------------------------------------\u001b[0m",
      "\u001b[0;31mKeyError\u001b[0m                                  Traceback (most recent call last)",
      "\u001b[1;32m/Users/eisko/github_repos/MAPseq_analysis/M194_M220_ACA_Figure 2.ipynb Cell 20\u001b[0m in \u001b[0;36m4\n\u001b[1;32m      <a href='vscode-notebook-cell:/Users/eisko/github_repos/MAPseq_analysis/M194_M220_ACA_Figure%202.ipynb#X25sZmlsZQ%3D%3D?line=0'>1</a>\u001b[0m \u001b[39m# calculate node degrees\u001b[39;00m\n\u001b[1;32m      <a href='vscode-notebook-cell:/Users/eisko/github_repos/MAPseq_analysis/M194_M220_ACA_Figure%202.ipynb#X25sZmlsZQ%3D%3D?line=1'>2</a>\u001b[0m \u001b[39mprint\u001b[39m(aca_mm[\u001b[39m3\u001b[39m]\u001b[39m.\u001b[39mshape)\n\u001b[0;32m----> <a href='vscode-notebook-cell:/Users/eisko/github_repos/MAPseq_analysis/M194_M220_ACA_Figure%202.ipynb#X25sZmlsZQ%3D%3D?line=3'>4</a>\u001b[0m aca_mm_int \u001b[39m=\u001b[39m aca_mm[\u001b[39m3\u001b[39;49m]\u001b[39m.\u001b[39;49mdrop([\u001b[39m\"\u001b[39;49m\u001b[39mACAi\u001b[39;49m\u001b[39m\"\u001b[39;49m, \u001b[39m\"\u001b[39;49m\u001b[39mtype\u001b[39;49m\u001b[39m\"\u001b[39;49m], axis\u001b[39m=\u001b[39;49m\u001b[39m1\u001b[39;49m)\n\u001b[1;32m      <a href='vscode-notebook-cell:/Users/eisko/github_repos/MAPseq_analysis/M194_M220_ACA_Figure%202.ipynb#X25sZmlsZQ%3D%3D?line=4'>5</a>\u001b[0m mm_nodes \u001b[39m=\u001b[39m aca_mm_int\u001b[39m.\u001b[39msum(axis\u001b[39m=\u001b[39m\u001b[39m1\u001b[39m)\n\u001b[1;32m      <a href='vscode-notebook-cell:/Users/eisko/github_repos/MAPseq_analysis/M194_M220_ACA_Figure%202.ipynb#X25sZmlsZQ%3D%3D?line=5'>6</a>\u001b[0m mm_node_counts \u001b[39m=\u001b[39m mm_nodes\u001b[39m.\u001b[39mvalue_counts()\u001b[39m.\u001b[39msort_index()\n",
      "File \u001b[0;32m~/miniconda3/envs/MAPseq/lib/python3.10/site-packages/pandas/util/_decorators.py:331\u001b[0m, in \u001b[0;36mdeprecate_nonkeyword_arguments.<locals>.decorate.<locals>.wrapper\u001b[0;34m(*args, **kwargs)\u001b[0m\n\u001b[1;32m    325\u001b[0m \u001b[39mif\u001b[39;00m \u001b[39mlen\u001b[39m(args) \u001b[39m>\u001b[39m num_allow_args:\n\u001b[1;32m    326\u001b[0m     warnings\u001b[39m.\u001b[39mwarn(\n\u001b[1;32m    327\u001b[0m         msg\u001b[39m.\u001b[39mformat(arguments\u001b[39m=\u001b[39m_format_argument_list(allow_args)),\n\u001b[1;32m    328\u001b[0m         \u001b[39mFutureWarning\u001b[39;00m,\n\u001b[1;32m    329\u001b[0m         stacklevel\u001b[39m=\u001b[39mfind_stack_level(),\n\u001b[1;32m    330\u001b[0m     )\n\u001b[0;32m--> 331\u001b[0m \u001b[39mreturn\u001b[39;00m func(\u001b[39m*\u001b[39;49margs, \u001b[39m*\u001b[39;49m\u001b[39m*\u001b[39;49mkwargs)\n",
      "File \u001b[0;32m~/miniconda3/envs/MAPseq/lib/python3.10/site-packages/pandas/core/frame.py:5388\u001b[0m, in \u001b[0;36mDataFrame.drop\u001b[0;34m(self, labels, axis, index, columns, level, inplace, errors)\u001b[0m\n\u001b[1;32m   5240\u001b[0m \u001b[39m@deprecate_nonkeyword_arguments\u001b[39m(version\u001b[39m=\u001b[39m\u001b[39mNone\u001b[39;00m, allowed_args\u001b[39m=\u001b[39m[\u001b[39m\"\u001b[39m\u001b[39mself\u001b[39m\u001b[39m\"\u001b[39m, \u001b[39m\"\u001b[39m\u001b[39mlabels\u001b[39m\u001b[39m\"\u001b[39m])\n\u001b[1;32m   5241\u001b[0m \u001b[39mdef\u001b[39;00m \u001b[39mdrop\u001b[39m(  \u001b[39m# type: ignore[override]\u001b[39;00m\n\u001b[1;32m   5242\u001b[0m     \u001b[39mself\u001b[39m,\n\u001b[0;32m   (...)\u001b[0m\n\u001b[1;32m   5249\u001b[0m     errors: IgnoreRaise \u001b[39m=\u001b[39m \u001b[39m\"\u001b[39m\u001b[39mraise\u001b[39m\u001b[39m\"\u001b[39m,\n\u001b[1;32m   5250\u001b[0m ) \u001b[39m-\u001b[39m\u001b[39m>\u001b[39m DataFrame \u001b[39m|\u001b[39m \u001b[39mNone\u001b[39;00m:\n\u001b[1;32m   5251\u001b[0m     \u001b[39m\"\"\"\u001b[39;00m\n\u001b[1;32m   5252\u001b[0m \u001b[39m    Drop specified labels from rows or columns.\u001b[39;00m\n\u001b[1;32m   5253\u001b[0m \n\u001b[0;32m   (...)\u001b[0m\n\u001b[1;32m   5386\u001b[0m \u001b[39m            weight  1.0     0.8\u001b[39;00m\n\u001b[1;32m   5387\u001b[0m \u001b[39m    \"\"\"\u001b[39;00m\n\u001b[0;32m-> 5388\u001b[0m     \u001b[39mreturn\u001b[39;00m \u001b[39msuper\u001b[39;49m()\u001b[39m.\u001b[39;49mdrop(\n\u001b[1;32m   5389\u001b[0m         labels\u001b[39m=\u001b[39;49mlabels,\n\u001b[1;32m   5390\u001b[0m         axis\u001b[39m=\u001b[39;49maxis,\n\u001b[1;32m   5391\u001b[0m         index\u001b[39m=\u001b[39;49mindex,\n\u001b[1;32m   5392\u001b[0m         columns\u001b[39m=\u001b[39;49mcolumns,\n\u001b[1;32m   5393\u001b[0m         level\u001b[39m=\u001b[39;49mlevel,\n\u001b[1;32m   5394\u001b[0m         inplace\u001b[39m=\u001b[39;49minplace,\n\u001b[1;32m   5395\u001b[0m         errors\u001b[39m=\u001b[39;49merrors,\n\u001b[1;32m   5396\u001b[0m     )\n",
      "File \u001b[0;32m~/miniconda3/envs/MAPseq/lib/python3.10/site-packages/pandas/util/_decorators.py:331\u001b[0m, in \u001b[0;36mdeprecate_nonkeyword_arguments.<locals>.decorate.<locals>.wrapper\u001b[0;34m(*args, **kwargs)\u001b[0m\n\u001b[1;32m    325\u001b[0m \u001b[39mif\u001b[39;00m \u001b[39mlen\u001b[39m(args) \u001b[39m>\u001b[39m num_allow_args:\n\u001b[1;32m    326\u001b[0m     warnings\u001b[39m.\u001b[39mwarn(\n\u001b[1;32m    327\u001b[0m         msg\u001b[39m.\u001b[39mformat(arguments\u001b[39m=\u001b[39m_format_argument_list(allow_args)),\n\u001b[1;32m    328\u001b[0m         \u001b[39mFutureWarning\u001b[39;00m,\n\u001b[1;32m    329\u001b[0m         stacklevel\u001b[39m=\u001b[39mfind_stack_level(),\n\u001b[1;32m    330\u001b[0m     )\n\u001b[0;32m--> 331\u001b[0m \u001b[39mreturn\u001b[39;00m func(\u001b[39m*\u001b[39;49margs, \u001b[39m*\u001b[39;49m\u001b[39m*\u001b[39;49mkwargs)\n",
      "File \u001b[0;32m~/miniconda3/envs/MAPseq/lib/python3.10/site-packages/pandas/core/generic.py:4505\u001b[0m, in \u001b[0;36mNDFrame.drop\u001b[0;34m(self, labels, axis, index, columns, level, inplace, errors)\u001b[0m\n\u001b[1;32m   4503\u001b[0m \u001b[39mfor\u001b[39;00m axis, labels \u001b[39min\u001b[39;00m axes\u001b[39m.\u001b[39mitems():\n\u001b[1;32m   4504\u001b[0m     \u001b[39mif\u001b[39;00m labels \u001b[39mis\u001b[39;00m \u001b[39mnot\u001b[39;00m \u001b[39mNone\u001b[39;00m:\n\u001b[0;32m-> 4505\u001b[0m         obj \u001b[39m=\u001b[39m obj\u001b[39m.\u001b[39;49m_drop_axis(labels, axis, level\u001b[39m=\u001b[39;49mlevel, errors\u001b[39m=\u001b[39;49merrors)\n\u001b[1;32m   4507\u001b[0m \u001b[39mif\u001b[39;00m inplace:\n\u001b[1;32m   4508\u001b[0m     \u001b[39mself\u001b[39m\u001b[39m.\u001b[39m_update_inplace(obj)\n",
      "File \u001b[0;32m~/miniconda3/envs/MAPseq/lib/python3.10/site-packages/pandas/core/generic.py:4546\u001b[0m, in \u001b[0;36mNDFrame._drop_axis\u001b[0;34m(self, labels, axis, level, errors, only_slice)\u001b[0m\n\u001b[1;32m   4544\u001b[0m         new_axis \u001b[39m=\u001b[39m axis\u001b[39m.\u001b[39mdrop(labels, level\u001b[39m=\u001b[39mlevel, errors\u001b[39m=\u001b[39merrors)\n\u001b[1;32m   4545\u001b[0m     \u001b[39melse\u001b[39;00m:\n\u001b[0;32m-> 4546\u001b[0m         new_axis \u001b[39m=\u001b[39m axis\u001b[39m.\u001b[39;49mdrop(labels, errors\u001b[39m=\u001b[39;49merrors)\n\u001b[1;32m   4547\u001b[0m     indexer \u001b[39m=\u001b[39m axis\u001b[39m.\u001b[39mget_indexer(new_axis)\n\u001b[1;32m   4549\u001b[0m \u001b[39m# Case for non-unique axis\u001b[39;00m\n\u001b[1;32m   4550\u001b[0m \u001b[39melse\u001b[39;00m:\n",
      "File \u001b[0;32m~/miniconda3/envs/MAPseq/lib/python3.10/site-packages/pandas/core/indexes/base.py:6975\u001b[0m, in \u001b[0;36mIndex.drop\u001b[0;34m(self, labels, errors)\u001b[0m\n\u001b[1;32m   6973\u001b[0m \u001b[39mif\u001b[39;00m mask\u001b[39m.\u001b[39many():\n\u001b[1;32m   6974\u001b[0m     \u001b[39mif\u001b[39;00m errors \u001b[39m!=\u001b[39m \u001b[39m\"\u001b[39m\u001b[39mignore\u001b[39m\u001b[39m\"\u001b[39m:\n\u001b[0;32m-> 6975\u001b[0m         \u001b[39mraise\u001b[39;00m \u001b[39mKeyError\u001b[39;00m(\u001b[39mf\u001b[39m\u001b[39m\"\u001b[39m\u001b[39m{\u001b[39;00m\u001b[39mlist\u001b[39m(labels[mask])\u001b[39m}\u001b[39;00m\u001b[39m not found in axis\u001b[39m\u001b[39m\"\u001b[39m)\n\u001b[1;32m   6976\u001b[0m     indexer \u001b[39m=\u001b[39m indexer[\u001b[39m~\u001b[39mmask]\n\u001b[1;32m   6977\u001b[0m \u001b[39mreturn\u001b[39;00m \u001b[39mself\u001b[39m\u001b[39m.\u001b[39mdelete(indexer)\n",
      "\u001b[0;31mKeyError\u001b[0m: \"['ACAi'] not found in axis\""
     ]
    }
   ],
   "source": [
    "# calculate node degrees\n",
    "print(aca_mm[3].shape)\n",
    "\n",
    "aca_mm_int = aca_mm[3].drop([\"ACAi\", \"type\"], axis=1)\n",
    "mm_nodes = aca_mm_int.sum(axis=1)\n",
    "mm_node_counts = mm_nodes.value_counts().sort_index()\n",
    "mm_node_proportion = mm_node_counts/mm_node_counts.sum()\n",
    "\n",
    "aca_st_int = aca_st[5].drop([\"ACAi\", \"type\"], axis=1)\n",
    "st_nodes = aca_st_int.sum(axis=1)\n",
    "st_node_counts = st_nodes.value_counts().sort_index()\n",
    "st_node_proportion = st_node_counts/st_node_counts.sum()\n",
    "\n",
    "plot_df.plot(kind='bar')\n",
    "plt.ylabel(\"Normalized Frequency\")\n",
    "plt.xlabel(\"Node Degree\")\n",
    "plt.gca().spines['top'].set_visible(False)\n",
    "plt.gca().spines['right'].set_visible(False)\n",
    "plt.legend(labels=[\"mmus, N=1\", \"steg, N=1\"])\n",
    "# plt.ylim((0,1))\n",
    "# plt.savefig(out_path+\"node_degree_hist_N1.jpeg\", dpi=300, bbox_inches='tight')"
   ]
  },
  {
   "cell_type": "code",
   "execution_count": null,
   "id": "887f6b6b",
   "metadata": {},
   "outputs": [],
   "source": [
    "# calculate node degrees\n",
    "aca_mm_nodes = []\n",
    "for i in range(len(aca_mm)):\n",
    "    aca_mm_int = aca_mm[i].drop([\"ACAi\", \"type\"], axis=1)\n",
    "    mm_nodes = aca_mm_int.sum(axis=1)\n",
    "    mm_node_counts = mm_nodes.value_counts().sort_index()\n",
    "    mm_node_proportion = mm_node_counts/mm_node_counts.sum()\n",
    "    df_save = pd.DataFrame(mm_node_proportion, columns=[\"Normalized Frequency\"]).reset_index(names=\"Node Degree\")\n",
    "    df_save[\"Species\"] = \"mmus\"\n",
    "    df_save[\"mouse\"] = mice_mm[i]\n",
    "    aca_mm_nodes.append(df_save)\n",
    "    \n",
    "\n",
    "aca_st_nodes = []\n",
    "for i in range(len(aca_st)):\n",
    "    aca_st_int = aca_st[i].drop([\"ACAi\", \"type\"], axis=1)\n",
    "    st_nodes = aca_st_int.sum(axis=1)\n",
    "    st_node_counts = st_nodes.value_counts().sort_index()\n",
    "    st_node_proportion = st_node_counts/st_node_counts.sum()\n",
    "    df_save = pd.DataFrame(st_node_proportion, columns=[\"Normalized Frequency\"]).reset_index(names=\"Node Degree\")\n",
    "    df_save[\"Species\"] = \"steg\"\n",
    "    df_save[\"mouse\"] = mice_st[i]\n",
    "    aca_st_nodes.append(df_save)\n",
    "\n",
    "mm_node_all = pd.concat(aca_mm_nodes)\n",
    "st_node_all = pd.concat(aca_st_nodes)\n"
   ]
  },
  {
   "cell_type": "code",
   "execution_count": null,
   "id": "6e240bb3",
   "metadata": {},
   "outputs": [],
   "source": [
    "plot = pd.concat([mm_node_all, st_node_all])\n",
    "sns.catplot(plot, x=\"Node Degree\", y=\"Normalized Frequency\", hue=\"Species\", kind=\"bar\")\n",
    "# plt.savefig(out_path + \"all_node_bar.jpeg\", dpi=300, bbox_inches=\"tight\")"
   ]
  },
  {
   "cell_type": "code",
   "execution_count": null,
   "id": "f445b9e5",
   "metadata": {},
   "outputs": [],
   "source": [
    "plot = pd.concat([mm_node_all, st_node_all])\n",
    "sns.catplot(plot, x=\"Node Degree\", y=\"Normalized Frequency\", hue=\"Species\")\n",
    "# plt.savefig(out_path + \"all_node_dots.jpeg\", dpi=300, bbox_inches=\"tight\")"
   ]
  },
  {
   "attachments": {},
   "cell_type": "markdown",
   "id": "4c891f67",
   "metadata": {},
   "source": [
    "# histograms"
   ]
  },
  {
   "cell_type": "code",
   "execution_count": null,
   "id": "4c8f2ab2",
   "metadata": {},
   "outputs": [],
   "source": [
    "aca_mm_int = aca_mm[3].drop([\"ACAi\", \"type\"], axis=1)\n",
    "mm_sum = aca_mm_int.sum()\n",
    "mm_proportion = mm_sum/aca_mm_int.shape[0]\n",
    "\n",
    "aca_st_int = aca_st[5].drop([\"ACAi\", \"type\"], axis=1)\n",
    "st_sum = aca_st_int.sum()\n",
    "st_proportion = st_sum/aca_st_int.shape[0]\n",
    "\n",
    "plot_df = pd.DataFrame(columns=['mmus', 'steg'])\n",
    "# plot_df\n",
    "plot_df['mmus'] = mm_proportion\n",
    "plot_df['steg'] = st_proportion\n",
    "\n",
    "plot_df.plot(kind='bar')\n",
    "plt.ylabel(\"Neuron Proportion\")\n",
    "# plt.xlabel(\"Node Degree\")\n",
    "plt.gca().spines['top'].set_visible(False)\n",
    "plt.gca().spines['right'].set_visible(False)\n",
    "plt.legend(labels=[\"mmus, N=1\", \"steg, N=1\"])\n",
    "\n",
    "# plt.savefig(out_path+\"proj_hist_N1.jpeg\", dpi=300, bbox_inches=\"tight\")"
   ]
  },
  {
   "cell_type": "code",
   "execution_count": null,
   "id": "2287196a",
   "metadata": {},
   "outputs": [],
   "source": [
    "aca_mm_int = aca_mm_all.drop([\"ACAi\", \"type\"], axis=1)\n",
    "mm_sum = aca_mm_int.sum()\n",
    "mm_proportion = mm_sum/aca_mm_int.shape[0]\n",
    "\n",
    "aca_st_int = aca_st_all.drop([\"ACAi\", \"type\"], axis=1)\n",
    "st_sum = aca_st_int.sum()\n",
    "st_proportion = st_sum/aca_st_int.shape[0]\n",
    "\n",
    "plot_df = pd.DataFrame(columns=['mmus', 'steg'])\n",
    "# plot_df\n",
    "plot_df['mmus'] = mm_proportion\n",
    "plot_df['steg'] = st_proportion\n",
    "\n",
    "\n",
    "plot_df.plot(kind='bar')\n",
    "plt.gca().spines['top'].set_visible(False)\n",
    "plt.gca().spines['right'].set_visible(False)\n",
    "plt.ylabel(\"Neuron Proportion\")\n",
    "# plt.savefig(out_path+'mm_st_hist.jpeg', dpi=300)"
   ]
  },
  {
   "cell_type": "code",
   "execution_count": null,
   "id": "ce72b0f8",
   "metadata": {},
   "outputs": [],
   "source": [
    "mm_prop = []\n",
    "for i in range(len(aca_mm)):\n",
    "    df = aca_mm[i]\n",
    "    df_int = df.drop([\"ACAi\", \"type\"], axis=1)\n",
    "    df_sum = df_int.sum()\n",
    "    df_prop = df_sum/df.shape[0]\n",
    "    df_save = pd.DataFrame(df_prop, columns=[\"Neuron Proportion\"]).reset_index(names=\"Area\")\n",
    "    df_save[\"Species\"] = \"mmus\"\n",
    "    df_save[\"mouse\"] = mice_mm[i]\n",
    "    mm_prop.append(df_save)\n",
    "\n",
    "st_prop = []\n",
    "for i in range(len(aca_st)):\n",
    "    df = aca_st[i]\n",
    "    df_int = df.drop([\"ACAi\", \"type\"], axis=1)\n",
    "    df_sum = df_int.sum()\n",
    "    df_prop = df_sum/df.shape[0]\n",
    "    df_save = pd.DataFrame(df_prop, columns=[\"Neuron Proportion\"]).reset_index(names=\"Area\")\n",
    "    df_save[\"Species\"] = \"steg\"\n",
    "    df_save[\"mouse\"] = mice_st[i]\n",
    "    st_prop.append(df_save)\n",
    "\n",
    "\n",
    "mm_prop_all = pd.concat(mm_prop)\n",
    "st_prop_all = pd.concat(st_prop)"
   ]
  },
  {
   "cell_type": "code",
   "execution_count": null,
   "id": "f7bb1b5c",
   "metadata": {},
   "outputs": [],
   "source": [
    "plot = pd.concat([mm_prop_all, st_prop_all])\n",
    "sns.catplot(plot, x=\"Area\", y=\"Neuron Proportion\", hue=\"Species\")\n",
    "# plt.savefig(out_path + \"all_hist_dots.jpeg\", dpi=300, bbox_inches=\"tight\")"
   ]
  },
  {
   "cell_type": "code",
   "execution_count": null,
   "id": "914d019d",
   "metadata": {},
   "outputs": [],
   "source": [
    "plot = pd.concat([mm_prop_all, st_prop_all])\n",
    "sns.catplot(plot, x=\"Area\", y=\"Neuron Proportion\", hue=\"Species\", kind=\"bar\")\n",
    "# plt.savefig(out_path + \"all_hist_bar.jpeg\", dpi=300, bbox_inches=\"tight\")"
   ]
  },
  {
   "cell_type": "code",
   "execution_count": null,
   "id": "36526dfd",
   "metadata": {},
   "outputs": [],
   "source": [
    "areas = aca_mm_int.columns\n",
    "\n",
    "PAB_mm = np.zeros((len(areas),len(areas)))\n",
    "\n",
    "\n",
    "\n",
    "for i in range(len(areas)):\n",
    "    for j in range(len(areas)):\n",
    "        areai = areas[i]\n",
    "        areaj = areas[j]\n",
    "        if aca_mm_int[areaj].sum() != 0: # create conditional so avoid divide by zero\n",
    "\n",
    "            union = aca_mm_all[areai] + aca_mm_all[areaj]\n",
    "            overlap = union == 2\n",
    "            n_overlap = overlap.sum()\n",
    "            total = aca_mm_all[areaj].sum()\n",
    "            PAB_mm[i,j] = n_overlap/total\n",
    "\n",
    "sns.heatmap(PAB_mm, yticklabels=areas, xticklabels=areas, cbar_kws={'label': 'P(B|A)'})\n",
    "plt.title('Mmus')\n",
    "plt.ylabel(\"B\")\n",
    "plt.xlabel(\"A\")\n",
    "# plt.savefig(out_path + \"mm_all_pab.jpeg\", dpi=300)"
   ]
  },
  {
   "cell_type": "code",
   "execution_count": null,
   "id": "aeaaceea",
   "metadata": {},
   "outputs": [],
   "source": [
    "areas = aca_st_int.columns\n",
    "\n",
    "PAB_st = np.zeros((len(areas),len(areas)))\n",
    "\n",
    "\n",
    "\n",
    "for i in range(len(areas)):\n",
    "    for j in range(len(areas)):\n",
    "        areai = areas[i]\n",
    "        areaj = areas[j]\n",
    "        if aca_st_int[areaj].sum() != 0: # create conditional so avoid divide by zero\n",
    "\n",
    "            union = aca_st_all[areai] + aca_st_all[areaj]\n",
    "            overlap = union == 2\n",
    "            n_overlap = overlap.sum()\n",
    "            total = aca_st_all[areaj].sum()\n",
    "            PAB_st[i,j] = n_overlap/total\n",
    "\n",
    "sns.heatmap(PAB_st, yticklabels=areas, xticklabels=areas, cbar_kws={'label': 'P(B|A)'})\n",
    "plt.ylabel(\"B\")\n",
    "plt.xlabel(\"A\")\n",
    "plt.title('Steg')\n",
    "# plt.savefig(out_path + \"st_all_pab.jpeg\", dpi=300)"
   ]
  },
  {
   "attachments": {},
   "cell_type": "markdown",
   "id": "87cf9339",
   "metadata": {},
   "source": [
    "# seperate by cell type\n",
    "\n",
    "- aca_mm = [ ]\n",
    "- aca_st = [ ]\n",
    "- aca_pt_mm = [ ]\n",
    "- aca_pt_st = [ ]\n",
    "- aca_it_mm = [ ]\n",
    "- aca_it_st = [ ]"
   ]
  },
  {
   "attachments": {},
   "cell_type": "markdown",
   "id": "4a9410f3",
   "metadata": {},
   "source": [
    "# Dot Plots"
   ]
  },
  {
   "cell_type": "code",
   "execution_count": 50,
   "id": "315826f8",
   "metadata": {},
   "outputs": [],
   "source": [
    "it_aca_proportions = []\n",
    "\n",
    "# ACA proportions\n",
    "for i in range(num_samples):\n",
    "    total = aca_it[i].shape[0]\n",
    "    prop = aca_it[i].sum()/total\n",
    "    it_aca_proportions.append(prop)\n"
   ]
  },
  {
   "cell_type": "code",
   "execution_count": 49,
   "id": "a5bb5125",
   "metadata": {},
   "outputs": [
    {
     "ename": "NameError",
     "evalue": "name 'it_aca_proportions' is not defined",
     "output_type": "error",
     "traceback": [
      "\u001b[0;31m---------------------------------------------------------------------------\u001b[0m",
      "\u001b[0;31mNameError\u001b[0m                                 Traceback (most recent call last)",
      "\u001b[1;32m/Users/eisko/github_repos/MAPseq_analysis/M194_M220_ACA_Figure 2.ipynb Cell 35\u001b[0m in \u001b[0;36m9\n\u001b[1;32m      <a href='vscode-notebook-cell:/Users/eisko/github_repos/MAPseq_analysis/M194_M220_ACA_Figure%202.ipynb#X46sZmlsZQ%3D%3D?line=6'>7</a>\u001b[0m area_prop \u001b[39m=\u001b[39m []\n\u001b[1;32m      <a href='vscode-notebook-cell:/Users/eisko/github_repos/MAPseq_analysis/M194_M220_ACA_Figure%202.ipynb#X46sZmlsZQ%3D%3D?line=7'>8</a>\u001b[0m \u001b[39mfor\u001b[39;00m i \u001b[39min\u001b[39;00m \u001b[39mrange\u001b[39m(num_samples):\n\u001b[0;32m----> <a href='vscode-notebook-cell:/Users/eisko/github_repos/MAPseq_analysis/M194_M220_ACA_Figure%202.ipynb#X46sZmlsZQ%3D%3D?line=8'>9</a>\u001b[0m     area_prop\u001b[39m.\u001b[39mappend(it_aca_proportions[i][area])\n\u001b[1;32m     <a href='vscode-notebook-cell:/Users/eisko/github_repos/MAPseq_analysis/M194_M220_ACA_Figure%202.ipynb#X46sZmlsZQ%3D%3D?line=10'>11</a>\u001b[0m area_proportion[\u001b[39m'\u001b[39m\u001b[39mproportion\u001b[39m\u001b[39m'\u001b[39m] \u001b[39m=\u001b[39m area_prop\n\u001b[1;32m     <a href='vscode-notebook-cell:/Users/eisko/github_repos/MAPseq_analysis/M194_M220_ACA_Figure%202.ipynb#X46sZmlsZQ%3D%3D?line=12'>13</a>\u001b[0m all_it_aca_proportions\u001b[39m.\u001b[39mappend(area_proportion)\n",
      "\u001b[0;31mNameError\u001b[0m: name 'it_aca_proportions' is not defined"
     ]
    }
   ],
   "source": [
    "# dot plots for individual areas\n",
    "areas = aca_it[0].columns\n",
    "\n",
    "all_it_aca_proportions = []\n",
    "for area in areas:\n",
    "    area_proportion = metadata[[\"mice\", \"species\", \"dataset\"]]\n",
    "    area_prop = []\n",
    "    for i in range(num_samples):\n",
    "        area_prop.append(it_aca_proportions[i][area])\n",
    "\n",
    "    area_proportion['proportion'] = area_prop\n",
    "    \n",
    "    all_it_aca_proportions.append(area_proportion)"
   ]
  },
  {
   "cell_type": "code",
   "execution_count": null,
   "id": "f08ec25a",
   "metadata": {},
   "outputs": [],
   "source": [
    "areasi = pd.Series(data=list(range(len(areas))), index=areas)\n",
    "# areasi"
   ]
  },
  {
   "cell_type": "code",
   "execution_count": null,
   "id": "4e198d7c",
   "metadata": {},
   "outputs": [],
   "source": [
    "# AUD\n",
    "i = areasi[\"AUD\"]\n",
    "# plt.figure(figsize=(7,7))\n",
    "df = all_it_aca_proportions[i]\n",
    "# sns.catplot(data=df, x=\"species\", y=\"proportion\", hue=\"species\", kind='point', \n",
    "#             errorbar=('ci',95), estimator=np.mean, n_boot=300)\n",
    "sns.catplot(data=df, x=\"species\", y=\"proportion\", hue=\"species\", size=10)\n",
    "plt.title(\"IT - \" + areas[i], size=20)\n",
    "plt.ylim((0))\n",
    "#     ax.set_ylim(-0.1,1.1)\n",
    "# for j in range(df.shape[0]):\n",
    "#     if df.species[j]==\"Mmus\":\n",
    "#         k=0\n",
    "#     else:\n",
    "#         k=1\n",
    "#     plt.text(x=k,y=df.proportion[j]+0.001,s=df.mice[j], \n",
    "#           fontdict=dict(color='black', size=12))\n",
    "# plt.savefig(out_path+\"it_aud_dotplot.jpeg\", dpi=300, bbox_inches='tight')"
   ]
  },
  {
   "cell_type": "code",
   "execution_count": 27,
   "id": "45ef8143",
   "metadata": {},
   "outputs": [
    {
     "ename": "NameError",
     "evalue": "name 'areasi' is not defined",
     "output_type": "error",
     "traceback": [
      "\u001b[0;31m---------------------------------------------------------------------------\u001b[0m",
      "\u001b[0;31mNameError\u001b[0m                                 Traceback (most recent call last)",
      "\u001b[1;32m/Users/eisko/github_repos/MAPseq_analysis/M194_M220_ACA_Figure 2.ipynb Cell 38\u001b[0m in \u001b[0;36m2\n\u001b[1;32m      <a href='vscode-notebook-cell:/Users/eisko/github_repos/MAPseq_analysis/M194_M220_ACA_Figure%202.ipynb#X52sZmlsZQ%3D%3D?line=0'>1</a>\u001b[0m \u001b[39m# ACAc\u001b[39;00m\n\u001b[0;32m----> <a href='vscode-notebook-cell:/Users/eisko/github_repos/MAPseq_analysis/M194_M220_ACA_Figure%202.ipynb#X52sZmlsZQ%3D%3D?line=1'>2</a>\u001b[0m i \u001b[39m=\u001b[39m areasi[\u001b[39m\"\u001b[39m\u001b[39mACAc\u001b[39m\u001b[39m\"\u001b[39m]\n\u001b[1;32m      <a href='vscode-notebook-cell:/Users/eisko/github_repos/MAPseq_analysis/M194_M220_ACA_Figure%202.ipynb#X52sZmlsZQ%3D%3D?line=2'>3</a>\u001b[0m df \u001b[39m=\u001b[39m all_it_aca_proportions[i]\n\u001b[1;32m      <a href='vscode-notebook-cell:/Users/eisko/github_repos/MAPseq_analysis/M194_M220_ACA_Figure%202.ipynb#X52sZmlsZQ%3D%3D?line=3'>4</a>\u001b[0m sns\u001b[39m.\u001b[39mcatplot(data\u001b[39m=\u001b[39mdf, x\u001b[39m=\u001b[39m\u001b[39m\"\u001b[39m\u001b[39mspecies\u001b[39m\u001b[39m\"\u001b[39m, y\u001b[39m=\u001b[39m\u001b[39m\"\u001b[39m\u001b[39mproportion\u001b[39m\u001b[39m\"\u001b[39m, hue\u001b[39m=\u001b[39m\u001b[39m\"\u001b[39m\u001b[39mspecies\u001b[39m\u001b[39m\"\u001b[39m, size\u001b[39m=\u001b[39m\u001b[39m10\u001b[39m)\n",
      "\u001b[0;31mNameError\u001b[0m: name 'areasi' is not defined"
     ]
    }
   ],
   "source": [
    "# ACAc\n",
    "i = areasi[\"ACAc\"]\n",
    "df = all_it_aca_proportions[i]\n",
    "sns.catplot(data=df, x=\"species\", y=\"proportion\", hue=\"species\", size=10)\n",
    "plt.title(\"IT - \" + areas[i], size=20)\n",
    "plt.ylim((0))\n",
    "\n",
    "# plt.savefig(out_path+\"it_omcc_dotplot.jpeg\", dpi=300, bbox_inches='tight')"
   ]
  },
  {
   "cell_type": "code",
   "execution_count": 28,
   "id": "822d0867",
   "metadata": {},
   "outputs": [
    {
     "ename": "NameError",
     "evalue": "name 'areasi' is not defined",
     "output_type": "error",
     "traceback": [
      "\u001b[0;31m---------------------------------------------------------------------------\u001b[0m",
      "\u001b[0;31mNameError\u001b[0m                                 Traceback (most recent call last)",
      "\u001b[1;32m/Users/eisko/github_repos/MAPseq_analysis/M194_M220_ACA_Figure 2.ipynb Cell 39\u001b[0m in \u001b[0;36m2\n\u001b[1;32m      <a href='vscode-notebook-cell:/Users/eisko/github_repos/MAPseq_analysis/M194_M220_ACA_Figure%202.ipynb#X53sZmlsZQ%3D%3D?line=0'>1</a>\u001b[0m \u001b[39m# STR\u001b[39;00m\n\u001b[0;32m----> <a href='vscode-notebook-cell:/Users/eisko/github_repos/MAPseq_analysis/M194_M220_ACA_Figure%202.ipynb#X53sZmlsZQ%3D%3D?line=1'>2</a>\u001b[0m i \u001b[39m=\u001b[39m areasi[\u001b[39m\"\u001b[39m\u001b[39mSTR\u001b[39m\u001b[39m\"\u001b[39m]\n\u001b[1;32m      <a href='vscode-notebook-cell:/Users/eisko/github_repos/MAPseq_analysis/M194_M220_ACA_Figure%202.ipynb#X53sZmlsZQ%3D%3D?line=2'>3</a>\u001b[0m df \u001b[39m=\u001b[39m all_it_aca_proportions[i]\n\u001b[1;32m      <a href='vscode-notebook-cell:/Users/eisko/github_repos/MAPseq_analysis/M194_M220_ACA_Figure%202.ipynb#X53sZmlsZQ%3D%3D?line=3'>4</a>\u001b[0m sns\u001b[39m.\u001b[39mcatplot(data\u001b[39m=\u001b[39mdf, x\u001b[39m=\u001b[39m\u001b[39m\"\u001b[39m\u001b[39mspecies\u001b[39m\u001b[39m\"\u001b[39m, y\u001b[39m=\u001b[39m\u001b[39m\"\u001b[39m\u001b[39mproportion\u001b[39m\u001b[39m\"\u001b[39m, hue\u001b[39m=\u001b[39m\u001b[39m\"\u001b[39m\u001b[39mspecies\u001b[39m\u001b[39m\"\u001b[39m, size\u001b[39m=\u001b[39m\u001b[39m10\u001b[39m)\n",
      "\u001b[0;31mNameError\u001b[0m: name 'areasi' is not defined"
     ]
    }
   ],
   "source": [
    "# STR\n",
    "i = areasi[\"STR\"]\n",
    "df = all_it_aca_proportions[i]\n",
    "sns.catplot(data=df, x=\"species\", y=\"proportion\", hue=\"species\", size=10)\n",
    "plt.title(\"IT - \" + areas[i], size=20)\n",
    "plt.ylim((0))\n",
    "\n",
    "# plt.savefig(out_path+\"it_STR_dotplot.jpeg\", dpi=300, bbox_inches='tight')"
   ]
  },
  {
   "cell_type": "code",
   "execution_count": 29,
   "id": "e0482c0b",
   "metadata": {},
   "outputs": [],
   "source": [
    "pt_aca_proportions = []\n",
    "\n",
    "# ACA proportions\n",
    "for i in range(num_samples):\n",
    "    total = aca_pt[i].shape[0]\n",
    "    prop = aca_pt[i].sum()/total\n",
    "    pt_aca_proportions.append(prop)\n",
    "\n",
    "\n",
    "# dot plots for individual areas\n",
    "areas = aca_pt[0].columns\n",
    "\n",
    "all_pt_aca_proportions = []\n",
    "for area in areas:\n",
    "    area_proportion = metadata[[\"mice\", \"species\", \"dataset\"]]\n",
    "    area_prop = []\n",
    "    for i in range(num_samples):\n",
    "        area_prop.append(pt_aca_proportions[i][area])\n",
    "\n",
    "    area_proportion['proportion'] = area_prop\n",
    "    \n",
    "    all_pt_aca_proportions.append(area_proportion)"
   ]
  },
  {
   "cell_type": "code",
   "execution_count": 30,
   "id": "65ac0be1",
   "metadata": {},
   "outputs": [
    {
     "ename": "NameError",
     "evalue": "name 'areasi' is not defined",
     "output_type": "error",
     "traceback": [
      "\u001b[0;31m---------------------------------------------------------------------------\u001b[0m",
      "\u001b[0;31mNameError\u001b[0m                                 Traceback (most recent call last)",
      "\u001b[1;32m/Users/eisko/github_repos/MAPseq_analysis/M194_M220_ACA_Figure 2.ipynb Cell 41\u001b[0m in \u001b[0;36m2\n\u001b[1;32m      <a href='vscode-notebook-cell:/Users/eisko/github_repos/MAPseq_analysis/M194_M220_ACA_Figure%202.ipynb#X55sZmlsZQ%3D%3D?line=0'>1</a>\u001b[0m \u001b[39m# PAG\u001b[39;00m\n\u001b[0;32m----> <a href='vscode-notebook-cell:/Users/eisko/github_repos/MAPseq_analysis/M194_M220_ACA_Figure%202.ipynb#X55sZmlsZQ%3D%3D?line=1'>2</a>\u001b[0m i \u001b[39m=\u001b[39m areasi[\u001b[39m\"\u001b[39m\u001b[39mPAG\u001b[39m\u001b[39m\"\u001b[39m]\n\u001b[1;32m      <a href='vscode-notebook-cell:/Users/eisko/github_repos/MAPseq_analysis/M194_M220_ACA_Figure%202.ipynb#X55sZmlsZQ%3D%3D?line=2'>3</a>\u001b[0m df \u001b[39m=\u001b[39m all_pt_aca_proportions[i]\n\u001b[1;32m      <a href='vscode-notebook-cell:/Users/eisko/github_repos/MAPseq_analysis/M194_M220_ACA_Figure%202.ipynb#X55sZmlsZQ%3D%3D?line=3'>4</a>\u001b[0m sns\u001b[39m.\u001b[39mcatplot(data\u001b[39m=\u001b[39mdf, x\u001b[39m=\u001b[39m\u001b[39m\"\u001b[39m\u001b[39mspecies\u001b[39m\u001b[39m\"\u001b[39m, y\u001b[39m=\u001b[39m\u001b[39m\"\u001b[39m\u001b[39mproportion\u001b[39m\u001b[39m\"\u001b[39m, hue\u001b[39m=\u001b[39m\u001b[39m\"\u001b[39m\u001b[39mspecies\u001b[39m\u001b[39m\"\u001b[39m, size\u001b[39m=\u001b[39m\u001b[39m10\u001b[39m)\n",
      "\u001b[0;31mNameError\u001b[0m: name 'areasi' is not defined"
     ]
    }
   ],
   "source": [
    "# PAG\n",
    "i = areasi[\"PAG\"]\n",
    "df = all_pt_aca_proportions[i]\n",
    "sns.catplot(data=df, x=\"species\", y=\"proportion\", hue=\"species\", size=10)\n",
    "plt.title(\"PT - \" + areas[i], size=20)\n",
    "plt.ylim((0))\n",
    "\n",
    "# plt.savefig(out_path+\"pt_PAG_dotplot.jpeg\", dpi=300, bbox_inches='tight')"
   ]
  },
  {
   "cell_type": "code",
   "execution_count": 31,
   "id": "b96d808c",
   "metadata": {},
   "outputs": [
    {
     "ename": "NameError",
     "evalue": "name 'areasi' is not defined",
     "output_type": "error",
     "traceback": [
      "\u001b[0;31m---------------------------------------------------------------------------\u001b[0m",
      "\u001b[0;31mNameError\u001b[0m                                 Traceback (most recent call last)",
      "\u001b[1;32m/Users/eisko/github_repos/MAPseq_analysis/M194_M220_ACA_Figure 2.ipynb Cell 42\u001b[0m in \u001b[0;36m2\n\u001b[1;32m      <a href='vscode-notebook-cell:/Users/eisko/github_repos/MAPseq_analysis/M194_M220_ACA_Figure%202.ipynb#X56sZmlsZQ%3D%3D?line=0'>1</a>\u001b[0m \u001b[39m# SNr\u001b[39;00m\n\u001b[0;32m----> <a href='vscode-notebook-cell:/Users/eisko/github_repos/MAPseq_analysis/M194_M220_ACA_Figure%202.ipynb#X56sZmlsZQ%3D%3D?line=1'>2</a>\u001b[0m i \u001b[39m=\u001b[39m areasi[\u001b[39m\"\u001b[39m\u001b[39mSNr\u001b[39m\u001b[39m\"\u001b[39m]\n\u001b[1;32m      <a href='vscode-notebook-cell:/Users/eisko/github_repos/MAPseq_analysis/M194_M220_ACA_Figure%202.ipynb#X56sZmlsZQ%3D%3D?line=2'>3</a>\u001b[0m df \u001b[39m=\u001b[39m all_pt_aca_proportions[i]\n\u001b[1;32m      <a href='vscode-notebook-cell:/Users/eisko/github_repos/MAPseq_analysis/M194_M220_ACA_Figure%202.ipynb#X56sZmlsZQ%3D%3D?line=3'>4</a>\u001b[0m sns\u001b[39m.\u001b[39mcatplot(data\u001b[39m=\u001b[39mdf, x\u001b[39m=\u001b[39m\u001b[39m\"\u001b[39m\u001b[39mspecies\u001b[39m\u001b[39m\"\u001b[39m, y\u001b[39m=\u001b[39m\u001b[39m\"\u001b[39m\u001b[39mproportion\u001b[39m\u001b[39m\"\u001b[39m, hue\u001b[39m=\u001b[39m\u001b[39m\"\u001b[39m\u001b[39mspecies\u001b[39m\u001b[39m\"\u001b[39m, size\u001b[39m=\u001b[39m\u001b[39m10\u001b[39m)\n",
      "\u001b[0;31mNameError\u001b[0m: name 'areasi' is not defined"
     ]
    }
   ],
   "source": [
    "# SNr\n",
    "i = areasi[\"SNr\"]\n",
    "df = all_pt_aca_proportions[i]\n",
    "sns.catplot(data=df, x=\"species\", y=\"proportion\", hue=\"species\", size=10)\n",
    "plt.title(\"PT - \" + areas[i], size=20)\n",
    "plt.ylim((0))\n",
    "\n",
    "# plt.savefig(out_path+\"pt_SNr_dotplot.jpeg\", dpi=300, bbox_inches='tight')"
   ]
  },
  {
   "attachments": {},
   "cell_type": "markdown",
   "id": "56a821a7",
   "metadata": {},
   "source": [
    "# histograms"
   ]
  },
  {
   "cell_type": "code",
   "execution_count": 32,
   "id": "a80ffd7c",
   "metadata": {},
   "outputs": [],
   "source": [
    "# combine it/pt into one df\n",
    "aca_mm_it_all = pd.concat(aca_it_mm)\n",
    "aca_mm_pt_all = pd.concat(aca_pt_mm)\n",
    "aca_st_it_all = pd.concat(aca_it_st)\n",
    "aca_st_pt_all = pd.concat(aca_pt_st)\n"
   ]
  },
  {
   "cell_type": "code",
   "execution_count": 33,
   "id": "3214b639",
   "metadata": {},
   "outputs": [],
   "source": [
    "# create histograms by sampling 100 neurons\n",
    "\n",
    "###### functions\n",
    "def est_proj_prob(bin_proj, reps=1000, sample_size=300):\n",
    "    \"\"\"\n",
    "    funtion takes subsample of projection matrix and repetitions as input.\n",
    "    Funtion outputs vector where dim0 = projection probability of subsample, and dim1 = repetition\n",
    "    \"\"\"\n",
    "    \n",
    "    est_probs = []\n",
    "    for i in range(reps):\n",
    "        new = bin_proj.sample(sample_size)\n",
    "        est_probs.append(new.sum()/sample_size)\n",
    "        \n",
    "#         if i%100 == 0:\n",
    "#             print('finished simulation', i)\n",
    "        \n",
    "    return np.array(est_probs)"
   ]
  },
  {
   "cell_type": "code",
   "execution_count": 34,
   "id": "a79ca012",
   "metadata": {},
   "outputs": [],
   "source": [
    "sim_reps = 1000\n",
    "sim_sample_size=300"
   ]
  },
  {
   "cell_type": "code",
   "execution_count": 35,
   "id": "d8f46a3d",
   "metadata": {},
   "outputs": [],
   "source": [
    "# create distribution by randomly sampling data\n",
    "mm_it_probs = est_proj_prob(aca_mm_it_all, reps=sim_reps, sample_size=sim_sample_size)\n",
    "    \n",
    "# calculate fraction of projections in singing mice\n",
    "st_it_probs = est_proj_prob(aca_st_it_all, reps=sim_reps, sample_size=sim_sample_size)\n",
    "\n",
    "mm_it_probs = pd.DataFrame(mm_it_probs, columns=aca_mm_it_all.columns)\n",
    "st_it_probs = pd.DataFrame(st_it_probs, columns=aca_st_it_all.columns)\n"
   ]
  },
  {
   "cell_type": "code",
   "execution_count": 36,
   "id": "f6564c76",
   "metadata": {},
   "outputs": [
    {
     "data": {
      "text/plain": [
       "(0.0, 0.084)"
      ]
     },
     "execution_count": 36,
     "metadata": {},
     "output_type": "execute_result"
    },
    {
     "data": {
      "image/png": "[encoded data removed]",
      "text/plain": [
       "<Figure size 640x480 with 1 Axes>"
      ]
     },
     "metadata": {},
     "output_type": "display_data"
    }
   ],
   "source": [
    "# AUD\n",
    "areas = mm_it_probs.columns\n",
    "areasi = pd.Series(data=list(range(len(areas))), index=areas)\n",
    "i = areasi[\"AUD\"]\n",
    "plt.hist(mm_it_probs[areas[i]], alpha=0.3, label=\"Mmus\")\n",
    "plt.hist(st_it_probs[areas[i]], alpha=0.3, label=\"Steg\")\n",
    "plt.legend()\n",
    "plt.title(\"IT - \" + areas[i])\n",
    "plt.xlabel(\"Neuron Proportion\")\n",
    "plt.ylabel(\"Frequency\")\n",
    "plt.xlim((0))\n",
    "# plt.savefig(out_path+\"aca_it_AUD_hist.jpeg\", dpi=300)\n"
   ]
  },
  {
   "cell_type": "code",
   "execution_count": 37,
   "id": "d8f9bfbd",
   "metadata": {},
   "outputs": [
    {
     "data": {
      "text/plain": [
       "(0.0, 0.9196666666666666)"
      ]
     },
     "execution_count": 37,
     "metadata": {},
     "output_type": "execute_result"
    },
    {
     "data": {
      "image/png": "[encoded data removed]",
      "text/plain": [
       "<Figure size 640x480 with 1 Axes>"
      ]
     },
     "metadata": {},
     "output_type": "display_data"
    }
   ],
   "source": [
    "# ACAc\n",
    "areas = mm_it_probs.columns\n",
    "areasi = pd.Series(data=list(range(len(areas))), index=areas)\n",
    "i = areasi[\"ACAc\"]\n",
    "plt.hist(mm_it_probs[areas[i]], alpha=0.3, label=\"Mmus\")\n",
    "plt.hist(st_it_probs[areas[i]], alpha=0.3, label=\"Steg\")\n",
    "plt.legend()\n",
    "plt.title(\"IT - \" + areas[i])\n",
    "plt.xlabel(\"Neuron Proportion\")\n",
    "plt.ylabel(\"Frequency\")\n",
    "plt.xlim((0))\n",
    "\n",
    "# plt.savefig(out_path+\"aca_it_ACAc_hist.jpeg\", dpi=300)\n"
   ]
  },
  {
   "cell_type": "code",
   "execution_count": 38,
   "id": "6578ab3e",
   "metadata": {},
   "outputs": [
    {
     "data": {
      "text/plain": [
       "(0.0, 0.9521666666666667)"
      ]
     },
     "execution_count": 38,
     "metadata": {},
     "output_type": "execute_result"
    },
    {
     "data": {
      "image/png": "[encoded data removed]",
      "text/plain": [
       "<Figure size 640x480 with 1 Axes>"
      ]
     },
     "metadata": {},
     "output_type": "display_data"
    }
   ],
   "source": [
    "# STR\n",
    "areas = mm_it_probs.columns\n",
    "areasi = pd.Series(data=list(range(len(areas))), index=areas)\n",
    "i = areasi[\"STR\"]\n",
    "plt.hist(mm_it_probs[areas[i]], alpha=0.3, label=\"Mmus\")\n",
    "plt.hist(st_it_probs[areas[i]], alpha=0.3, label=\"Steg\")\n",
    "plt.legend()\n",
    "plt.title(\"IT - \" + areas[i])\n",
    "plt.xlabel(\"Neuron Proportion\")\n",
    "plt.ylabel(\"Frequency\")\n",
    "plt.xlim((0))\n",
    "\n",
    "# plt.savefig(out_path+\"aca_it_STR_hist.jpeg\", dpi=300)\n"
   ]
  },
  {
   "cell_type": "code",
   "execution_count": 39,
   "id": "5248474a",
   "metadata": {},
   "outputs": [],
   "source": [
    "# create distribution by randomly sampling data\n",
    "mm_pt_probs = est_proj_prob(aca_mm_pt_all, reps=sim_reps, sample_size=sim_sample_size)\n",
    "    \n",
    "# calculate fraction of projections in singing mice\n",
    "st_pt_probs = est_proj_prob(aca_st_pt_all, reps=sim_reps, sample_size=sim_sample_size)\n",
    "\n",
    "mm_pt_probs = pd.DataFrame(mm_pt_probs, columns=aca_mm_pt_all.columns)\n",
    "st_pt_probs = pd.DataFrame(st_pt_probs, columns=aca_st_pt_all.columns)\n"
   ]
  },
  {
   "cell_type": "code",
   "execution_count": 40,
   "id": "a41b03c8",
   "metadata": {},
   "outputs": [
    {
     "data": {
      "text/plain": [
       "(0.0, 0.8699999999999999)"
      ]
     },
     "execution_count": 40,
     "metadata": {},
     "output_type": "execute_result"
    },
    {
     "data": {
      "image/png": "[encoded data removed]",
      "text/plain": [
       "<Figure size 640x480 with 1 Axes>"
      ]
     },
     "metadata": {},
     "output_type": "display_data"
    }
   ],
   "source": [
    "# PAG\n",
    "areas = mm_pt_probs.columns\n",
    "areasi = pd.Series(data=list(range(len(areas))), index=areas)\n",
    "i = areasi[\"PAG\"]\n",
    "plt.hist(mm_pt_probs[areas[i]], alpha=0.3, label=\"Mmus\")\n",
    "plt.hist(st_pt_probs[areas[i]], alpha=0.3, label=\"Steg\")\n",
    "plt.legend()\n",
    "plt.title(\"PT - \" + areas[i])\n",
    "plt.xlabel(\"Neuron Proportion\")\n",
    "plt.ylabel(\"Frequency\")\n",
    "plt.xlim((0))\n",
    "\n",
    "# plt.savefig(out_path+\"aca_pt_PAG_hist.jpeg\", dpi=300)\n"
   ]
  },
  {
   "cell_type": "code",
   "execution_count": 41,
   "id": "3396a118",
   "metadata": {},
   "outputs": [
    {
     "data": {
      "text/plain": [
       "(0.0, 0.5796666666666666)"
      ]
     },
     "execution_count": 41,
     "metadata": {},
     "output_type": "execute_result"
    },
    {
     "data": {
      "image/png": "[encoded data removed]",
      "text/plain": [
       "<Figure size 640x480 with 1 Axes>"
      ]
     },
     "metadata": {},
     "output_type": "display_data"
    }
   ],
   "source": [
    "# SNr\n",
    "areas = mm_pt_probs.columns\n",
    "areasi = pd.Series(data=list(range(len(areas))), index=areas)\n",
    "i = areasi[\"SNr\"]\n",
    "plt.hist(mm_pt_probs[areas[i]], alpha=0.3, label=\"Mmus\")\n",
    "plt.hist(st_pt_probs[areas[i]], alpha=0.3, label=\"Steg\")\n",
    "plt.legend()\n",
    "plt.title(\"PT - \" + areas[i])\n",
    "plt.xlabel(\"Neuron Proportion\")\n",
    "plt.ylabel(\"Frequency\")\n",
    "plt.xlim((0))\n",
    "\n",
    "# plt.savefig(out_path+\"aca_pt_SNr_hist.jpeg\", dpi=300)\n"
   ]
  },
  {
   "attachments": {},
   "cell_type": "markdown",
   "id": "cc5416b1",
   "metadata": {},
   "source": [
    "# Volcano plot"
   ]
  },
  {
   "cell_type": "code",
   "execution_count": 42,
   "id": "e4b8090d",
   "metadata": {},
   "outputs": [],
   "source": [
    "# calculate means\n",
    "mm_it_means = mm_it_probs.mean()\n",
    "st_it_means = st_it_probs.mean()\n",
    "\n",
    "p_vals = []\n",
    "for i in range(len(areas)):\n",
    "    roi = areas[i]\n",
    "    if st_it_means[roi] > mm_it_means[roi]: # if st mean>mm mean, look for values greater\n",
    "        above = st_it_probs[roi] > mm_it_means[roi]\n",
    "        n_above= sum(above)\n",
    "        p_vals.append(1 - n_above/sim_reps)\n",
    "    elif st_it_means[roi] < mm_it_means[roi]: #else if st mean < mm mean, look for values lesser\n",
    "        below = st_it_probs[roi] < mm_it_means[roi]\n",
    "        n_below = sum(below)\n",
    "        p_vals.append(1 - n_below/sim_reps)\n",
    "    elif st_it_means[roi] == mm_it_means[roi]:\n",
    "        above = st_it_probs[roi] > mm_it_means[roi]\n",
    "        n_above= sum(above)\n",
    "        p_vals.append(1 - n_above/sim_reps)\n",
    "    elif st_it_means[roi]==mm_it_means[roi] and st_it_means[roi] == 0:\n",
    "        p_vals.append(1)\n",
    "    \n",
    "\n"
   ]
  },
  {
   "cell_type": "code",
   "execution_count": 43,
   "id": "2645c70a",
   "metadata": {},
   "outputs": [
    {
     "data": {
      "text/html": [
       "<div>\n",
       "<style scoped>\n",
       "    .dataframe tbody tr th:only-of-type {\n",
       "        vertical-align: middle;\n",
       "    }\n",
       "\n",
       "    .dataframe tbody tr th {\n",
       "        vertical-align: top;\n",
       "    }\n",
       "\n",
       "    .dataframe thead th {\n",
       "        text-align: right;\n",
       "    }\n",
       "</style>\n",
       "<table border=\"1\" class=\"dataframe\">\n",
       "  <thead>\n",
       "    <tr style=\"text-align: right;\">\n",
       "      <th></th>\n",
       "      <th>area</th>\n",
       "      <th>p-value</th>\n",
       "      <th>mm_mean</th>\n",
       "      <th>st_mean</th>\n",
       "      <th>effect_size</th>\n",
       "      <th>nlog10_p</th>\n",
       "    </tr>\n",
       "  </thead>\n",
       "  <tbody>\n",
       "    <tr>\n",
       "      <th>0</th>\n",
       "      <td>OB</td>\n",
       "      <td>0.109</td>\n",
       "      <td>0.000613</td>\n",
       "      <td>0.006993</td>\n",
       "      <td>0.838738</td>\n",
       "      <td>0.962175</td>\n",
       "    </tr>\n",
       "    <tr>\n",
       "      <th>1</th>\n",
       "      <td>OMCi</td>\n",
       "      <td>0.144</td>\n",
       "      <td>0.013790</td>\n",
       "      <td>0.009117</td>\n",
       "      <td>-0.204016</td>\n",
       "      <td>0.841336</td>\n",
       "    </tr>\n",
       "    <tr>\n",
       "      <th>2</th>\n",
       "      <td>ACAi</td>\n",
       "      <td>1.000</td>\n",
       "      <td>1.000000</td>\n",
       "      <td>1.000000</td>\n",
       "      <td>0.000000</td>\n",
       "      <td>-0.000043</td>\n",
       "    </tr>\n",
       "    <tr>\n",
       "      <th>3</th>\n",
       "      <td>OMCc</td>\n",
       "      <td>0.000</td>\n",
       "      <td>0.068647</td>\n",
       "      <td>0.116690</td>\n",
       "      <td>0.259222</td>\n",
       "      <td>4.000000</td>\n",
       "    </tr>\n",
       "    <tr>\n",
       "      <th>4</th>\n",
       "      <td>ACAc</td>\n",
       "      <td>0.000</td>\n",
       "      <td>0.674627</td>\n",
       "      <td>0.817377</td>\n",
       "      <td>0.095677</td>\n",
       "      <td>4.000000</td>\n",
       "    </tr>\n",
       "    <tr>\n",
       "      <th>5</th>\n",
       "      <td>AUD</td>\n",
       "      <td>0.089</td>\n",
       "      <td>0.039550</td>\n",
       "      <td>0.025917</td>\n",
       "      <td>-0.208248</td>\n",
       "      <td>1.050122</td>\n",
       "    </tr>\n",
       "    <tr>\n",
       "      <th>6</th>\n",
       "      <td>STR</td>\n",
       "      <td>0.000</td>\n",
       "      <td>0.862723</td>\n",
       "      <td>0.594993</td>\n",
       "      <td>-0.183664</td>\n",
       "      <td>4.000000</td>\n",
       "    </tr>\n",
       "    <tr>\n",
       "      <th>7</th>\n",
       "      <td>TH</td>\n",
       "      <td>1.000</td>\n",
       "      <td>0.000000</td>\n",
       "      <td>0.000000</td>\n",
       "      <td>NaN</td>\n",
       "      <td>-0.000043</td>\n",
       "    </tr>\n",
       "    <tr>\n",
       "      <th>8</th>\n",
       "      <td>HY</td>\n",
       "      <td>0.265</td>\n",
       "      <td>0.009057</td>\n",
       "      <td>0.012800</td>\n",
       "      <td>0.171267</td>\n",
       "      <td>0.576590</td>\n",
       "    </tr>\n",
       "    <tr>\n",
       "      <th>9</th>\n",
       "      <td>AMY</td>\n",
       "      <td>1.000</td>\n",
       "      <td>0.000000</td>\n",
       "      <td>0.000000</td>\n",
       "      <td>NaN</td>\n",
       "      <td>-0.000043</td>\n",
       "    </tr>\n",
       "    <tr>\n",
       "      <th>10</th>\n",
       "      <td>HIP</td>\n",
       "      <td>0.884</td>\n",
       "      <td>0.000083</td>\n",
       "      <td>0.000400</td>\n",
       "      <td>0.655172</td>\n",
       "      <td>0.053499</td>\n",
       "    </tr>\n",
       "    <tr>\n",
       "      <th>11</th>\n",
       "      <td>SNr</td>\n",
       "      <td>1.000</td>\n",
       "      <td>0.000000</td>\n",
       "      <td>0.000000</td>\n",
       "      <td>NaN</td>\n",
       "      <td>-0.000043</td>\n",
       "    </tr>\n",
       "    <tr>\n",
       "      <th>12</th>\n",
       "      <td>SCm</td>\n",
       "      <td>1.000</td>\n",
       "      <td>0.000000</td>\n",
       "      <td>0.000000</td>\n",
       "      <td>NaN</td>\n",
       "      <td>-0.000043</td>\n",
       "    </tr>\n",
       "    <tr>\n",
       "      <th>13</th>\n",
       "      <td>PG</td>\n",
       "      <td>1.000</td>\n",
       "      <td>0.000000</td>\n",
       "      <td>0.000000</td>\n",
       "      <td>NaN</td>\n",
       "      <td>-0.000043</td>\n",
       "    </tr>\n",
       "    <tr>\n",
       "      <th>14</th>\n",
       "      <td>PAG</td>\n",
       "      <td>1.000</td>\n",
       "      <td>0.000000</td>\n",
       "      <td>0.000000</td>\n",
       "      <td>NaN</td>\n",
       "      <td>-0.000043</td>\n",
       "    </tr>\n",
       "    <tr>\n",
       "      <th>15</th>\n",
       "      <td>RN</td>\n",
       "      <td>1.000</td>\n",
       "      <td>0.000000</td>\n",
       "      <td>0.000000</td>\n",
       "      <td>NaN</td>\n",
       "      <td>-0.000043</td>\n",
       "    </tr>\n",
       "  </tbody>\n",
       "</table>\n",
       "</div>"
      ],
      "text/plain": [
       "    area  p-value   mm_mean   st_mean  effect_size  nlog10_p\n",
       "0     OB    0.109  0.000613  0.006993     0.838738  0.962175\n",
       "1   OMCi    0.144  0.013790  0.009117    -0.204016  0.841336\n",
       "2   ACAi    1.000  1.000000  1.000000     0.000000 -0.000043\n",
       "3   OMCc    0.000  0.068647  0.116690     0.259222  4.000000\n",
       "4   ACAc    0.000  0.674627  0.817377     0.095677  4.000000\n",
       "5    AUD    0.089  0.039550  0.025917    -0.208248  1.050122\n",
       "6    STR    0.000  0.862723  0.594993    -0.183664  4.000000\n",
       "7     TH    1.000  0.000000  0.000000          NaN -0.000043\n",
       "8     HY    0.265  0.009057  0.012800     0.171267  0.576590\n",
       "9    AMY    1.000  0.000000  0.000000          NaN -0.000043\n",
       "10   HIP    0.884  0.000083  0.000400     0.655172  0.053499\n",
       "11   SNr    1.000  0.000000  0.000000          NaN -0.000043\n",
       "12   SCm    1.000  0.000000  0.000000          NaN -0.000043\n",
       "13    PG    1.000  0.000000  0.000000          NaN -0.000043\n",
       "14   PAG    1.000  0.000000  0.000000          NaN -0.000043\n",
       "15    RN    1.000  0.000000  0.000000          NaN -0.000043"
      ]
     },
     "execution_count": 43,
     "metadata": {},
     "output_type": "execute_result"
    }
   ],
   "source": [
    "plot_it = pd.DataFrame({\"area\":areas})\n",
    "plot_it[\"p-value\"] = p_vals\n",
    "plot_it[\"mm_mean\"] = mm_it_means.values\n",
    "plot_it[\"st_mean\"] = st_it_means.values\n",
    "plot_it[\"effect_size\"] = (plot_it[\"st_mean\"]-plot_it[\"mm_mean\"]) / (plot_it[\"st_mean\"] + plot_it[\"mm_mean\"])\n",
    "plot_it[\"nlog10_p\"] = -np.log10(plot_it[\"p-value\"]+0.0001)\n",
    "plot_it"
   ]
  },
  {
   "cell_type": "code",
   "execution_count": 44,
   "id": "a409438e",
   "metadata": {},
   "outputs": [
    {
     "data": {
      "text/html": [
       "<div>\n",
       "<style scoped>\n",
       "    .dataframe tbody tr th:only-of-type {\n",
       "        vertical-align: middle;\n",
       "    }\n",
       "\n",
       "    .dataframe tbody tr th {\n",
       "        vertical-align: top;\n",
       "    }\n",
       "\n",
       "    .dataframe thead th {\n",
       "        text-align: right;\n",
       "    }\n",
       "</style>\n",
       "<table border=\"1\" class=\"dataframe\">\n",
       "  <thead>\n",
       "    <tr style=\"text-align: right;\">\n",
       "      <th></th>\n",
       "      <th>area</th>\n",
       "      <th>p-value</th>\n",
       "      <th>mm_mean</th>\n",
       "      <th>st_mean</th>\n",
       "      <th>effect_size</th>\n",
       "      <th>nlog10_p</th>\n",
       "    </tr>\n",
       "  </thead>\n",
       "  <tbody>\n",
       "    <tr>\n",
       "      <th>0</th>\n",
       "      <td>ACAc</td>\n",
       "      <td>0.000</td>\n",
       "      <td>0.674627</td>\n",
       "      <td>0.817377</td>\n",
       "      <td>0.095677</td>\n",
       "      <td>4.000000</td>\n",
       "    </tr>\n",
       "    <tr>\n",
       "      <th>1</th>\n",
       "      <td>AUD</td>\n",
       "      <td>0.089</td>\n",
       "      <td>0.039550</td>\n",
       "      <td>0.025917</td>\n",
       "      <td>-0.208248</td>\n",
       "      <td>1.050122</td>\n",
       "    </tr>\n",
       "    <tr>\n",
       "      <th>2</th>\n",
       "      <td>STR</td>\n",
       "      <td>0.000</td>\n",
       "      <td>0.862723</td>\n",
       "      <td>0.594993</td>\n",
       "      <td>-0.183664</td>\n",
       "      <td>4.000000</td>\n",
       "    </tr>\n",
       "    <tr>\n",
       "      <th>3</th>\n",
       "      <td>HY</td>\n",
       "      <td>0.265</td>\n",
       "      <td>0.009057</td>\n",
       "      <td>0.012800</td>\n",
       "      <td>0.171267</td>\n",
       "      <td>0.576590</td>\n",
       "    </tr>\n",
       "  </tbody>\n",
       "</table>\n",
       "</div>"
      ],
      "text/plain": [
       "   area  p-value   mm_mean   st_mean  effect_size  nlog10_p\n",
       "0  ACAc    0.000  0.674627  0.817377     0.095677  4.000000\n",
       "1   AUD    0.089  0.039550  0.025917    -0.208248  1.050122\n",
       "2   STR    0.000  0.862723  0.594993    -0.183664  4.000000\n",
       "3    HY    0.265  0.009057  0.012800     0.171267  0.576590"
      ]
     },
     "execution_count": 44,
     "metadata": {},
     "output_type": "execute_result"
    }
   ],
   "source": [
    "# drop irrelevant rows\n",
    "non_it = [\"OB\", \"OMCi\", \"ACAi\", \"OMCc\", \"TH\", \"AMY\", \"HIP\", \"SNr\", \"SCm\", \"PG\", \"PAG\", \"RN\"]\n",
    "idx = plot_it[\"area\"].isin(non_it)\n",
    "plot_it = plot_it[~idx].reset_index(drop=True)\n",
    "plot_it"
   ]
  },
  {
   "cell_type": "code",
   "execution_count": 45,
   "id": "079fd68b",
   "metadata": {},
   "outputs": [
    {
     "ename": "AttributeError",
     "evalue": "PathCollection.set() got an unexpected keyword argument 'size'",
     "output_type": "error",
     "traceback": [
      "\u001b[0;31m---------------------------------------------------------------------------\u001b[0m",
      "\u001b[0;31mAttributeError\u001b[0m                            Traceback (most recent call last)",
      "\u001b[1;32m/Users/eisko/github_repos/MAPseq_analysis/M194_M220_ACA_Figure 2.ipynb Cell 58\u001b[0m in \u001b[0;36m6\n\u001b[1;32m      <a href='vscode-notebook-cell:/Users/eisko/github_repos/MAPseq_analysis/M194_M220_ACA_Figure%202.ipynb#Y111sZmlsZQ%3D%3D?line=2'>3</a>\u001b[0m x\u001b[39m=\u001b[39mdf\u001b[39m.\u001b[39meffect_size\n\u001b[1;32m      <a href='vscode-notebook-cell:/Users/eisko/github_repos/MAPseq_analysis/M194_M220_ACA_Figure%202.ipynb#Y111sZmlsZQ%3D%3D?line=3'>4</a>\u001b[0m y\u001b[39m=\u001b[39mdf\u001b[39m.\u001b[39mnlog10_p\n\u001b[0;32m----> <a href='vscode-notebook-cell:/Users/eisko/github_repos/MAPseq_analysis/M194_M220_ACA_Figure%202.ipynb#Y111sZmlsZQ%3D%3D?line=5'>6</a>\u001b[0m plt\u001b[39m.\u001b[39;49mscatter(x,y, size\u001b[39m=\u001b[39;49m\u001b[39m10\u001b[39;49m)\n\u001b[1;32m      <a href='vscode-notebook-cell:/Users/eisko/github_repos/MAPseq_analysis/M194_M220_ACA_Figure%202.ipynb#Y111sZmlsZQ%3D%3D?line=6'>7</a>\u001b[0m plt\u001b[39m.\u001b[39mxlim([\u001b[39m-\u001b[39m\u001b[39m1\u001b[39m,\u001b[39m1\u001b[39m])\n\u001b[1;32m      <a href='vscode-notebook-cell:/Users/eisko/github_repos/MAPseq_analysis/M194_M220_ACA_Figure%202.ipynb#Y111sZmlsZQ%3D%3D?line=7'>8</a>\u001b[0m \u001b[39m# plt.ylim([-0.1,4])\u001b[39;00m\n",
      "File \u001b[0;32m~/miniconda3/envs/MAPseq/lib/python3.10/site-packages/matplotlib/pyplot.py:2778\u001b[0m, in \u001b[0;36mscatter\u001b[0;34m(x, y, s, c, marker, cmap, norm, vmin, vmax, alpha, linewidths, edgecolors, plotnonfinite, data, **kwargs)\u001b[0m\n\u001b[1;32m   2773\u001b[0m \u001b[39m@_copy_docstring_and_deprecators\u001b[39m(Axes\u001b[39m.\u001b[39mscatter)\n\u001b[1;32m   2774\u001b[0m \u001b[39mdef\u001b[39;00m \u001b[39mscatter\u001b[39m(\n\u001b[1;32m   2775\u001b[0m         x, y, s\u001b[39m=\u001b[39m\u001b[39mNone\u001b[39;00m, c\u001b[39m=\u001b[39m\u001b[39mNone\u001b[39;00m, marker\u001b[39m=\u001b[39m\u001b[39mNone\u001b[39;00m, cmap\u001b[39m=\u001b[39m\u001b[39mNone\u001b[39;00m, norm\u001b[39m=\u001b[39m\u001b[39mNone\u001b[39;00m,\n\u001b[1;32m   2776\u001b[0m         vmin\u001b[39m=\u001b[39m\u001b[39mNone\u001b[39;00m, vmax\u001b[39m=\u001b[39m\u001b[39mNone\u001b[39;00m, alpha\u001b[39m=\u001b[39m\u001b[39mNone\u001b[39;00m, linewidths\u001b[39m=\u001b[39m\u001b[39mNone\u001b[39;00m, \u001b[39m*\u001b[39m,\n\u001b[1;32m   2777\u001b[0m         edgecolors\u001b[39m=\u001b[39m\u001b[39mNone\u001b[39;00m, plotnonfinite\u001b[39m=\u001b[39m\u001b[39mFalse\u001b[39;00m, data\u001b[39m=\u001b[39m\u001b[39mNone\u001b[39;00m, \u001b[39m*\u001b[39m\u001b[39m*\u001b[39mkwargs):\n\u001b[0;32m-> 2778\u001b[0m     __ret \u001b[39m=\u001b[39m gca()\u001b[39m.\u001b[39;49mscatter(\n\u001b[1;32m   2779\u001b[0m         x, y, s\u001b[39m=\u001b[39;49ms, c\u001b[39m=\u001b[39;49mc, marker\u001b[39m=\u001b[39;49mmarker, cmap\u001b[39m=\u001b[39;49mcmap, norm\u001b[39m=\u001b[39;49mnorm,\n\u001b[1;32m   2780\u001b[0m         vmin\u001b[39m=\u001b[39;49mvmin, vmax\u001b[39m=\u001b[39;49mvmax, alpha\u001b[39m=\u001b[39;49malpha, linewidths\u001b[39m=\u001b[39;49mlinewidths,\n\u001b[1;32m   2781\u001b[0m         edgecolors\u001b[39m=\u001b[39;49medgecolors, plotnonfinite\u001b[39m=\u001b[39;49mplotnonfinite,\n\u001b[1;32m   2782\u001b[0m         \u001b[39m*\u001b[39;49m\u001b[39m*\u001b[39;49m({\u001b[39m\"\u001b[39;49m\u001b[39mdata\u001b[39;49m\u001b[39m\"\u001b[39;49m: data} \u001b[39mif\u001b[39;49;00m data \u001b[39mis\u001b[39;49;00m \u001b[39mnot\u001b[39;49;00m \u001b[39mNone\u001b[39;49;00m \u001b[39melse\u001b[39;49;00m {}), \u001b[39m*\u001b[39;49m\u001b[39m*\u001b[39;49mkwargs)\n\u001b[1;32m   2783\u001b[0m     sci(__ret)\n\u001b[1;32m   2784\u001b[0m     \u001b[39mreturn\u001b[39;00m __ret\n",
      "File \u001b[0;32m~/miniconda3/envs/MAPseq/lib/python3.10/site-packages/matplotlib/__init__.py:1423\u001b[0m, in \u001b[0;36m_preprocess_data.<locals>.inner\u001b[0;34m(ax, data, *args, **kwargs)\u001b[0m\n\u001b[1;32m   1420\u001b[0m \u001b[39m@functools\u001b[39m\u001b[39m.\u001b[39mwraps(func)\n\u001b[1;32m   1421\u001b[0m \u001b[39mdef\u001b[39;00m \u001b[39minner\u001b[39m(ax, \u001b[39m*\u001b[39margs, data\u001b[39m=\u001b[39m\u001b[39mNone\u001b[39;00m, \u001b[39m*\u001b[39m\u001b[39m*\u001b[39mkwargs):\n\u001b[1;32m   1422\u001b[0m     \u001b[39mif\u001b[39;00m data \u001b[39mis\u001b[39;00m \u001b[39mNone\u001b[39;00m:\n\u001b[0;32m-> 1423\u001b[0m         \u001b[39mreturn\u001b[39;00m func(ax, \u001b[39m*\u001b[39;49m\u001b[39mmap\u001b[39;49m(sanitize_sequence, args), \u001b[39m*\u001b[39;49m\u001b[39m*\u001b[39;49mkwargs)\n\u001b[1;32m   1425\u001b[0m     bound \u001b[39m=\u001b[39m new_sig\u001b[39m.\u001b[39mbind(ax, \u001b[39m*\u001b[39margs, \u001b[39m*\u001b[39m\u001b[39m*\u001b[39mkwargs)\n\u001b[1;32m   1426\u001b[0m     auto_label \u001b[39m=\u001b[39m (bound\u001b[39m.\u001b[39marguments\u001b[39m.\u001b[39mget(label_namer)\n\u001b[1;32m   1427\u001b[0m                   \u001b[39mor\u001b[39;00m bound\u001b[39m.\u001b[39mkwargs\u001b[39m.\u001b[39mget(label_namer))\n",
      "File \u001b[0;32m~/miniconda3/envs/MAPseq/lib/python3.10/site-packages/matplotlib/axes/_axes.py:4626\u001b[0m, in \u001b[0;36mAxes.scatter\u001b[0;34m(self, x, y, s, c, marker, cmap, norm, vmin, vmax, alpha, linewidths, edgecolors, plotnonfinite, **kwargs)\u001b[0m\n\u001b[1;32m   4622\u001b[0m         keys_str \u001b[39m=\u001b[39m \u001b[39m\"\u001b[39m\u001b[39m, \u001b[39m\u001b[39m\"\u001b[39m\u001b[39m.\u001b[39mjoin(\u001b[39mf\u001b[39m\u001b[39m\"\u001b[39m\u001b[39m'\u001b[39m\u001b[39m{\u001b[39;00mk\u001b[39m}\u001b[39;00m\u001b[39m'\u001b[39m\u001b[39m\"\u001b[39m \u001b[39mfor\u001b[39;00m k \u001b[39min\u001b[39;00m extra_keys)\n\u001b[1;32m   4623\u001b[0m         _api\u001b[39m.\u001b[39mwarn_external(\n\u001b[1;32m   4624\u001b[0m             \u001b[39m\"\u001b[39m\u001b[39mNo data for colormapping provided via \u001b[39m\u001b[39m'\u001b[39m\u001b[39mc\u001b[39m\u001b[39m'\u001b[39m\u001b[39m. \u001b[39m\u001b[39m\"\u001b[39m\n\u001b[1;32m   4625\u001b[0m             \u001b[39mf\u001b[39m\u001b[39m\"\u001b[39m\u001b[39mParameters \u001b[39m\u001b[39m{\u001b[39;00mkeys_str\u001b[39m}\u001b[39;00m\u001b[39m will be ignored\u001b[39m\u001b[39m\"\u001b[39m)\n\u001b[0;32m-> 4626\u001b[0m collection\u001b[39m.\u001b[39;49m_internal_update(kwargs)\n\u001b[1;32m   4628\u001b[0m \u001b[39m# Classic mode only:\u001b[39;00m\n\u001b[1;32m   4629\u001b[0m \u001b[39m# ensure there are margins to allow for the\u001b[39;00m\n\u001b[1;32m   4630\u001b[0m \u001b[39m# finite size of the symbols.  In v2.x, margins\u001b[39;00m\n\u001b[1;32m   4631\u001b[0m \u001b[39m# are present by default, so we disable this\u001b[39;00m\n\u001b[1;32m   4632\u001b[0m \u001b[39m# scatter-specific override.\u001b[39;00m\n\u001b[1;32m   4633\u001b[0m \u001b[39mif\u001b[39;00m mpl\u001b[39m.\u001b[39mrcParams[\u001b[39m'\u001b[39m\u001b[39m_internal.classic_mode\u001b[39m\u001b[39m'\u001b[39m]:\n",
      "File \u001b[0;32m~/miniconda3/envs/MAPseq/lib/python3.10/site-packages/matplotlib/artist.py:1186\u001b[0m, in \u001b[0;36mArtist._internal_update\u001b[0;34m(self, kwargs)\u001b[0m\n\u001b[1;32m   1179\u001b[0m \u001b[39mdef\u001b[39;00m \u001b[39m_internal_update\u001b[39m(\u001b[39mself\u001b[39m, kwargs):\n\u001b[1;32m   1180\u001b[0m     \u001b[39m\"\"\"\u001b[39;00m\n\u001b[1;32m   1181\u001b[0m \u001b[39m    Update artist properties without prenormalizing them, but generating\u001b[39;00m\n\u001b[1;32m   1182\u001b[0m \u001b[39m    errors as if calling `set`.\u001b[39;00m\n\u001b[1;32m   1183\u001b[0m \n\u001b[1;32m   1184\u001b[0m \u001b[39m    The lack of prenormalization is to maintain backcompatibility.\u001b[39;00m\n\u001b[1;32m   1185\u001b[0m \u001b[39m    \"\"\"\u001b[39;00m\n\u001b[0;32m-> 1186\u001b[0m     \u001b[39mreturn\u001b[39;00m \u001b[39mself\u001b[39;49m\u001b[39m.\u001b[39;49m_update_props(\n\u001b[1;32m   1187\u001b[0m         kwargs, \u001b[39m\"\u001b[39;49m\u001b[39m{cls.__name__}\u001b[39;49;00m\u001b[39m.set() got an unexpected keyword argument \u001b[39;49m\u001b[39m\"\u001b[39;49m\n\u001b[1;32m   1188\u001b[0m         \u001b[39m\"\u001b[39;49m\u001b[39m{prop_name!r}\u001b[39;49;00m\u001b[39m\"\u001b[39;49m)\n",
      "File \u001b[0;32m~/miniconda3/envs/MAPseq/lib/python3.10/site-packages/matplotlib/artist.py:1160\u001b[0m, in \u001b[0;36mArtist._update_props\u001b[0;34m(self, props, errfmt)\u001b[0m\n\u001b[1;32m   1158\u001b[0m             func \u001b[39m=\u001b[39m \u001b[39mgetattr\u001b[39m(\u001b[39mself\u001b[39m, \u001b[39mf\u001b[39m\u001b[39m\"\u001b[39m\u001b[39mset_\u001b[39m\u001b[39m{\u001b[39;00mk\u001b[39m}\u001b[39;00m\u001b[39m\"\u001b[39m, \u001b[39mNone\u001b[39;00m)\n\u001b[1;32m   1159\u001b[0m             \u001b[39mif\u001b[39;00m \u001b[39mnot\u001b[39;00m callable(func):\n\u001b[0;32m-> 1160\u001b[0m                 \u001b[39mraise\u001b[39;00m \u001b[39mAttributeError\u001b[39;00m(\n\u001b[1;32m   1161\u001b[0m                     errfmt\u001b[39m.\u001b[39mformat(\u001b[39mcls\u001b[39m\u001b[39m=\u001b[39m\u001b[39mtype\u001b[39m(\u001b[39mself\u001b[39m), prop_name\u001b[39m=\u001b[39mk))\n\u001b[1;32m   1162\u001b[0m             ret\u001b[39m.\u001b[39mappend(func(v))\n\u001b[1;32m   1163\u001b[0m \u001b[39mif\u001b[39;00m ret:\n",
      "\u001b[0;31mAttributeError\u001b[0m: PathCollection.set() got an unexpected keyword argument 'size'"
     ]
    },
    {
     "data": {
      "image/png": "[encoded data removed]",
      "text/plain": [
       "<Figure size 640x480 with 1 Axes>"
      ]
     },
     "metadata": {},
     "output_type": "display_data"
    }
   ],
   "source": [
    "\n",
    "df = plot_it\n",
    "\n",
    "x=df.effect_size\n",
    "y=df.nlog10_p\n",
    "\n",
    "plt.scatter(x,y, size=10)\n",
    "plt.xlim([-1,1])\n",
    "# plt.ylim([-0.1,4])\n",
    "plt.axline((0, 0), (0, 1),linestyle='--', linewidth=0.5)\n",
    "plt.axline((0, 0), (1, 0),linestyle='--', linewidth=0.5)\n",
    "plt.axline((0, -np.log10(0.05)), (1,  -np.log10(0.05)),linestyle='--', color='r', alpha=0.75)\n",
    "plt.text(-0.9, -np.log10(0.05)+.015, 'p<0.05', color='r', alpha=0.75)\n",
    "plt.axline((0, -np.log10(0.01)), (1,  -np.log10(0.01)),linestyle='--', color='r', alpha=0.5)\n",
    "plt.text(-0.9, -np.log10(0.01)+.015, 'p<0.01', color='r', alpha=0.75)\n",
    "\n",
    "\n",
    "for i in range(df.shape[0]):\n",
    "    plt.text(x=df.effect_size[i]+0.01,y=df.nlog10_p[i]+0.01,s=df.area[i], \n",
    "          fontdict=dict(color='black',size=10))\n",
    "\n",
    "\n",
    "plt.title(\"ACA - IT\")\n",
    "plt.xlabel('Modulation Index')\n",
    "plt.ylabel('-log10(p-value)')\n",
    "# plt.savefig(out_f+'proj_prob_volcano.jpg',dpi=300, bbox_inches='tight')\n",
    "# plt.savefig(out_f+'proj_prob_volcano.svg',dpi=300, bbox_inches='tight')"
   ]
  },
  {
   "cell_type": "code",
   "execution_count": null,
   "id": "9af47acf",
   "metadata": {},
   "outputs": [],
   "source": [
    "# calculate means\n",
    "mm_pt_means = mm_pt_probs.mean()\n",
    "st_pt_means = st_pt_probs.mean()\n",
    "\n",
    "p_vals = []\n",
    "for i in range(len(areas)):\n",
    "    roi = areas[i]\n",
    "    if st_pt_means[roi] > mm_pt_means[roi]: # if st mean>mm mean, look for values greater\n",
    "        above = st_pt_probs[roi] > mm_pt_means[roi]\n",
    "        n_above= sum(above)\n",
    "        p_vals.append(1 - n_above/sim_reps)\n",
    "    elif st_pt_means[roi] < mm_pt_means[roi]: #else if st mean < mm mean, look for values lesser\n",
    "        below = st_pt_probs[roi] < mm_pt_means[roi]\n",
    "        n_below = sum(below)\n",
    "        p_vals.append(1 - n_below/sim_reps)\n",
    "    elif st_pt_means[roi] == mm_pt_means[roi]:\n",
    "        above = st_pt_probs[roi] > mm_pt_means[roi]\n",
    "        n_above= sum(above)\n",
    "        p_vals.append(1 - n_above/sim_reps)\n",
    "    elif st_pt_means[roi]==mm_pt_means[roi] and st_pt_means[roi] == 0:\n",
    "        p_vals.append(1)\n",
    "    \n",
    "\n",
    "\n",
    "\n",
    "plot_pt = pd.DataFrame({\"area\":areas})\n",
    "plot_pt[\"p-value\"] = p_vals\n",
    "plot_pt[\"mm_mean\"] = mm_pt_means.values\n",
    "plot_pt[\"st_mean\"] = st_pt_means.values\n",
    "plot_pt[\"effect_size\"] = (plot_pt[\"st_mean\"]-plot_pt[\"mm_mean\"]) / (plot_pt[\"st_mean\"] + plot_pt[\"mm_mean\"])\n",
    "plot_pt[\"nlog10_p\"] = -np.log10(plot_pt[\"p-value\"]+0.0001)\n",
    "plot_pt"
   ]
  },
  {
   "cell_type": "code",
   "execution_count": null,
   "id": "56c40f56",
   "metadata": {},
   "outputs": [],
   "source": [
    "# drop irrelevant rows\n",
    "non_pt = [\"OB\", \"OMCi\", \"ACAi\", \"OMCc\", \"HIP\"]\n",
    "idx = plot_pt[\"area\"].isin(non_pt)\n",
    "plot_pt = plot_pt[~idx].reset_index(drop=True)\n"
   ]
  },
  {
   "cell_type": "code",
   "execution_count": null,
   "id": "8462531c",
   "metadata": {},
   "outputs": [],
   "source": [
    "df = plot_pt\n",
    "\n",
    "x=df.effect_size\n",
    "y=df.nlog10_p\n",
    "\n",
    "plt.scatter(x,y)\n",
    "plt.xlim([-1,1])\n",
    "# plt.ylim([-0.1,4])\n",
    "plt.axline((0, 0), (0, 1),linestyle='--', linewidth=0.5)\n",
    "plt.axline((0, 0), (1, 0),linestyle='--', linewidth=0.5)\n",
    "plt.axline((0, -np.log10(0.05)), (1,  -np.log10(0.05)),linestyle='--', color='r', alpha=0.75)\n",
    "plt.text(-0.9, -np.log10(0.05)+.015, 'p<0.05', color='r', alpha=0.75)\n",
    "plt.axline((0, -np.log10(0.01)), (1,  -np.log10(0.01)),linestyle='--', color='r', alpha=0.5)\n",
    "plt.text(-0.9, -np.log10(0.01)+.015, 'p<0.01', color='r', alpha=0.75)\n",
    "\n",
    "\n",
    "for i in range(df.shape[0]):\n",
    "    plt.text(x=df.effect_size[i]+0.01,y=df.nlog10_p[i]+0.01,s=df.area[i], \n",
    "          fontdict=dict(color='black',size=10))\n",
    "\n",
    "\n",
    "plt.title(\"ACA - PT\")\n",
    "plt.xlabel('Modulation Index')\n",
    "plt.ylabel('-log10(p-value)')\n",
    "# plt.savefig(out_f+'proj_prob_volcano.jpg',dpi=300, bbox_inches='tight')\n",
    "# plt.savefig(out_f+'proj_prob_volcano.svg',dpi=300, bbox_inches='tight')"
   ]
  },
  {
   "attachments": {},
   "cell_type": "markdown",
   "id": "2cc595c9",
   "metadata": {},
   "source": [
    "# try with t-test"
   ]
  },
  {
   "cell_type": "code",
   "execution_count": 46,
   "id": "0cda8de9",
   "metadata": {},
   "outputs": [
    {
     "ename": "NameError",
     "evalue": "name 'all_it_aca_proportions' is not defined",
     "output_type": "error",
     "traceback": [
      "\u001b[0;31m---------------------------------------------------------------------------\u001b[0m",
      "\u001b[0;31mNameError\u001b[0m                                 Traceback (most recent call last)",
      "\u001b[1;32m/Users/eisko/github_repos/MAPseq_analysis/M194_M220_ACA_Figure 2.ipynb Cell 63\u001b[0m in \u001b[0;36m3\n\u001b[1;32m      <a href='vscode-notebook-cell:/Users/eisko/github_repos/MAPseq_analysis/M194_M220_ACA_Figure%202.ipynb#Y116sZmlsZQ%3D%3D?line=0'>1</a>\u001b[0m mmus_it_prop \u001b[39m=\u001b[39m []\n\u001b[1;32m      <a href='vscode-notebook-cell:/Users/eisko/github_repos/MAPseq_analysis/M194_M220_ACA_Figure%202.ipynb#Y116sZmlsZQ%3D%3D?line=1'>2</a>\u001b[0m steg_it_prop \u001b[39m=\u001b[39m []\n\u001b[0;32m----> <a href='vscode-notebook-cell:/Users/eisko/github_repos/MAPseq_analysis/M194_M220_ACA_Figure%202.ipynb#Y116sZmlsZQ%3D%3D?line=2'>3</a>\u001b[0m \u001b[39mfor\u001b[39;00m i \u001b[39min\u001b[39;00m \u001b[39mrange\u001b[39m(\u001b[39mlen\u001b[39m(all_it_aca_proportions)):\n\u001b[1;32m      <a href='vscode-notebook-cell:/Users/eisko/github_repos/MAPseq_analysis/M194_M220_ACA_Figure%202.ipynb#Y116sZmlsZQ%3D%3D?line=3'>4</a>\u001b[0m     df \u001b[39m=\u001b[39m all_it_aca_proportions[i]\n\u001b[1;32m      <a href='vscode-notebook-cell:/Users/eisko/github_repos/MAPseq_analysis/M194_M220_ACA_Figure%202.ipynb#Y116sZmlsZQ%3D%3D?line=4'>5</a>\u001b[0m     mm \u001b[39m=\u001b[39m df[df[\u001b[39m\"\u001b[39m\u001b[39mspecies\u001b[39m\u001b[39m\"\u001b[39m]\u001b[39m==\u001b[39m\u001b[39m\"\u001b[39m\u001b[39mMmus\u001b[39m\u001b[39m\"\u001b[39m]\n",
      "\u001b[0;31mNameError\u001b[0m: name 'all_it_aca_proportions' is not defined"
     ]
    }
   ],
   "source": [
    "mmus_it_prop = []\n",
    "steg_it_prop = []\n",
    "for i in range(len(all_it_aca_proportions)):\n",
    "    df = all_it_aca_proportions[i]\n",
    "    mm = df[df[\"species\"]==\"Mmus\"]\n",
    "    mmus_it_prop.append(mm[\"proportion\"])\n",
    "    st = df[df[\"species\"]==\"Steg\"]\n",
    "    steg_it_prop.append(st[\"proportion\"])\n",
    "mmus_it_array = np.array(mmus_it_prop)\n",
    "steg_it_array = np.array(steg_it_prop)\n",
    "\n",
    "pd.set_option('display.max_rows', None)\n",
    "results = stats.ttest_ind(mmus_it_array, steg_it_array, axis=1)\n",
    "p_vals = results[1]\n",
    "plot = pd.DataFrame({\"area\":areas, \"p-value\":p_vals})\n",
    "\n",
    "plot[\"mm_mean\"] = mmus_it_array.mean(axis=1)\n",
    "plot[\"st_mean\"] = steg_it_array.mean(axis=1)\n",
    "plot[\"effect_size\"] = (plot[\"st_mean\"]-plot[\"mm_mean\"]) / (plot[\"st_mean\"] + plot[\"mm_mean\"])\n",
    "plot[\"nlog10_p\"] = -np.log10(plot[\"p-value\"])\n",
    "\n",
    "# drop irrelevant rows\n",
    "non_it = [\"OB\", \"OMCi\", \"ACAi\", \"ACAc\", \"TH\", \"AMY\", \"HIP\", \"SNr\", \"SCm\", \"PG\", \"PAG\", \"RN\"]\n",
    "idx = plot[\"area\"].isin(non_it)\n",
    "plot = plot[~idx].reset_index(drop=True)\n",
    "\n",
    "\n",
    "plot\n",
    "\n"
   ]
  },
  {
   "cell_type": "code",
   "execution_count": 47,
   "id": "6cd40b88",
   "metadata": {},
   "outputs": [
    {
     "ename": "AttributeError",
     "evalue": "'DataFrame' object has no attribute 'effect_size'",
     "output_type": "error",
     "traceback": [
      "\u001b[0;31m---------------------------------------------------------------------------\u001b[0m",
      "\u001b[0;31mAttributeError\u001b[0m                            Traceback (most recent call last)",
      "\u001b[1;32m/Users/eisko/github_repos/MAPseq_analysis/M194_M220_ACA_Figure 2.ipynb Cell 64\u001b[0m in \u001b[0;36m3\n\u001b[1;32m      <a href='vscode-notebook-cell:/Users/eisko/github_repos/MAPseq_analysis/M194_M220_ACA_Figure%202.ipynb#Y120sZmlsZQ%3D%3D?line=0'>1</a>\u001b[0m df \u001b[39m=\u001b[39m plot\n\u001b[0;32m----> <a href='vscode-notebook-cell:/Users/eisko/github_repos/MAPseq_analysis/M194_M220_ACA_Figure%202.ipynb#Y120sZmlsZQ%3D%3D?line=2'>3</a>\u001b[0m x\u001b[39m=\u001b[39mdf\u001b[39m.\u001b[39;49meffect_size\n\u001b[1;32m      <a href='vscode-notebook-cell:/Users/eisko/github_repos/MAPseq_analysis/M194_M220_ACA_Figure%202.ipynb#Y120sZmlsZQ%3D%3D?line=3'>4</a>\u001b[0m y\u001b[39m=\u001b[39mdf\u001b[39m.\u001b[39mnlog10_p\n\u001b[1;32m      <a href='vscode-notebook-cell:/Users/eisko/github_repos/MAPseq_analysis/M194_M220_ACA_Figure%202.ipynb#Y120sZmlsZQ%3D%3D?line=5'>6</a>\u001b[0m plt\u001b[39m.\u001b[39mscatter(x,y, s\u001b[39m=\u001b[39m\u001b[39m25\u001b[39m)\n",
      "File \u001b[0;32m~/miniconda3/envs/MAPseq/lib/python3.10/site-packages/pandas/core/generic.py:5902\u001b[0m, in \u001b[0;36mNDFrame.__getattr__\u001b[0;34m(self, name)\u001b[0m\n\u001b[1;32m   5895\u001b[0m \u001b[39mif\u001b[39;00m (\n\u001b[1;32m   5896\u001b[0m     name \u001b[39mnot\u001b[39;00m \u001b[39min\u001b[39;00m \u001b[39mself\u001b[39m\u001b[39m.\u001b[39m_internal_names_set\n\u001b[1;32m   5897\u001b[0m     \u001b[39mand\u001b[39;00m name \u001b[39mnot\u001b[39;00m \u001b[39min\u001b[39;00m \u001b[39mself\u001b[39m\u001b[39m.\u001b[39m_metadata\n\u001b[1;32m   5898\u001b[0m     \u001b[39mand\u001b[39;00m name \u001b[39mnot\u001b[39;00m \u001b[39min\u001b[39;00m \u001b[39mself\u001b[39m\u001b[39m.\u001b[39m_accessors\n\u001b[1;32m   5899\u001b[0m     \u001b[39mand\u001b[39;00m \u001b[39mself\u001b[39m\u001b[39m.\u001b[39m_info_axis\u001b[39m.\u001b[39m_can_hold_identifiers_and_holds_name(name)\n\u001b[1;32m   5900\u001b[0m ):\n\u001b[1;32m   5901\u001b[0m     \u001b[39mreturn\u001b[39;00m \u001b[39mself\u001b[39m[name]\n\u001b[0;32m-> 5902\u001b[0m \u001b[39mreturn\u001b[39;00m \u001b[39mobject\u001b[39;49m\u001b[39m.\u001b[39;49m\u001b[39m__getattribute__\u001b[39;49m(\u001b[39mself\u001b[39;49m, name)\n",
      "\u001b[0;31mAttributeError\u001b[0m: 'DataFrame' object has no attribute 'effect_size'"
     ]
    }
   ],
   "source": [
    "\n",
    "df = plot\n",
    "\n",
    "x=df.effect_size\n",
    "y=df.nlog10_p\n",
    "\n",
    "plt.scatter(x,y, s=25)\n",
    "plt.xlim([-1,1])\n",
    "# plt.ylim([-0.1,4])\n",
    "plt.axline((0, 0), (0, 1),linestyle='--', linewidth=0.5)\n",
    "plt.axline((0, 0), (1, 0),linestyle='--', linewidth=0.5)\n",
    "plt.axline((0, -np.log10(0.05)), (1,  -np.log10(0.05)),linestyle='--', color='r', alpha=0.75, linewidth=0.5)\n",
    "plt.text(-0.9, -np.log10(0.05)+.015, 'p<0.05', color='r', alpha=0.75)\n",
    "plt.axline((0, -np.log10(0.01)), (1,  -np.log10(0.01)),linestyle='--', color='r', alpha=0.5, linewidth=0.5)\n",
    "plt.text(-0.9, -np.log10(0.01)+.015, 'p<0.01', color='r', alpha=0.75)\n",
    "\n",
    "\n",
    "for i in range(df.shape[0]):\n",
    "    plt.text(x=df.effect_size[i]+0.01,y=df.nlog10_p[i]+0.01,s=df.area[i], \n",
    "          fontdict=dict(color='black',size=10))\n",
    "\n",
    "\n",
    "plt.title(\"ACA - IT\")\n",
    "plt.xlabel('Modulation Index')\n",
    "plt.ylabel('-log10(p-value)')\n",
    "# plt.savefig(out_path+'aca_it_volcano.jpg',dpi=300, bbox_inches='tight')\n",
    "# plt.savefig(out_path+'aca_it_volcano.svg',dpi=300, bbox_inches='tight')"
   ]
  },
  {
   "cell_type": "code",
   "execution_count": 48,
   "id": "3eacfc44",
   "metadata": {},
   "outputs": [
    {
     "name": "stderr",
     "output_type": "stream",
     "text": [
      "/var/folders/l2/gvq0gkm95b1fbrlls4tsq2wr0000gp/T/ipykernel_14229/547530992.py:13: RuntimeWarning: Precision loss occurred in moment calculation due to catastrophic cancellation. This occurs when the data are nearly identical. Results may be unreliable.\n",
      "  results = stats.ttest_ind(mmus_pt_array, steg_pt_array, axis=1)\n"
     ]
    },
    {
     "data": {
      "text/plain": [
       "Text(0, 0.5, '-log10(p-value)')"
      ]
     },
     "execution_count": 48,
     "metadata": {},
     "output_type": "execute_result"
    },
    {
     "data": {
      "image/png": "[encoded data removed]",
      "text/plain": [
       "<Figure size 640x480 with 1 Axes>"
      ]
     },
     "metadata": {},
     "output_type": "display_data"
    }
   ],
   "source": [
    "mmus_pt_prop = []\n",
    "steg_pt_prop = []\n",
    "for i in range(len(all_pt_aca_proportions)):\n",
    "    df = all_pt_aca_proportions[i]\n",
    "    mm = df[df[\"species\"]==\"Mmus\"]\n",
    "    mmus_pt_prop.append(mm[\"proportion\"])\n",
    "    st = df[df[\"species\"]==\"Steg\"]\n",
    "    steg_pt_prop.append(st[\"proportion\"])\n",
    "mmus_pt_array = np.array(mmus_pt_prop)\n",
    "steg_pt_array = np.array(steg_pt_prop)\n",
    "\n",
    "pd.set_option('display.max_rows', None)\n",
    "results = stats.ttest_ind(mmus_pt_array, steg_pt_array, axis=1)\n",
    "p_vals = results[1]\n",
    "plot = pd.DataFrame({\"area\":areas, \"p-value\":p_vals})\n",
    "\n",
    "plot[\"mm_mean\"] = mmus_pt_array.mean(axis=1)\n",
    "plot[\"st_mean\"] = steg_pt_array.mean(axis=1)\n",
    "plot[\"effect_size\"] = (plot[\"st_mean\"]-plot[\"mm_mean\"]) / (plot[\"st_mean\"] + plot[\"mm_mean\"])\n",
    "plot[\"nlog10_p\"] = -np.log10(plot[\"p-value\"])\n",
    "\n",
    "# drop irrelevant rows\n",
    "non_pt = [\"OB\", \"OMCi\", \"ACAi\", \"OMCc\", \"HIP\"]\n",
    "idx = plot[\"area\"].isin(non_pt)\n",
    "plot = plot[~idx].reset_index(drop=True)\n",
    "\n",
    "\n",
    "\n",
    "\n",
    "\n",
    "\n",
    "df = plot\n",
    "\n",
    "x=df.effect_size\n",
    "y=df.nlog10_p\n",
    "\n",
    "plt.scatter(x,y, s=25)\n",
    "plt.xlim([-1,1])\n",
    "# plt.ylim([-0.1,4])\n",
    "plt.axline((0, 0), (0, 1),linestyle='--', linewidth=0.5)\n",
    "plt.axline((0, 0), (1, 0),linestyle='--', linewidth=0.5)\n",
    "plt.axline((0, -np.log10(0.05)), (1,  -np.log10(0.05)),linestyle='--', color='r', alpha=0.75, linewidth=0.5)\n",
    "plt.text(-0.9, -np.log10(0.05)+.015, 'p<0.05', color='r', alpha=0.75)\n",
    "plt.axline((0, -np.log10(0.01)), (1,  -np.log10(0.01)),linestyle='--', color='r', alpha=0.5, linewidth=0.5)\n",
    "plt.text(-0.9, -np.log10(0.01)+.015, 'p<0.01', color='r', alpha=0.75)\n",
    "\n",
    "\n",
    "for i in range(df.shape[0]):\n",
    "    plt.text(x=df.effect_size[i]+0.01,y=df.nlog10_p[i]+0.01,s=df.area[i], \n",
    "          fontdict=dict(color='black',size=10))\n",
    "\n",
    "\n",
    "plt.title(\"ACA - PT\")\n",
    "plt.xlabel('Modulation Index')\n",
    "plt.ylabel('-log10(p-value)')\n",
    "# plt.savefig(out_path+'aca_pt_volcano.jpg',dpi=300, bbox_inches='tight')\n",
    "# plt.savefig(out_path+'aca_pt_volcano.svg',dpi=300, bbox_inches='tight')\n"
   ]
  },
  {
   "cell_type": "code",
   "execution_count": null,
   "id": "c9b2bc05",
   "metadata": {},
   "outputs": [],
   "source": []
  }
 ],
 "metadata": {
  "kernelspec": {
   "display_name": "Python 3 (ipykernel)",
   "language": "python",
   "name": "python3"
  },
  "language_info": {
   "codemirror_mode": {
    "name": "ipython",
    "version": 3
   },
   "file_extension": ".py",
   "mimetype": "text/x-python",
   "name": "python",
   "nbconvert_exporter": "python",
   "pygments_lexer": "ipython3",
   "version": "3.10.6"
  }
 },
 "nbformat": 4,
 "nbformat_minor": 5
}
