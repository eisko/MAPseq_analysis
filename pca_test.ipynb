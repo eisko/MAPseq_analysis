{
 "cells": [
  {
   "cell_type": "markdown",
   "metadata": {},
   "source": [
    "## AUD vs PAG propotion\n"
   ]
  },
  {
   "cell_type": "code",
   "execution_count": null,
   "metadata": {},
   "outputs": [],
   "source": [
    "\n",
    "omc_prop\n",
    "omc_prop_select = omc_prop[(omc_prop[\"species\"]==\"MMus\") | (omc_prop[\"species\"]==\"STeg\")]\n",
    "omc_prop_aud = omc_prop_select[(omc_prop_select['area']==\"AUD\")].reset_index(drop=True)\n",
    "omc_prop_pag = omc_prop_select[(omc_prop_select['area']==\"PAG\")].reset_index(drop=True)\n",
    "omc_prop_aud = omc_prop_aud.rename(columns=({'proportion':'aud_prop'}))\n",
    "omc_prop_aud['pag_prop'] = omc_prop_pag['proportion']\n",
    "plot_df = omc_prop_aud.copy().drop([\"area\", \"type\"], axis=1)\n",
    "plot_df\n",
    "\n",
    "sns.scatterplot(plot_df, x=\"aud_prop\", y=\"pag_prop\",hue=\"species\",\n",
    "                s=100)\n",
    "plt.xlabel(\"AUD Proportion\")\n",
    "plt.ylabel(\"PAG Proportion\")\n",
    "\n",
    "plt.xlim(0,0.7)\n",
    "\n",
    "plt.savefig(out_path+\"omc_proportion_AUDvPAG2.svg\", dpi=300, bbox_inches=\"tight\")\n"
   ]
  },
  {
   "cell_type": "markdown",
   "metadata": {},
   "source": [
    "\n",
    "# scatter and volcano plot for comparing resampled data\n"
   ]
  },
  {
   "cell_type": "code",
   "execution_count": null,
   "metadata": {},
   "outputs": [],
   "source": [
    "\n",
    "# combine IT and PT\n",
    "sp_stats_it = stvmm_calc_stats(plot_it, species=[\"STeg_resampled\", \"MMus_resampled\"])\n",
    "sp_stats_pt = stvmm_calc_stats(plot_pt, species=[\"STeg_resampled\", \"MMus_resampled\"])\n",
    "\n",
    "sp_stats = pd.concat([sp_stats_it,sp_stats_pt])\n",
    "sp_stats\n",
    "\n",
    "\n",
    "stvmm_area_scatter_type(sp_stats, title=\"OMC - Resampled\", x=\"STeg_resampled\", y=\"MMus_resampled\")\n",
    "# plt.savefig(out_path+\"OMC_scatter_mapseq_resampled.jpg\", dpi=300, bbox_inches=\"tight\")\n",
    "plt.show()\n"
   ]
  },
  {
   "cell_type": "code",
   "execution_count": null,
   "metadata": {},
   "outputs": [],
   "source": [
    "\n",
    "## volcano plot\n",
    "omc_prop = pd.concat([plot_it, plot_pt])\n",
    "plot = stvmm_calc_ttest(omc_prop, sp1=\"MMus_resampled\", sp2=\"STeg_resampled\")\n",
    "\n",
    "plot_volcano(plot, title=\"OMC MAPseq Proportion - Resampled\", shape=\"type\")\n",
    "plt.xlim(-3,3)\n",
    "\n",
    "\n",
    "# plt.savefig(out_path+\"OMC_volcano_mapseq_resampled.jpg\", dpi=300, bbox_inches=\"tight\")\n"
   ]
  },
  {
   "cell_type": "code",
   "execution_count": null,
   "metadata": {},
   "outputs": [],
   "source": [
    "\n",
    "# compare number of cells\n",
    "omc_preprocess[0]\n",
    "\n",
    "# make dataframe w/ # unique barcodes per animal\n",
    "\n",
    "nBC_df = pd.DataFrame(columns=[\"Total Neurons\", \"IT Neurons\", \"CT Neurons\", \"PT Neurons\",\n",
    "                               \"mice\", \"species\", \"dataset\"])\n",
    "\n",
    "for i in range(metadata.shape[0]):\n",
    "    df = omc_preprocess[i]\n",
    "    tot = df.shape[0]\n",
    "    it = df[df['type']==\"IT\"].shape[0]\n",
    "    ct = df[df['type']==\"CT\"].shape[0]\n",
    "    pt = df[df['type']==\"PT\"].shape[0]\n",
    "\n",
    "    row = [tot, it, ct, pt, metadata.loc[i,\"mice\"], metadata.loc[i,\"species\"], metadata.loc[i,\"dataset\"]]\n",
    "\n",
    "    nBC_df.loc[i] = row\n",
    "\n",
    "nBC_df\n",
    "area_proportion_dot_plot(nBC_df, title=\"All Unique Barcodes - OMC\",\n",
    "                         to_plot=\"Total Neurons\", add_legend=False)\n",
    "plt.savefig(out_path+\"uBC_OMC_all.jpg\", dpi=300, bbox_inches=\"tight\")\n",
    "plt.show()\n",
    "\n",
    "area_proportion_dot_plot(nBC_df, title=\"IT Unique Barcodes - OMC\",\n",
    "                         to_plot=\"IT Neurons\", add_legend=False)\n",
    "plt.show()\n",
    "\n",
    "area_proportion_dot_plot(nBC_df, title=\"CT Unique Barcodes - OMC\",\n",
    "                         to_plot=\"CT Neurons\", add_legend=False)\n",
    "plt.show()\n",
    "\n",
    "area_proportion_dot_plot(nBC_df, title=\"PT Unique Barcodes - OMC\",\n",
    "                         to_plot=\"PT Neurons\", add_legend=False)\n",
    "plt.show()\n",
    "\n"
   ]
  },
  {
   "cell_type": "markdown",
   "metadata": {},
   "source": [
    "\n",
    "# PCA  to cluster animals\n"
   ]
  },
  {
   "cell_type": "code",
   "execution_count": null,
   "metadata": {},
   "outputs": [],
   "source": [
    "\n",
    "it_df = omc_it_prop.pivot(index=\"mice\", columns=\"area\", values=\"proportion\")\n",
    "pt_df = omc_pt_prop.pivot(index=\"mice\", columns=\"area\", values=\"proportion\")\n",
    "\n",
    "all_df = pd.concat([it_df, pt_df], axis=1)\n",
    "from sklearn.decomposition import PCA\n",
    "\n",
    "pca = PCA()\n",
    "principalComponents = pca.fit_transform(all_df)\n",
    "explain_var = pca.explained_variance_ratio_\n",
    "\n",
    "# plot pcs\n",
    "plt.scatter(principalComponents[0:5,0], principalComponents[0:5,1], label=\"lab mouse\")\n",
    "plt.scatter(principalComponents[5:12,0], principalComponents[5:12,1], label=\"singing mouse\")\n",
    "plt.xlabel(\"PC1 \"+ str(round(explain_var[0], 4)*100)+ \"%\")\n",
    "plt.ylabel(\"PC2 \"+ str(round(explain_var[1], 4)*100)+ \"%\")\n",
    "plt.legend()\n",
    "plt.show()\n",
    "plt.savefig(out_path+\"omc_prop_pca12.svg\", dpi=300, bbox_inches=\"tight\")\n",
    "plt.scatter(principalComponents[0:5,1], principalComponents[0:5,2], label=\"lab mouse\")\n",
    "plt.scatter(principalComponents[5:12,1], principalComponents[5:12,2], label=\"singing mouse\")\n",
    "plt.xlabel(\"PC2 \"+ str(round(explain_var[1], 4)*100)+ \"%\")\n",
    "plt.ylabel(\"PC3 \"+ str(round(explain_var[2], 4)*100)+ \"%\")\n",
    "plt.legend()\n",
    "plt.show()\n",
    "plt.savefig(out_path+\"omc_prop_pca23.svg\", dpi=300, bbox_inches=\"tight\")\n"
   ]
  },
  {
   "cell_type": "code",
   "execution_count": null,
   "metadata": {},
   "outputs": [],
   "source": [
    "\n",
    "from mpl_toolkits import mplot3d\n",
    "\n",
    "# plt.scatter(principalComponents[0:5,1], principalComponents[0:5,2], label=\"lab mouse\")\n",
    "\n",
    "\n",
    "# Creating figure\n",
    "fig = plt.figure(figsize = (10, 7))\n",
    "ax = plt.axes(projection =\"3d\")\n",
    " \n",
    "# Creating plot\n",
    "ax.scatter3D(principalComponents[0:5,0], principalComponents[0:5,1], principalComponents[0:5,2], label=\"lab mouse\")\n",
    "ax.scatter3D(principalComponents[5:12,0], principalComponents[5:12,1], principalComponents[5:12,2], label=\"singing mouse\")\n",
    "ax.set_xlabel(\"PC1 \"+ str(round(explain_var[0], 4)*100)+ \"%\")\n",
    "ax.set_ylabel(\"PC2 \"+ str(round(explain_var[1], 4)*100)+ \"%\")\n",
    "ax.set_zlabel(\"PC3 \"+ str(round(explain_var[2], 4)*100)+ \"%\")\n",
    "plt.legend()\n",
    "plt.show()\n",
    "components = pca.components_\n",
    "plot_pca = pd.DataFrame(components, columns=all_df.columns).T\n",
    "cols = [\"PC\"+str(x) for x in range(1,12)]\n",
    "plot_pca.columns = cols\n",
    "plot_pca.reset_index(inplace=True)\n",
    "\n",
    "plt.plot(plot_pca[\"area\"], plot_pca[\"PC1\"], '-o', label=\"PC1 \"+ str(round(explain_var[0], 4)*100)+ \"%\")\n",
    "plt.plot(plot_pca[\"area\"], plot_pca[\"PC2\"], '-o', label=\"PC2 \"+ str(round(explain_var[1], 4)*100)+ \"%\")\n",
    "plt.plot(plot_pca[\"area\"], plot_pca[\"PC3\"], '-o', label=\"PC3 \"+ str(round(explain_var[2], 4)*100)+ \"%\")\n",
    "plt.legend()\n",
    "plt.axhline(color=\"gray\", linestyle=\"--\")\n",
    "plt.savefig(out_path+\"pca_loadings.png\", dpi=300, bbox_inches=\"tight\")\n",
    "plt.show()\n",
    "\n"
   ]
  },
  {
   "cell_type": "code",
   "execution_count": null,
   "metadata": {},
   "outputs": [],
   "source": [
    "\n",
    "import plotly.express as px\n",
    "\n",
    "plot_df = pd.DataFrame(principalComponents)\n",
    "plot_df.index = all_df.index\n",
    "cols = [\"PC\"+str(x) for x in range(1,12)]\n",
    "plot_df.columns = cols\n",
    "plot_df[\"species\"] = \"MMus\"\n",
    "plot_df.iloc[5:12,11] = \"STeg\"\n",
    "\n",
    "fig = px.scatter_3d(plot_df, x=\"PC1\", y=\"PC2\", z=\"PC3\",\n",
    "                    color=\"species\")\n",
    "fig.show()\n"
   ]
  }
 ],
 "metadata": {
  "language_info": {
   "name": "python"
  }
 },
 "nbformat": 4,
 "nbformat_minor": 2
}
