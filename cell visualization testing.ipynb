{
 "cells": [
  {
   "attachments": {},
   "cell_type": "markdown",
   "metadata": {},
   "source": [
    "# Data Visualization exploration"
   ]
  },
  {
   "cell_type": "code",
   "execution_count": 2,
   "metadata": {},
   "outputs": [],
   "source": [
    "###### load packages\n",
    "import pandas as pd\n",
    "import numpy as np\n",
    "import matplotlib.pyplot as plt\n",
    "# from sklearn.preprocessing import binarize\n",
    "import pickle\n",
    "import seaborn as sns\n",
    "from matplotlib.colors import LogNorm, Normalize\n",
    "from mapseq_fxns import * # import all functions from this script\n",
    "# from math import log10\n",
    "from scipy import stats\n",
    "\n",
    "# random sample consimment between runs\n",
    "import random\n",
    "\n",
    "\n",
    "\n",
    "%matplotlib inline\n"
   ]
  },
  {
   "cell_type": "code",
   "execution_count": 3,
   "metadata": {},
   "outputs": [],
   "source": [
    "\n",
    "# set-up variables\n",
    "in_path = '/Volumes/Data/Emily/MAPseq/combined_analysis_M194_M220/'\n",
    "out_path = '/Volumes/Data/Emily/MAPseq/combined_analysis_M194_M220/output/'\n",
    "\n",
    "# import metadata\n",
    "from M194_M220_metadata import *\n",
    "\n",
    "# import colormaps\n",
    "from colormaps import blue_cmp, orange_cmp\n",
    "\n",
    "#### load data\n",
    "with open(in_path +'M194_M220_OMC_bin4.pkl', 'rb') as f:\n",
    "    omc_bin = pickle.load(f)\n",
    "\n",
    "    \n"
   ]
  },
  {
   "cell_type": "code",
   "execution_count": 4,
   "metadata": {},
   "outputs": [],
   "source": [
    "# seperate by cell type\n",
    "\n",
    "omc_type = [sort_by_celltype(omc_bin[i]) for i in range(num_samples)]\n",
    "omc_pt = [(omc_type[i][omc_type[i]['type']==1000]).drop([\"type\"], axis=1).reset_index(drop=True) for i in range(num_samples)]\n",
    "omc_it = [(omc_type[i][omc_type[i]['type']==10]).drop([\"type\"], axis=1).reset_index(drop=True) for i in range(num_samples)]\n",
    "\n",
    "omc_mm = []\n",
    "omc_st = []\n",
    "omc_pt_mm = []\n",
    "omc_pt_st = []\n",
    "omc_it_mm = []\n",
    "omc_it_st = []\n",
    "mice_mm=[]\n",
    "mice_st=[]\n",
    "dataset_mm = []\n",
    "dataset_st = []\n",
    "\n",
    "for i in range(num_samples):\n",
    "    if metadata.species[i] == 'MMus':\n",
    "        omc_mm.append(omc_type[i])\n",
    "        omc_pt_mm.append(omc_pt[i])\n",
    "        omc_it_mm.append(omc_it[i])\n",
    "        mice_mm.append(mice[i])\n",
    "        dataset_mm.append(dataset[i])\n",
    "    else:\n",
    "        omc_st.append(omc_type[i])\n",
    "        omc_pt_st.append(omc_pt[i])\n",
    "        omc_it_st.append(omc_it[i])\n",
    "        mice_st.append(mice[i])\n",
    "        dataset_st.append(dataset[i])\n",
    "\n",
    "omc_mm_all = pd.concat(omc_mm)\n",
    "omc_st_all = pd.concat(omc_st)\n"
   ]
  },
  {
   "cell_type": "code",
   "execution_count": 5,
   "metadata": {},
   "outputs": [],
   "source": [
    "\n",
    "\n",
    "for i in range(len(omc_it_mm)):\n",
    "    omc_it_mm[i] = clean_up_data(omc_it_mm[i])\n",
    "\n",
    "for i in range(len(omc_pt_mm)):\n",
    "    omc_pt_mm[i] = clean_up_data(omc_pt_mm[i])\n",
    "\n",
    "for i in range(len(omc_it_st)):\n",
    "    omc_it_st[i] = clean_up_data(omc_it_st[i])\n",
    "\n",
    "for i in range(len(omc_pt_st)):\n",
    "    omc_pt_st[i] = clean_up_data(omc_pt_st[i])\n",
    "\n",
    "omc_it_mm_all = pd.concat(omc_it_mm)\n",
    "omc_it_st_all = pd.concat(omc_it_st)\n",
    "\n",
    "omc_pt_mm_all = pd.concat(omc_pt_mm)\n",
    "omc_pt_st_all = pd.concat(omc_pt_st)"
   ]
  },
  {
   "cell_type": "code",
   "execution_count": 8,
   "metadata": {},
   "outputs": [
    {
     "name": "stdout",
     "output_type": "stream",
     "text": [
      "(71704, 17)\n",
      "(5114, 17)\n"
     ]
    },
    {
     "data": {
      "text/plain": [
       "Index(['OB', 'OMCi', 'ACAi', 'OMCc', 'ACAc', 'AUD', 'STR', 'TH', 'HY', 'AMY',\n",
       "       'HIP', 'SNr', 'SCm', 'PG', 'PAG', 'RN', 'type'],\n",
       "      dtype='object')"
      ]
     },
     "execution_count": 8,
     "metadata": {},
     "output_type": "execute_result"
    }
   ],
   "source": [
    "# need to change type values so that can visualize on heatmap\n",
    "\n",
    "# change type so .25,.5,.75\n",
    "mm_type_col = omc_mm_all['type']\n",
    "mm_replace = np.where(mm_type_col==1000, 0.75, mm_type_col)\n",
    "mm_replace = np.where(mm_replace==100, 0.5, mm_replace)\n",
    "mm_replace = np.where(mm_replace==10, 0.25, mm_replace)\n",
    "omc_mm_all['type'] = mm_replace\n",
    "\n",
    "# change type so .25,.5,.75\n",
    "st_type_col = omc_st_all['type']\n",
    "st_replace = np.where(st_type_col==1000, 0.75, st_type_col)\n",
    "st_replace = np.where(st_replace==100, 0.5, st_replace)\n",
    "st_replace = np.where(st_replace==10, 0.25, st_replace)\n",
    "omc_st_all['type'] = st_replace\n",
    "\n",
    "print(omc_mm_all.shape)\n",
    "print(omc_st_all.shape)\n",
    "omc_mm_all.columns"
   ]
  },
  {
   "cell_type": "code",
   "execution_count": 14,
   "metadata": {},
   "outputs": [
    {
     "data": {
      "image/png": "[encoded data removed]",
      "text/plain": [
       "<Figure size 640x480 with 1 Axes>"
      ]
     },
     "metadata": {},
     "output_type": "display_data"
    }
   ],
   "source": [
    "plot = omc_mm_all.sample(1000, random_state=10)\n",
    "\n",
    "# sort by cell type\n",
    "plot = plot.sort_values(by=['type']).reset_index(drop=True)\n",
    "\n",
    "sns.heatmap(plot, cmap=blue_cmp, cbar=False)\n",
    "plt.gca().get_yaxis().set_visible(False)\n",
    "# plt.savefig(out_path+\"mm_single_heatmap.jpeg\", dpi=300)\n"
   ]
  },
  {
   "cell_type": "code",
   "execution_count": null,
   "metadata": {},
   "outputs": [],
   "source": []
  }
 ],
 "metadata": {
  "kernelspec": {
   "display_name": "MAPseq",
   "language": "python",
   "name": "python3"
  },
  "language_info": {
   "codemirror_mode": {
    "name": "ipython",
    "version": 3
   },
   "file_extension": ".py",
   "mimetype": "text/x-python",
   "name": "python",
   "nbconvert_exporter": "python",
   "pygments_lexer": "ipython3",
   "version": "3.10.6"
  },
  "orig_nbformat": 4
 },
 "nbformat": 4,
 "nbformat_minor": 2
}
