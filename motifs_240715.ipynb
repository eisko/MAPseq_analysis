{
 "cells": [
  {
   "cell_type": "code",
   "execution_count": 71,
   "metadata": {},
   "outputs": [
    {
     "name": "stdout",
     "output_type": "stream",
     "text": [
      "The autoreload extension is already loaded. To reload it, use:\n",
      "  %reload_ext autoreload\n"
     ]
    }
   ],
   "source": [
    "###### load packages\n",
    "import pandas as pd\n",
    "import numpy as np\n",
    "import matplotlib.pyplot as plt\n",
    "import seaborn as sns\n",
    "from itertools import combinations\n",
    "\n",
    "\n",
    "# needed for editable text in svg format\n",
    "plt.rcParams['font.family'] = ['sans-serif']\n",
    "plt.rcParams['font.sans-serif'] = ['Arial']\n",
    "plt.rcParams['text.usetex'] = False\n",
    "plt.rcParams['svg.fonttype'] = 'none'\n",
    "\n",
    "# import homemade functions:\n",
    "from MAPseq_processing import *\n",
    "from MAPseq_plotting import *\n",
    "\n",
    "# import metadata\n",
    "from M194_M220_metadata import *\n",
    "\n",
    "# import colormaps\n",
    "from colormaps import blue_cmp, orange_cmp\n",
    "\n",
    "%matplotlib inline\n",
    "\n",
    "# auto refreshes imported functions if source code changes:\n",
    "%load_ext autoreload\n",
    "%autoreload 2\n"
   ]
  },
  {
   "cell_type": "code",
   "execution_count": 3,
   "metadata": {},
   "outputs": [],
   "source": [
    "# set-up variables\n",
    "in_path = '/Volumes/Data/Emily/MAPseq/combined_analysis_M194_M220/processed_data/'\n",
    "# out_path = '/Volumes/Data/Emily/figures/fig_3_sc/python_out/'\n",
    "# out_path = '/Volumes/Data/Emily/figures/fig_2_mapseq/figure_pics/'\n",
    "out_path = \"/Users/eisko/Documents/CSHL/mapseq_paper/svg_images/\"\n",
    "\n",
    "#### load data - OMC\n",
    "omc_bin = pd.read_pickle(in_path+\"M194_M220_OMC_bin4.pkl\")\n",
    "# omc_countN = pd.read_pickle(in_path+\"M194_M220_OMC_countN4.pkl\")\n"
   ]
  },
  {
   "cell_type": "markdown",
   "metadata": {},
   "source": [
    "# Preprocessing/sorting\n",
    "## initial processing - OMC\n"
   ]
  },
  {
   "cell_type": "code",
   "execution_count": 4,
   "metadata": {},
   "outputs": [],
   "source": [
    "\n",
    "# bin processing\n",
    "omc_clean = [clean_up_data(df) for df in omc_bin]\n",
    "omc_type = [sort_by_celltype(df) for df in omc_clean]\n",
    "\n",
    "# seperate it cells\n",
    "omc_it = [df[df['type']==\"IT\"] for df in omc_type]\n",
    "\n",
    "# seperate pt cells\n",
    "omc_pt = [df[df['type']==\"PT\"] for df in omc_type]\n",
    "\n",
    "# seperate then concatenate by species\n",
    "mm_it = [omc_it[i] for i in range(len(omc_it)) if metadata.loc[i,\"species\"]==\"MMus\"]\n",
    "st_it = [omc_it[i] for i in range(len(omc_it)) if metadata.loc[i,\"species\"]==\"STeg\"]\n",
    "mm_it_all = pd.concat(mm_it)\n",
    "st_it_all = pd.concat(st_it)\n",
    "\n",
    "mm_pt = [omc_pt[i] for i in range(len(omc_pt)) if metadata.loc[i,\"species\"]==\"MMus\"]\n",
    "st_pt = [omc_pt[i] for i in range(len(omc_pt)) if metadata.loc[i,\"species\"]==\"STeg\"]\n",
    "mm_pt_all = pd.concat(mm_pt)\n",
    "st_pt_all = pd.concat(st_pt)\n"
   ]
  },
  {
   "cell_type": "markdown",
   "metadata": {},
   "source": [
    "# IT Motifs"
   ]
  },
  {
   "cell_type": "markdown",
   "metadata": {},
   "source": [
    "## Individual analysis - keep by animal numbers\n",
    "- Calculate N_totals\n",
    "- calculate Obs_proportion\n",
    "- Calculate cal_proportion (based on independence)\n",
    "- Plot Fold changes (normalized to MMus mean)"
   ]
  },
  {
   "cell_type": "code",
   "execution_count": 84,
   "metadata": {},
   "outputs": [
    {
     "data": {
      "text/html": [
       "<div>\n",
       "<style scoped>\n",
       "    .dataframe tbody tr th:only-of-type {\n",
       "        vertical-align: middle;\n",
       "    }\n",
       "\n",
       "    .dataframe tbody tr th {\n",
       "        vertical-align: top;\n",
       "    }\n",
       "\n",
       "    .dataframe thead th {\n",
       "        text-align: right;\n",
       "    }\n",
       "</style>\n",
       "<table border=\"1\" class=\"dataframe\">\n",
       "  <thead>\n",
       "    <tr style=\"text-align: right;\">\n",
       "      <th></th>\n",
       "      <th>motifs</th>\n",
       "      <th>n_shape</th>\n",
       "      <th>n_total</th>\n",
       "      <th>n_obs</th>\n",
       "      <th>p_obs</th>\n",
       "      <th>p_calc</th>\n",
       "      <th>mice</th>\n",
       "      <th>species</th>\n",
       "    </tr>\n",
       "  </thead>\n",
       "  <tbody>\n",
       "    <tr>\n",
       "      <th>0</th>\n",
       "      <td>OMCc_</td>\n",
       "      <td>8287</td>\n",
       "      <td>8949</td>\n",
       "      <td>1123</td>\n",
       "      <td>0.125489</td>\n",
       "      <td>0.124100</td>\n",
       "      <td>MMM1</td>\n",
       "      <td>MMus</td>\n",
       "    </tr>\n",
       "    <tr>\n",
       "      <th>1</th>\n",
       "      <td>AUD_</td>\n",
       "      <td>8287</td>\n",
       "      <td>8949</td>\n",
       "      <td>3</td>\n",
       "      <td>0.000335</td>\n",
       "      <td>0.000980</td>\n",
       "      <td>MMM1</td>\n",
       "      <td>MMus</td>\n",
       "    </tr>\n",
       "    <tr>\n",
       "      <th>2</th>\n",
       "      <td>STR_</td>\n",
       "      <td>8287</td>\n",
       "      <td>8949</td>\n",
       "      <td>2668</td>\n",
       "      <td>0.298134</td>\n",
       "      <td>0.294598</td>\n",
       "      <td>MMM1</td>\n",
       "      <td>MMus</td>\n",
       "    </tr>\n",
       "    <tr>\n",
       "      <th>3</th>\n",
       "      <td>AUD_OMCc_</td>\n",
       "      <td>8287</td>\n",
       "      <td>8949</td>\n",
       "      <td>8</td>\n",
       "      <td>0.000894</td>\n",
       "      <td>0.001644</td>\n",
       "      <td>MMM1</td>\n",
       "      <td>MMus</td>\n",
       "    </tr>\n",
       "    <tr>\n",
       "      <th>4</th>\n",
       "      <td>OMCc_STR_</td>\n",
       "      <td>8287</td>\n",
       "      <td>8949</td>\n",
       "      <td>4379</td>\n",
       "      <td>0.489328</td>\n",
       "      <td>0.494259</td>\n",
       "      <td>MMM1</td>\n",
       "      <td>MMus</td>\n",
       "    </tr>\n",
       "    <tr>\n",
       "      <th>...</th>\n",
       "      <td>...</td>\n",
       "      <td>...</td>\n",
       "      <td>...</td>\n",
       "      <td>...</td>\n",
       "      <td>...</td>\n",
       "      <td>...</td>\n",
       "      <td>...</td>\n",
       "      <td>...</td>\n",
       "    </tr>\n",
       "    <tr>\n",
       "      <th>79</th>\n",
       "      <td>STR_</td>\n",
       "      <td>527</td>\n",
       "      <td>530</td>\n",
       "      <td>29</td>\n",
       "      <td>0.054717</td>\n",
       "      <td>0.053811</td>\n",
       "      <td>STM7</td>\n",
       "      <td>STeg</td>\n",
       "    </tr>\n",
       "    <tr>\n",
       "      <th>80</th>\n",
       "      <td>AUD_OMCc_</td>\n",
       "      <td>527</td>\n",
       "      <td>530</td>\n",
       "      <td>9</td>\n",
       "      <td>0.016981</td>\n",
       "      <td>0.018997</td>\n",
       "      <td>STM7</td>\n",
       "      <td>STeg</td>\n",
       "    </tr>\n",
       "    <tr>\n",
       "      <th>81</th>\n",
       "      <td>OMCc_STR_</td>\n",
       "      <td>527</td>\n",
       "      <td>530</td>\n",
       "      <td>351</td>\n",
       "      <td>0.662264</td>\n",
       "      <td>0.659190</td>\n",
       "      <td>STM7</td>\n",
       "      <td>STeg</td>\n",
       "    </tr>\n",
       "    <tr>\n",
       "      <th>82</th>\n",
       "      <td>AUD_STR_</td>\n",
       "      <td>527</td>\n",
       "      <td>530</td>\n",
       "      <td>4</td>\n",
       "      <td>0.007547</td>\n",
       "      <td>0.014256</td>\n",
       "      <td>STM7</td>\n",
       "      <td>STeg</td>\n",
       "    </tr>\n",
       "    <tr>\n",
       "      <th>83</th>\n",
       "      <td>AUD_OMCc_STR_</td>\n",
       "      <td>527</td>\n",
       "      <td>530</td>\n",
       "      <td>94</td>\n",
       "      <td>0.177358</td>\n",
       "      <td>0.174630</td>\n",
       "      <td>STM7</td>\n",
       "      <td>STeg</td>\n",
       "    </tr>\n",
       "  </tbody>\n",
       "</table>\n",
       "<p>84 rows × 8 columns</p>\n",
       "</div>"
      ],
      "text/plain": [
       "           motifs  n_shape  n_total  n_obs     p_obs    p_calc  mice species\n",
       "0           OMCc_     8287     8949   1123  0.125489  0.124100  MMM1    MMus\n",
       "1            AUD_     8287     8949      3  0.000335  0.000980  MMM1    MMus\n",
       "2            STR_     8287     8949   2668  0.298134  0.294598  MMM1    MMus\n",
       "3       AUD_OMCc_     8287     8949      8  0.000894  0.001644  MMM1    MMus\n",
       "4       OMCc_STR_     8287     8949   4379  0.489328  0.494259  MMM1    MMus\n",
       "..            ...      ...      ...    ...       ...       ...   ...     ...\n",
       "79           STR_      527      530     29  0.054717  0.053811  STM7    STeg\n",
       "80      AUD_OMCc_      527      530      9  0.016981  0.018997  STM7    STeg\n",
       "81      OMCc_STR_      527      530    351  0.662264  0.659190  STM7    STeg\n",
       "82       AUD_STR_      527      530      4  0.007547  0.014256  STM7    STeg\n",
       "83  AUD_OMCc_STR_      527      530     94  0.177358  0.174630  STM7    STeg\n",
       "\n",
       "[84 rows x 8 columns]"
      ]
     },
     "execution_count": 84,
     "metadata": {},
     "output_type": "execute_result"
    }
   ],
   "source": [
    "plot_areas = [\"OMCc\", \"AUD\", \"STR\"]\n",
    "\n",
    "# Estimate n-totals\n",
    "n_totals = [estimate_n_total(omc_it[i], plot_areas) for i in range(len(omc_it))]\n",
    "\n",
    "# Count obs motifs\n",
    "n_obs_motifs = [df_to_motif_proportion(df, areas=plot_areas, proportion=False) for df in omc_it]\n",
    "motifs = n_obs_motifs[0].index\n",
    "\n",
    "# convert to proportions\n",
    "p_obs_motifs = [n_obs_motifs[i]/n_totals[i] for i in range(len(n_totals))]\n",
    "\n",
    "# calculate proportions based on independent bulk probabilities adjusted for n_total\n",
    "p_calc_motifs = [df_to_calc_pab_proportions(df, motifs, adjust_total=True) for df in omc_it]\n",
    "\n",
    "motif_strings = TF_to_motifs(motifs)\n",
    "\n",
    "# put into dataframe\n",
    "it_motifs_df = []\n",
    "for i in range(len(n_totals)):\n",
    "    df = pd.DataFrame({\"motifs\":motif_strings, \"n_shape\":omc_it[i].shape[0], \"n_total\":n_totals[i],\n",
    "                  \"n_obs\":n_obs_motifs[i], \"p_obs\":p_obs_motifs[i], \"p_calc\":p_calc_motifs[i],\n",
    "                  \"mice\":metadata.loc[i,\"mice\"], \"species\":metadata.loc[i,\"species\"]})\n",
    "    it_motifs_df.append(df)\n",
    "it_motifs_df = pd.concat(it_motifs_df).reset_index(drop=True)\n",
    "it_motifs_df"
   ]
  },
  {
   "cell_type": "code",
   "execution_count": 120,
   "metadata": {},
   "outputs": [
    {
     "data": {
      "text/plain": [
       "Index(['AUD_', 'AUD_OMCc_', 'AUD_STR_', 'AUD_OMCc_STR_', 'OMCc_', 'OMCc_STR_',\n",
       "       'STR_'],\n",
       "      dtype='object', name='motifs')"
      ]
     },
     "execution_count": 120,
     "metadata": {},
     "output_type": "execute_result"
    }
   ],
   "source": [
    "grouped = it_motifs_df.groupby([\"motifs\", \"species\"])\n",
    "p_obs_avg = grouped['p_obs'].mean()\n",
    "p_obs_fc = p_obs_avg[:,\"STeg\"]/p_obs_avg[:,\"MMus\"]\n",
    "fc_order = p_obs_fc.sort_values(ascending=False).index\n",
    "fc_order"
   ]
  },
  {
   "cell_type": "code",
   "execution_count": null,
   "metadata": {},
   "outputs": [],
   "source": [
    "\n",
    "mmus_avg = p_obs_avg[:, \"MMus\"]\n",
    "for i in range(it_motifs_df.shape[0]):\n",
    "    motif = it_motifs_df.loc[i, \"motifs\"]\n",
    "    p_obs = it_motifs_df.loc[i, \"p_obs\"]\n",
    "    norm = mmus_avg[motif]\n",
    "    it_motifs_df.loc[i,\"p_obs_norm\"] = p_obs/norm\n",
    "it_motifs_df"
   ]
  },
  {
   "cell_type": "code",
   "execution_count": 126,
   "metadata": {},
   "outputs": [
    {
     "name": "stderr",
     "output_type": "stream",
     "text": [
      "/Users/eisko/github_repos/MAPseq_analysis/MAPseq_plotting.py:362: SyntaxWarning: invalid escape sequence '\\d'\n",
      "  \n",
      "/Users/eisko/github_repos/MAPseq_analysis/MAPseq_plotting.py:365: SyntaxWarning: invalid escape sequence '\\ '\n",
      "  ax.spines['right'].set_visible(False)\n",
      "/Users/eisko/github_repos/MAPseq_analysis/MAPseq_plotting.py:479: SyntaxWarning: invalid escape sequence '\\M'\n",
      "  # separate by species\n"
     ]
    },
    {
     "data": {
      "image/png": "[encoded data removed]",
      "text/plain": [
       "<Figure size 640x480 with 1 Axes>"
      ]
     },
     "metadata": {},
     "output_type": "display_data"
    }
   ],
   "source": [
    "dot_bar_plot(it_motifs_df, xaxis=\"motifs\", yaxis=\"p_obs_norm\",\n",
    "             hueaxis=\"species\", order = fc_order)\n",
    "plt.yscale(\"log\")\n",
    "plt.axline((0,1), (1,1), color=\"gray\", linestyle=\"--\", alpha=0.75)\n",
    "plt.xticks(rotation=45, ha='right', rotation_mode='anchor')\n",
    "plt.show()"
   ]
  },
  {
   "cell_type": "code",
   "execution_count": 139,
   "metadata": {},
   "outputs": [
    {
     "name": "stderr",
     "output_type": "stream",
     "text": [
      "/Users/eisko/github_repos/MAPseq_analysis/MAPseq_plotting.py:519: FutureWarning: Series.__getitem__ treating keys as positions is deprecated. In a future version, integer keys will always be treated as labels (consistent with DataFrame behavior). To access a value by position, use `ser.iloc[pos]`\n",
      "  # plot unity line\n"
     ]
    },
    {
     "data": {
      "image/png": "[encoded data removed]",
      "text/plain": [
       "<Figure size 640x480 with 1 Axes>"
      ]
     },
     "metadata": {},
     "output_type": "display_data"
    }
   ],
   "source": [
    "# scatterplot\n",
    "stvmm_area_scatter(it_motifs_df, to_plot=\"p_obs\", groupby=\"motifs\", log=True)\n",
    "plt.show()"
   ]
  },
  {
   "cell_type": "code",
   "execution_count": 137,
   "metadata": {},
   "outputs": [
    {
     "data": {
      "image/png": "[encoded data removed]",
      "text/plain": [
       "<Figure size 400x400 with 1 Axes>"
      ]
     },
     "metadata": {},
     "output_type": "display_data"
    }
   ],
   "source": [
    "# volcano plot\n",
    "ttest = proportion_ttest(it_motifs_df, to_plot=\"p_obs\", groupby=\"motifs\")\n",
    "plot_volcano(ttest, labels=\"motifs\", p_01=False, xlim=(5,-5), legend_loc=None)\n",
    "plt.show()"
   ]
  },
  {
   "cell_type": "code",
   "execution_count": 39,
   "metadata": {},
   "outputs": [
    {
     "data": {
      "text/plain": [
       "5607.0"
      ]
     },
     "execution_count": 39,
     "metadata": {},
     "output_type": "execute_result"
    }
   ],
   "source": [
    "df = omc_it[0].sum()\n",
    "df[\"OMCc\"]"
   ]
  },
  {
   "cell_type": "code",
   "execution_count": 41,
   "metadata": {},
   "outputs": [
    {
     "data": {
      "text/plain": [
       "0"
      ]
     },
     "execution_count": 41,
     "metadata": {},
     "output_type": "execute_result"
    }
   ],
   "source": []
  },
  {
   "cell_type": "code",
   "execution_count": 42,
   "metadata": {},
   "outputs": [],
   "source": [
    "test = [\"A\", \"B\", \"C\", \"D\", \"E\", \"F\", \"G\", \"H\"]\n",
    "vals = {\"A\":1, \"B\":2, \"C\":3, \"D\":4, \"E\":5, \"F\":6, \"G\":7, \"H\":8}\n",
    "\n",
    "plot_areas = [\"OMCc\", \"AUD\", \"STR\"]\n",
    "\n"
   ]
  },
  {
   "cell_type": "code",
   "execution_count": 68,
   "metadata": {},
   "outputs": [],
   "source": [
    "\n",
    "def calculate_n_total(df, areas):\n",
    "    n_obs = df.shape[0]\n",
    "    n_areas = df.sum()\n",
    "    all_terms = []\n",
    "    for k in range(1, len(plot_areas)+1):\n",
    "        combos = list(combinations(plot_areas, k))\n",
    "        term = 0\n",
    "        for i in range(len(combos)):\n",
    "            product = 1\n",
    "            for j in range(len(combos[i])):\n",
    "                n_area = n_areas[combos[i][j]]\n",
    "                product = product*n_area\n",
    "            term = term + product\n",
    "        all_terms.append(term)\n",
    "\n",
    "    # need to subtract first term from n_obs\n",
    "    all_terms[0] = n_obs - all_terms[0]\n",
    "\n",
    "    # multiply every other by -1 starting w/ 3rd term\n",
    "    for l in range(len(all_terms)):\n",
    "        if l>=2 and l%2==0:\n",
    "            all_terms[l] = -1*all_terms[l]\n",
    "\n",
    "    # find roots of polynomial\n",
    "    roots = np.roots(all_terms)\n",
    "\n",
    "    # convert to real numbers if numbers complex\n",
    "    if isinstance(roots[0],complex):\n",
    "        reals = []\n",
    "        for num in roots:\n",
    "            if num.imag==0:\n",
    "                reals.append(num.real)\n",
    "    else:\n",
    "        reals = roots.copy()\n",
    "\n",
    "    # pick root that is more than n_obs\n",
    "    # if can't find root more than n_obs, return n_obs as n_total\n",
    "    n_total = n_obs\n",
    "    for num in reals:\n",
    "        if num > n_obs:\n",
    "            n_total = round(num)\n",
    "\n",
    "    return(n_total)"
   ]
  },
  {
   "cell_type": "code",
   "execution_count": 69,
   "metadata": {},
   "outputs": [
    {
     "data": {
      "text/plain": [
       "1318"
      ]
     },
     "execution_count": 69,
     "metadata": {},
     "output_type": "execute_result"
    }
   ],
   "source": [
    "plot_areas = ['TH', 'HY', 'AMY', 'SNr', 'SCm', 'PG',\n",
    "       'PAG', 'BS']\n",
    "n_total = calculate_n_total(omc_pt[0], plot_areas)\n",
    "n_total"
   ]
  },
  {
   "cell_type": "code",
   "execution_count": 66,
   "metadata": {},
   "outputs": [
    {
     "data": {
      "text/plain": [
       "[1318.066654514159, 103.83064027551005, 25.000002800996064]"
      ]
     },
     "execution_count": 66,
     "metadata": {},
     "output_type": "execute_result"
    }
   ],
   "source": []
  },
  {
   "cell_type": "code",
   "execution_count": null,
   "metadata": {},
   "outputs": [],
   "source": [
    "1318"
   ]
  },
  {
   "cell_type": "code",
   "execution_count": null,
   "metadata": {},
   "outputs": [],
   "source": [
    "\n",
    "# multiply odd terms 3 or greater by -1\n",
    "for l in range(len(3)):\n",
    "    if l>=3 and l%2==1:\n",
    "        all_terms[l] = -1*all_terms[l]"
   ]
  },
  {
   "cell_type": "markdown",
   "metadata": {},
   "source": [
    "# PT Motifs"
   ]
  },
  {
   "cell_type": "markdown",
   "metadata": {},
   "source": [
    "### Apply $N_{total}$ calculation to real data\n",
    "\n",
    "- Taken from Methods section of Han et al., 2017\n",
    "$$\n",
    "\\frac{N_{obs}}{N_{total}} + \\Pi_{i=1}^k(1-\\frac{N_{Ai}}{N_{total}}) = 1\n",
    "$$\n",
    "For 8 areas, k=8, then expand that to:\n",
    "$$\n",
    "(N_{obs}-N_{A1}-N_{A2}-N_{A3})N_{total}^{2} + (N_{A1}N_{A2} + N_{A1}N_{A3} + N_{A2}N_{A3})N_{total} - (N_{A1}N_{A2}N_{A3}) = 0\n",
    "$$"
   ]
  }
 ],
 "metadata": {
  "kernelspec": {
   "display_name": "MAPseq_231109",
   "language": "python",
   "name": "python3"
  },
  "language_info": {
   "codemirror_mode": {
    "name": "ipython",
    "version": 3
   },
   "file_extension": ".py",
   "mimetype": "text/x-python",
   "name": "python",
   "nbconvert_exporter": "python",
   "pygments_lexer": "ipython3",
   "version": "3.12.0"
  }
 },
 "nbformat": 4,
 "nbformat_minor": 2
}
