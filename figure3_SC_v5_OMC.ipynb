{
 "cells": [
  {
   "cell_type": "code",
   "execution_count": 5,
   "metadata": {},
   "outputs": [
    {
     "name": "stdout",
     "output_type": "stream",
     "text": [
      "The autoreload extension is already loaded. To reload it, use:\n",
      "  %reload_ext autoreload\n"
     ]
    }
   ],
   "source": [
    "###### load packages\n",
    "import pandas as pd\n",
    "import numpy as np\n",
    "import matplotlib.pyplot as plt\n",
    "# from sklearn.preprocessing import MinMaxScaler, StandardScaler # min/max scaling\n",
    "import pickle\n",
    "import seaborn as sns\n",
    "from matplotlib.colors import LogNorm\n",
    "from MAPseq_processing import * # import all functions from this script\n",
    "from MAPseq_plotting import * # import all functions from this script\n",
    "import matplotlib.lines as mlines # needed for custom legend\n",
    "from scipy import stats\n",
    "import random\n",
    "\n",
    "# for upset plots\n",
    "from itertools import combinations, chain\n",
    "from upsetplot import from_memberships\n",
    "from math import comb\n",
    "import upsetplot\n",
    "\n",
    "\n",
    "# needed for editable text in svg format\n",
    "plt.rcParams['svg.fonttype'] = 'none'\n",
    "\n",
    "# import metadata\n",
    "from M194_M220_metadata import *\n",
    "\n",
    "# import colormaps\n",
    "from colormaps import blue_cmp, orange_cmp\n",
    "\n",
    "%matplotlib inline\n",
    "\n",
    "# auto refreshes imported functions if source code changes:\n",
    "%load_ext autoreload\n",
    "%autoreload 2\n"
   ]
  },
  {
   "cell_type": "code",
   "execution_count": 8,
   "metadata": {},
   "outputs": [],
   "source": [
    "# set-up variables\n",
    "in_path = '/Volumes/Data/Emily/MAPseq/combined_analysis_M194_M220/processed_data/'\n",
    "# out_path = '/Volumes/Data/Emily/figures/fig_3_sc/python_out/'\n",
    "out_path = '/Volumes/Data/Emily/figures/fig_2_mapseq/figure_pics/'\n",
    "\n",
    "#### load data\n",
    "omc_bin = pd.read_pickle(in_path+\"M194_M220_OMC_bin4.pkl\")\n",
    "\n",
    "#### load data\n",
    "omc_countN = pd.read_pickle(in_path+\"M194_M220_OMC_countN4.pkl\")\n",
    "\n"
   ]
  },
  {
   "cell_type": "code",
   "execution_count": 9,
   "metadata": {},
   "outputs": [],
   "source": [
    "\n",
    "# initial processing\n",
    "# bin processing\n",
    "omc_clean = [clean_up_data(df) for df in omc_bin]\n",
    "omc_type = [sort_by_celltype(df) for df in omc_clean]\n",
    "\n",
    "# seperate it cells\n",
    "omc_it = [df[df['type']==\"IT\"] for df in omc_type]\n",
    "\n",
    "# seperate pt cells\n",
    "omc_pt = [df[df['type']==\"PT\"] for df in omc_type]\n",
    "# seperate and concatenate by species\n",
    "steg_it = []\n",
    "steg_pt = []\n",
    "mmus_it = []\n",
    "mmus_pt = []\n",
    "\n",
    "for i in range(metadata.shape[0]):\n",
    "    if metadata.loc[i,\"species\"]==\"STeg\":\n",
    "        steg_it.append(omc_it[i])\n",
    "        steg_pt.append(omc_pt[i])\n",
    "    elif metadata.loc[i,\"species\"]==\"MMus\":\n",
    "        mmus_it.append(omc_it[i])\n",
    "        mmus_pt.append(omc_pt[i])\n",
    "\n",
    "st_it_all = pd.concat(steg_it)\n",
    "st_pt_all = pd.concat(steg_pt)\n",
    "mm_it_all = pd.concat(mmus_it)\n",
    "mm_pt_all = pd.concat(mmus_pt)"
   ]
  },
  {
   "cell_type": "markdown",
   "metadata": {},
   "source": [
    "# Functions"
   ]
  },
  {
   "cell_type": "code",
   "execution_count": null,
   "metadata": {},
   "outputs": [],
   "source": []
  },
  {
   "cell_type": "markdown",
   "metadata": {},
   "source": [
    "# Upset barplots w/ mean/std"
   ]
  },
  {
   "cell_type": "code",
   "execution_count": null,
   "metadata": {},
   "outputs": [],
   "source": [
    "# plot_it = [\"OMCc\", \"AUD\", \"STR\"]\n",
    "\n",
    "# # plot steg\n",
    "# fancy_upsetplot(st_it_all, plot_it, reps=500, title=\"STeg IT Neurons\", ymax=0.8)\n",
    "# # plt.savefig(out_path+\"st_it_upset.jpg\", dpi=300)\n",
    "# plt.show()\n",
    "\n",
    "\n",
    "# fancy_upsetplot(st_it_all, plot_it, reps=500, subset=\"AUD\", title=\"STeg IT Neurons\", ymax=0.2)\n",
    "# plt.savefig(out_path+\"st_it_aud_upset.svg\", dpi=300, bbox_inches=\"tight\")\n",
    "# plt.show()\n",
    "\n",
    "# # plot mmus\n",
    "# fancy_upsetplot(mm_it_all, plot_it, reps=250, color=\"tab:blue\", title=\"MMus IT Neurons\", ymax=0.8)\n",
    "# # plt.savefig(out_path+\"mm_it_upset.jpg\", dpi=300, bbox_inches=\"tight\")\n",
    "# plt.show()\n",
    "\n",
    "# fancy_upsetplot(mm_it_all, plot_it, reps=250, subset=\"AUD\", color=\"tab:blue\", title=\"MMus IT Neurons\", ymax=0.2)\n",
    "# plt.savefig(out_path+\"mm_it_aud_upset.svg\", dpi=300, bbox_inches=\"tight\")\n",
    "# plt.show()\n"
   ]
  },
  {
   "cell_type": "code",
   "execution_count": null,
   "metadata": {},
   "outputs": [],
   "source": [
    "plot_it = [\"OMCc\", \"AUD\", \"STR\"]\n",
    "st_it_aud = st_it_all[st_it_all[\"AUD\"]==1]\n",
    "mm_it_aud = mm_it_all[mm_it_all[\"AUD\"]==1]\n",
    "\n",
    "\n",
    "# steg\n",
    "fancy_upsetplot(st_it_aud, plot_it, reps=500, subset=\"AUD\", title=\"STeg AUD/IT Neurons\", ymax=1,\n",
    "                plot_legend=False, plot_sim=False)\n",
    "plt.savefig(out_path+\"st_it_aud_upset.svg\", dpi=300, bbox_inches=\"tight\")\n",
    "plt.show()\n",
    "\n",
    "# mmus\n",
    "fancy_upsetplot(mm_it_aud, plot_it, reps=250, subset=\"AUD\", color=\"tab:blue\", title=\"MMus AUD/IT Neurons\", ymax=1,\n",
    "                plot_legend=False, plot_sim=False)\n",
    "plt.savefig(out_path+\"mm_it_aud_upset.svg\", dpi=300, bbox_inches=\"tight\")\n",
    "plt.show()\n"
   ]
  },
  {
   "cell_type": "code",
   "execution_count": null,
   "metadata": {},
   "outputs": [],
   "source": [
    "# create stackd bar charts of relative proportions of motifs\n",
    "# generate proportions for motifs (counts encounter problems in figure size???)\n",
    "st_motif_prop = df_to_motif_proportion(st_it_aud, plot_it, proportion=True)\n",
    "mm_motif_prop = df_to_motif_proportion(mm_it_aud, plot_it, proportion=True)\n",
    "\n",
    "aud_prop = pd.DataFrame()\n",
    "aud_prop[\"MMus\"] = mm_motif_prop\n",
    "aud_prop[\"STeg\"] = st_motif_prop\n",
    "aud_prop[(aud_prop.sum(axis=1)!=0)]\n",
    "\n",
    "aud_prop = aud_prop.reset_index()\n"
   ]
  },
  {
   "cell_type": "code",
   "execution_count": null,
   "metadata": {},
   "outputs": [],
   "source": [
    "aud = [l*\"AUD\" for l in aud_prop[\"AUD\"]]\n",
    "omcc = [l*\"OMCc\" for l in aud_prop[\"OMCc\"]]\n",
    "stri = [l*\"STR\" for l in aud_prop[\"STR\"]]\n",
    "\n",
    "motifs = []\n",
    "for i in range(aud_prop.shape[0]):\n",
    "    motif = aud[i]+\"_\"+omcc[i]+\"_\"+stri[i]\n",
    "    motifs.append(motif)\n",
    "\n",
    "aud_prop[\"motif\"] = motifs\n",
    "\n",
    "aud_prop = aud_prop.drop([\"AUD\", \"OMCc\", \"STR\"], axis=1)\n",
    "\n",
    "plot_df = pd.melt(aud_prop, id_vars=\"motif\", value_vars=[\"MMus\", \"STeg\"], var_name=\"species\", value_name=\"proportion\")"
   ]
  },
  {
   "cell_type": "code",
   "execution_count": null,
   "metadata": {},
   "outputs": [],
   "source": [
    "aud_prop\n",
    "plot_df = pd.DataFrame(columns=aud_prop['motif'], index=[\"MMus\", \"STeg\"])\n",
    "plot_df.loc[\"MMus\",:] = aud_prop[\"MMus\"].values\n",
    "plot_df.loc[\"STeg\",:] = aud_prop[\"STeg\"].values\n",
    "plot_df"
   ]
  },
  {
   "cell_type": "code",
   "execution_count": null,
   "metadata": {},
   "outputs": [],
   "source": [
    "plot_df.plot(kind='bar', stacked=True)\n",
    "plt.legend(bbox_to_anchor=(1.05,1))\n",
    "plt.rcParams.update({'font.size': 12})\n",
    "fig = plt.gcf()\n",
    "fig.set_size_inches((2,4))\n",
    "plt.ylabel(\"AUD Motif proportion\")\n",
    "plt.title(\"AUD Motif proportions\", size=20, pad=20)\n",
    "plt.savefig(out_path+\"AUD_stacked.svg\", dpi=300, bbox_inches=\"tight\")\n",
    "plt.show()"
   ]
  },
  {
   "cell_type": "code",
   "execution_count": null,
   "metadata": {},
   "outputs": [],
   "source": [
    "from random import randrange\n",
    "randrange(-5,5)/100"
   ]
  },
  {
   "cell_type": "code",
   "execution_count": null,
   "metadata": {},
   "outputs": [],
   "source": [
    "motifs, st_simulations = motif_simulation(st_it_aud, plot_areas=plot_it, reps=500)\n",
    "motifs, mm_simulations = motif_simulation(mm_it_aud, plot_areas=plot_it, reps=500)"
   ]
  },
  {
   "cell_type": "code",
   "execution_count": null,
   "metadata": {},
   "outputs": [],
   "source": [
    "st_means = st_simulations.mean(axis=0)\n",
    "mm_means = mm_simulations.mean(axis=0)\n",
    "st_std = st_simulations.std(axis=0)\n",
    "mm_std = mm_simulations.std(axis=0)\n",
    "scatter_df = aud_prop.copy()\n",
    "scatter_df[\"mm_means\"] = mm_means\n",
    "scatter_df[\"st_means\"] = st_means\n",
    "scatter_df[\"mm_std\"] = mm_std\n",
    "scatter_df[\"st_std\"] = st_std\n",
    "scatter_df"
   ]
  },
  {
   "cell_type": "code",
   "execution_count": null,
   "metadata": {},
   "outputs": [],
   "source": [
    "aud_prop\n",
    "\n",
    "plt.scatter(aud_prop[\"MMus\"], aud_prop[\"STeg\"])\n",
    "# plt.scatter(scatter_df[\"mm_means\"], scatter_df[\"st_means\"])\n",
    "# plt.errorbar(scatter_df['mm_means'], scatter_df['st_means'], \n",
    "#         xerr=scatter_df[\"mm_std\"], fmt='|', color=\"black\")\n",
    "# plt.errorbar(scatter_df['mm_means'], scatter_df['st_means'], \n",
    "#         yerr=scatter_df[\"st_std\"], fmt='|', color=\"black\")\n",
    "plt.axline((0,0), (0.9,0.9), color=\"grey\", linestyle=\"--\")\n",
    "for i in range(aud_prop.shape[0]):\n",
    "    jit = randrange(-5,5)/100\n",
    "    plt.text(aud_prop.loc[i,\"MMus\"], aud_prop.loc[i,\"STeg\"]+jit, s=aud_prop.loc[i,\"motif\"], size=8)\n",
    "\n",
    "plt.savefig(out_path+\"AUD_motif_scatter.jpeg\", dpi=300, bbox_inches=\"tight\")\n",
    "plt.show()"
   ]
  },
  {
   "cell_type": "markdown",
   "metadata": {},
   "source": [
    "## pt cells motifs upset plot"
   ]
  },
  {
   "cell_type": "code",
   "execution_count": 4,
   "metadata": {},
   "outputs": [
    {
     "ename": "NameError",
     "evalue": "name 'st_pt_all' is not defined",
     "output_type": "error",
     "traceback": [
      "\u001b[0;31m---------------------------------------------------------------------------\u001b[0m",
      "\u001b[0;31mNameError\u001b[0m                                 Traceback (most recent call last)",
      "\u001b[1;32m/Users/eisko/github_repos/MAPseq_analysis/figure3_SC_v5_OMC.ipynb Cell 18\u001b[0m line \u001b[0;36m8\n\u001b[1;32m      <a href='vscode-notebook-cell:/Users/eisko/github_repos/MAPseq_analysis/figure3_SC_v5_OMC.ipynb#X23sZmlsZQ%3D%3D?line=0'>1</a>\u001b[0m plot_pt \u001b[39m=\u001b[39m [\u001b[39m\"\u001b[39m\u001b[39mBS\u001b[39m\u001b[39m\"\u001b[39m, \u001b[39m\"\u001b[39m\u001b[39mSNr\u001b[39m\u001b[39m\"\u001b[39m, \u001b[39m\"\u001b[39m\u001b[39mSCm\u001b[39m\u001b[39m\"\u001b[39m, \u001b[39m\"\u001b[39m\u001b[39mPG\u001b[39m\u001b[39m\"\u001b[39m, \u001b[39m\"\u001b[39m\u001b[39mHY\u001b[39m\u001b[39m\"\u001b[39m, \u001b[39m\"\u001b[39m\u001b[39mPAG\u001b[39m\u001b[39m\"\u001b[39m]\n\u001b[1;32m      <a href='vscode-notebook-cell:/Users/eisko/github_repos/MAPseq_analysis/figure3_SC_v5_OMC.ipynb#X23sZmlsZQ%3D%3D?line=3'>4</a>\u001b[0m \u001b[39m# plot steg\u001b[39;00m\n\u001b[1;32m      <a href='vscode-notebook-cell:/Users/eisko/github_repos/MAPseq_analysis/figure3_SC_v5_OMC.ipynb#X23sZmlsZQ%3D%3D?line=4'>5</a>\u001b[0m \u001b[39m# fancy_upsetplot(st_pt_all, plot_pt, reps=250, title=\"STeg PT Neurons\", ymax=0.1, plot_legend=False)\u001b[39;00m\n\u001b[1;32m      <a href='vscode-notebook-cell:/Users/eisko/github_repos/MAPseq_analysis/figure3_SC_v5_OMC.ipynb#X23sZmlsZQ%3D%3D?line=5'>6</a>\u001b[0m \u001b[39m# plt.show()\u001b[39;00m\n\u001b[0;32m----> <a href='vscode-notebook-cell:/Users/eisko/github_repos/MAPseq_analysis/figure3_SC_v5_OMC.ipynb#X23sZmlsZQ%3D%3D?line=7'>8</a>\u001b[0m fancy_upsetplot(st_pt_all, plot_pt, reps\u001b[39m=\u001b[39m\u001b[39m250\u001b[39m, subset\u001b[39m=\u001b[39m\u001b[39m\"\u001b[39m\u001b[39mPAG\u001b[39m\u001b[39m\"\u001b[39m, title\u001b[39m=\u001b[39m\u001b[39m\"\u001b[39m\u001b[39mSTeg PT Neurons\u001b[39m\u001b[39m\"\u001b[39m, ymax\u001b[39m=\u001b[39m\u001b[39m0.1\u001b[39m, plot_legend\u001b[39m=\u001b[39m\u001b[39mFalse\u001b[39;00m)\n\u001b[1;32m      <a href='vscode-notebook-cell:/Users/eisko/github_repos/MAPseq_analysis/figure3_SC_v5_OMC.ipynb#X23sZmlsZQ%3D%3D?line=8'>9</a>\u001b[0m \u001b[39m# plt.savefig(out_path+\"st_pt_upset.jpg\", dpi=300, bbox_inches=\"tight\")\u001b[39;00m\n\u001b[1;32m     <a href='vscode-notebook-cell:/Users/eisko/github_repos/MAPseq_analysis/figure3_SC_v5_OMC.ipynb#X23sZmlsZQ%3D%3D?line=9'>10</a>\u001b[0m plt\u001b[39m.\u001b[39mshow()\n",
      "\u001b[0;31mNameError\u001b[0m: name 'st_pt_all' is not defined"
     ]
    }
   ],
   "source": [
    "plot_pt = [\"BS\", \"SNr\", \"SCm\", \"PG\", \"HY\", \"PAG\"]\n",
    "\n",
    "\n",
    "# plot steg\n",
    "# fancy_upsetplot(st_pt_all, plot_pt, reps=250, title=\"STeg PT Neurons\", ymax=0.1, plot_legend=False)\n",
    "# plt.show()\n",
    "\n",
    "fancy_upsetplot(st_pt_all, plot_pt, reps=250, subset=\"PAG\", title=\"STeg PT Neurons\", ymax=0.1, plot_legend=False)\n",
    "# plt.savefig(out_path+\"st_pt_upset.jpg\", dpi=300, bbox_inches=\"tight\")\n",
    "plt.show()\n",
    "\n",
    "# plot mmus\n",
    "# fancy_upsetplot(mm_pt_all, plot_pt, reps=250, color=\"tab:blue\", title=\"MMus PT Neurons\", ymax=0.1, plot_legend=False)\n",
    "# plt.show()\n",
    "\n",
    "fancy_upsetplot(mm_pt_all, plot_pt, reps=250, subset=\"PAG\", color=\"tab:blue\", title=\"MMus PT Neurons\", ymax=0.1, plot_legend=False)\n",
    "# plt.savefig(out_path+\"mm_pt_upset.jpg\", dpi=300, bbox_inches=\"tight\")\n",
    "plt.show()\n",
    "\n"
   ]
  },
  {
   "cell_type": "markdown",
   "metadata": {},
   "source": [
    "# modified upset plots\n",
    "- plot grey bar for ci95 - emperically determined\n",
    "- dot for real/observed proportion\n",
    "- calc emperic p-value"
   ]
  },
  {
   "cell_type": "markdown",
   "metadata": {},
   "source": [
    "## IT Cells"
   ]
  },
  {
   "cell_type": "code",
   "execution_count": null,
   "metadata": {},
   "outputs": [],
   "source": [
    "to_plot = [\"OMCc\", \"AUD\", \"STR\"]\n",
    "motifs, simulations = motif_simulation(st_it_all, plot_areas=to_plot)\n",
    "motif_prop = df_to_motif_proportion(st_it_all, areas=to_plot)\n",
    "\n",
    "print(motif_prop)\n"
   ]
  },
  {
   "cell_type": "code",
   "execution_count": null,
   "metadata": {},
   "outputs": [],
   "source": [
    "to_plot = [\"OMCc\", \"AUD\", \"STR\"]\n",
    "\n",
    "plot_motif_hist_prop(st_it_all, title=\"STeg IT Motifs\", reps=1000)\n",
    "plt.show()\n",
    "\n",
    "plot_motif_hist_prop(mm_it_all, title=\"MMus IT Motifs\", color=\"tab:blue\", reps=1000)\n",
    "plt.show()"
   ]
  },
  {
   "cell_type": "markdown",
   "metadata": {},
   "source": [
    "## PT cells"
   ]
  },
  {
   "cell_type": "code",
   "execution_count": null,
   "metadata": {},
   "outputs": [],
   "source": [
    "plot_pt = [\"BS\", \"SNr\", \"SCm\", \"PG\", \"HY\", \"PAG\"]\n",
    "motifs, simulations = motif_simulation(st_pt_all, plot_areas=plot_pt, subset=\"PAG\")\n",
    "motif_prop = df_to_motif_proportion(st_pt_all, areas=plot_pt, subset=\"PAG\")\n",
    "motif_prop"
   ]
  },
  {
   "cell_type": "code",
   "execution_count": null,
   "metadata": {},
   "outputs": [],
   "source": [
    "# plot simulated motif histograms w/ line for real value\n",
    "plot_pt = [\"BS\", \"SNr\", \"SCm\", \"PG\", \"HY\", \"PAG\"]\n",
    "\n",
    "plot_motif_hist_prop(st_pt_all, title=\"STeg PAG/PT Motifs\", plot_areas=plot_pt,\n",
    "                      subset_area=\"PAG\", subset_idx=(16,32), reps=500)\n",
    "plt.show()\n",
    "\n",
    "plot_motif_hist_prop(mm_pt_all, title=\"MMus PAG/PT Motifs\", color=\"tab:blue\", \n",
    "                     subset_area=\"PAG\", plot_areas=plot_pt, subset_idx=(16,32), reps=500)\n",
    "plt.show()"
   ]
  },
  {
   "cell_type": "markdown",
   "metadata": {},
   "source": [
    "# PT clean-up\n",
    "- PAG+1, PAG+2, PAG+3..."
   ]
  },
  {
   "cell_type": "code",
   "execution_count": 10,
   "metadata": {},
   "outputs": [
    {
     "name": "stdout",
     "output_type": "stream",
     "text": [
      "[12, 34, 69, 140, 147, 30]\n",
      "[0.012232415902140673, 0.034658511722731905, 0.07033639143730887, 0.14271151885830785, 0.14984709480122324, 0.03058103975535168]\n"
     ]
    },
    {
     "name": "stderr",
     "output_type": "stream",
     "text": [
      "/Users/eisko/github_repos/MAPseq_analysis/MAPseq_processing.py:470: FutureWarning: Series.__getitem__ treating keys as positions is deprecated. In a future version, integer keys will always be treated as labels (consistent with DataFrame behavior). To access a value by position, use `ser.iloc[pos]`\n",
      "  plot_s = plot_s[idx]\n",
      "/var/folders/l2/gvq0gkm95b1fbrlls4tsq2wr0000gp/T/ipykernel_20185/1539931784.py:19: FutureWarning: Series.__getitem__ treating keys as positions is deprecated. In a future version, integer keys will always be treated as labels (consistent with DataFrame behavior). To access a value by position, use `ser.iloc[pos]`\n",
      "  st_count.append(pag_count[idx].sum())\n"
     ]
    }
   ],
   "source": [
    "# motifs, simulatioms\n",
    "plot_pt = [\"BS\", \"SNr\", \"SCm\", \"PG\", \"HY\", \"PAG\"]\n",
    "\n",
    "\n",
    "\n",
    "# generate motif counts\n",
    "pag_count = df_to_motif_proportion(st_pt_all, plot_pt, proportion=False, subset=\"PAG\")\n",
    "\n",
    "pag_index = np.array(pag_count.index.tolist())\n",
    "\n",
    "degree = pag_index.sum(axis=1)\n",
    "\n",
    "\n",
    "# pag_df = pd.DataFrame(columns=[\"PAG\", \"PAG+1\", \"PAG+2\", \"PAG+3\", \"PAG+4\", \"PAG+5\", \"PAG+6(all)\"])\n",
    "\n",
    "st_count =  []\n",
    "for i in range(1,7):\n",
    "    idx = [j for j in range(pag_index.shape[0]) if degree[j]==i]\n",
    "    st_count.append(pag_count[idx].sum())\n",
    "\n",
    "st_prop = [c/st_pt_all.shape[0] for c in st_count]\n",
    "\n",
    "print(st_count)\n",
    "print(st_prop)\n"
   ]
  },
  {
   "cell_type": "code",
   "execution_count": 11,
   "metadata": {},
   "outputs": [
    {
     "name": "stdout",
     "output_type": "stream",
     "text": [
      "[17, 55, 192, 442, 662, 122]\n",
      "[0.0018360514094394643, 0.0059401663246570905, 0.02073658062425748, 0.04773733664542607, 0.07149800194405444, 0.013176368938330274]\n"
     ]
    },
    {
     "name": "stderr",
     "output_type": "stream",
     "text": [
      "/Users/eisko/github_repos/MAPseq_analysis/MAPseq_processing.py:470: FutureWarning: Series.__getitem__ treating keys as positions is deprecated. In a future version, integer keys will always be treated as labels (consistent with DataFrame behavior). To access a value by position, use `ser.iloc[pos]`\n",
      "  plot_s = plot_s[idx]\n",
      "/var/folders/l2/gvq0gkm95b1fbrlls4tsq2wr0000gp/T/ipykernel_20185/1254945671.py:16: FutureWarning: Series.__getitem__ treating keys as positions is deprecated. In a future version, integer keys will always be treated as labels (consistent with DataFrame behavior). To access a value by position, use `ser.iloc[pos]`\n",
      "  mm_count.append(pag_count[idx].sum())\n"
     ]
    }
   ],
   "source": [
    "# motifs, simulatioms\n",
    "\n",
    "# generate motif counts\n",
    "pag_count = df_to_motif_proportion(mm_pt_all, plot_pt, proportion=False, subset=\"PAG\")\n",
    "\n",
    "pag_index = np.array(pag_count.index.tolist())\n",
    "\n",
    "degree = pag_index.sum(axis=1)\n",
    "\n",
    "\n",
    "# pag_df = pd.DataFrame(columns=[\"PAG\", \"PAG+1\", \"PAG+2\", \"PAG+3\", \"PAG+4\", \"PAG+5\", \"PAG+6(all)\"])\n",
    "\n",
    "mm_count =  []\n",
    "for i in range(1,7):\n",
    "    idx = [j for j in range(pag_index.shape[0]) if degree[j]==i]\n",
    "    mm_count.append(pag_count[idx].sum())\n",
    "\n",
    "mm_prop = [c/mm_pt_all.shape[0] for c in mm_count]\n",
    "\n",
    "print(mm_count)\n",
    "print(mm_prop)\n"
   ]
  },
  {
   "cell_type": "code",
   "execution_count": 12,
   "metadata": {},
   "outputs": [
    {
     "data": {
      "image/png": "[encoded data removed]",
      "text/plain": [
       "<Figure size 640x480 with 1 Axes>"
      ]
     },
     "metadata": {},
     "output_type": "display_data"
    }
   ],
   "source": [
    "xlabels = [\"PAG\", \"PAG+1\", \"PAG+2\", \"PAG+3\", \"PAG+4\", \"PAG+5(all)\"]\n",
    "\n",
    "st_df = pd.DataFrame({\"xlabel\":xlabels, \"proportion\":st_prop, \"count\":st_count, \"species\":\"STeg\"})\n",
    "mm_df = pd.DataFrame({\"xlabel\":xlabels, \"proportion\":mm_prop, \"count\":mm_count, \"species\":\"MMus\"})\n",
    "plot_df = pd.concat([mm_df, st_df]).reset_index(drop=True)\n",
    "\n",
    "\n",
    "sns.stripplot(plot_df, x=\"xlabel\", y=\"proportion\", hue=\"species\",\n",
    "              size=10)\n",
    "# annotate w/ count\n",
    "for i in range(plot_df.shape[0]):\n",
    "    plt.text(plot_df.loc[i,\"xlabel\"], plot_df.loc[i,\"proportion\"]+0.001,\n",
    "             s=str(plot_df.loc[i,\"count\"]))\n",
    "    \n",
    "plt.title(\"Proportion from all PT cells\")\n",
    "plt.show()"
   ]
  },
  {
   "cell_type": "code",
   "execution_count": 13,
   "metadata": {},
   "outputs": [
    {
     "data": {
      "text/html": [
       "<div>\n",
       "<style scoped>\n",
       "    .dataframe tbody tr th:only-of-type {\n",
       "        vertical-align: middle;\n",
       "    }\n",
       "\n",
       "    .dataframe tbody tr th {\n",
       "        vertical-align: top;\n",
       "    }\n",
       "\n",
       "    .dataframe thead th {\n",
       "        text-align: right;\n",
       "    }\n",
       "</style>\n",
       "<table border=\"1\" class=\"dataframe\">\n",
       "  <thead>\n",
       "    <tr style=\"text-align: right;\">\n",
       "      <th></th>\n",
       "      <th>xlabel</th>\n",
       "      <th>proportion</th>\n",
       "      <th>count</th>\n",
       "      <th>species</th>\n",
       "      <th>pag_prop</th>\n",
       "    </tr>\n",
       "  </thead>\n",
       "  <tbody>\n",
       "    <tr>\n",
       "      <th>0</th>\n",
       "      <td>PAG</td>\n",
       "      <td>0.001836</td>\n",
       "      <td>17</td>\n",
       "      <td>MMus</td>\n",
       "      <td>0.011409</td>\n",
       "    </tr>\n",
       "    <tr>\n",
       "      <th>1</th>\n",
       "      <td>PAG+1</td>\n",
       "      <td>0.005940</td>\n",
       "      <td>55</td>\n",
       "      <td>MMus</td>\n",
       "      <td>0.036913</td>\n",
       "    </tr>\n",
       "    <tr>\n",
       "      <th>2</th>\n",
       "      <td>PAG+2</td>\n",
       "      <td>0.020737</td>\n",
       "      <td>192</td>\n",
       "      <td>MMus</td>\n",
       "      <td>0.128859</td>\n",
       "    </tr>\n",
       "    <tr>\n",
       "      <th>3</th>\n",
       "      <td>PAG+3</td>\n",
       "      <td>0.047737</td>\n",
       "      <td>442</td>\n",
       "      <td>MMus</td>\n",
       "      <td>0.296644</td>\n",
       "    </tr>\n",
       "    <tr>\n",
       "      <th>4</th>\n",
       "      <td>PAG+4</td>\n",
       "      <td>0.071498</td>\n",
       "      <td>662</td>\n",
       "      <td>MMus</td>\n",
       "      <td>0.444295</td>\n",
       "    </tr>\n",
       "    <tr>\n",
       "      <th>5</th>\n",
       "      <td>PAG+5(all)</td>\n",
       "      <td>0.013176</td>\n",
       "      <td>122</td>\n",
       "      <td>MMus</td>\n",
       "      <td>0.081879</td>\n",
       "    </tr>\n",
       "    <tr>\n",
       "      <th>6</th>\n",
       "      <td>PAG</td>\n",
       "      <td>0.012232</td>\n",
       "      <td>12</td>\n",
       "      <td>STeg</td>\n",
       "      <td>0.027778</td>\n",
       "    </tr>\n",
       "    <tr>\n",
       "      <th>7</th>\n",
       "      <td>PAG+1</td>\n",
       "      <td>0.034659</td>\n",
       "      <td>34</td>\n",
       "      <td>STeg</td>\n",
       "      <td>0.078704</td>\n",
       "    </tr>\n",
       "    <tr>\n",
       "      <th>8</th>\n",
       "      <td>PAG+2</td>\n",
       "      <td>0.070336</td>\n",
       "      <td>69</td>\n",
       "      <td>STeg</td>\n",
       "      <td>0.159722</td>\n",
       "    </tr>\n",
       "    <tr>\n",
       "      <th>9</th>\n",
       "      <td>PAG+3</td>\n",
       "      <td>0.142712</td>\n",
       "      <td>140</td>\n",
       "      <td>STeg</td>\n",
       "      <td>0.324074</td>\n",
       "    </tr>\n",
       "    <tr>\n",
       "      <th>10</th>\n",
       "      <td>PAG+4</td>\n",
       "      <td>0.149847</td>\n",
       "      <td>147</td>\n",
       "      <td>STeg</td>\n",
       "      <td>0.340278</td>\n",
       "    </tr>\n",
       "    <tr>\n",
       "      <th>11</th>\n",
       "      <td>PAG+5(all)</td>\n",
       "      <td>0.030581</td>\n",
       "      <td>30</td>\n",
       "      <td>STeg</td>\n",
       "      <td>0.069444</td>\n",
       "    </tr>\n",
       "  </tbody>\n",
       "</table>\n",
       "</div>"
      ],
      "text/plain": [
       "        xlabel  proportion  count species  pag_prop\n",
       "0          PAG    0.001836     17    MMus  0.011409\n",
       "1        PAG+1    0.005940     55    MMus  0.036913\n",
       "2        PAG+2    0.020737    192    MMus  0.128859\n",
       "3        PAG+3    0.047737    442    MMus  0.296644\n",
       "4        PAG+4    0.071498    662    MMus  0.444295\n",
       "5   PAG+5(all)    0.013176    122    MMus  0.081879\n",
       "6          PAG    0.012232     12    STeg  0.027778\n",
       "7        PAG+1    0.034659     34    STeg  0.078704\n",
       "8        PAG+2    0.070336     69    STeg  0.159722\n",
       "9        PAG+3    0.142712    140    STeg  0.324074\n",
       "10       PAG+4    0.149847    147    STeg  0.340278\n",
       "11  PAG+5(all)    0.030581     30    STeg  0.069444"
      ]
     },
     "execution_count": 13,
     "metadata": {},
     "output_type": "execute_result"
    }
   ],
   "source": [
    "# calculate proportion via all PAG not all PT cells\n",
    "mm_pag = plot_df[plot_df[\"species\"]==\"MMus\"]\n",
    "mm_pag_tot = mm_pag[\"count\"].sum()\n",
    "st_pag = plot_df[plot_df[\"species\"]==\"STeg\"]\n",
    "st_pag_tot = st_pag[\"count\"].sum()\n",
    "\n",
    "for i in range(plot_df.shape[0]):\n",
    "    if plot_df.loc[i, \"species\"]==\"MMus\":\n",
    "        plot_df.loc[i,\"pag_prop\"] = plot_df.loc[i,\"count\"]/mm_pag_tot\n",
    "    elif plot_df.loc[i,\"species\"]==\"STeg\":\n",
    "        plot_df.loc[i,\"pag_prop\"] = plot_df.loc[i,\"count\"]/st_pag_tot\n",
    "\n",
    "plot_df"
   ]
  },
  {
   "cell_type": "code",
   "execution_count": 14,
   "metadata": {},
   "outputs": [
    {
     "data": {
      "image/png": "[encoded data removed]",
      "text/plain": [
       "<Figure size 640x480 with 1 Axes>"
      ]
     },
     "metadata": {},
     "output_type": "display_data"
    }
   ],
   "source": [
    "sns.stripplot(plot_df, x=\"xlabel\", y=\"pag_prop\", hue=\"species\",\n",
    "              size=10)\n",
    "# annotate w/ count\n",
    "for i in range(plot_df.shape[0]):\n",
    "    plt.text(plot_df.loc[i,\"xlabel\"], plot_df.loc[i,\"pag_prop\"]+0.001,\n",
    "             s=str(plot_df.loc[i,\"count\"]))\n",
    "    \n",
    "plt.title(\"Proportion from PAG/PT cells\")\n",
    "plt.show()"
   ]
  },
  {
   "cell_type": "code",
   "execution_count": 15,
   "metadata": {},
   "outputs": [
    {
     "data": {
      "text/plain": [
       "+1     +2     +3     +4     +5     PAG \n",
       "False  False  False  False  False  True    0.011409\n",
       "True   False  False  False  False  True    0.036913\n",
       "       True   False  False  False  True    0.128859\n",
       "              True   False  False  True    0.296644\n",
       "                     True   False  True    0.444295\n",
       "                            True   True    0.081879\n",
       "Name: count, dtype: float64"
      ]
     },
     "execution_count": 15,
     "metadata": {},
     "output_type": "execute_result"
    }
   ],
   "source": [
    "include = [[\"PAG\"],\n",
    "           [\"PAG\", \"+1\"],\n",
    "           [\"PAG\", \"+1\", \"+2\"],\n",
    "           [\"PAG\", \"+1\", \"+2\", \"+3\"],\n",
    "           [\"PAG\", \"+1\", \"+2\", \"+3\", \"+4\"],\n",
    "           [\"PAG\", \"+1\", \"+2\", \"+3\", \"+4\", \"+5\"]]\n",
    "\n",
    "mm_counts = plot_df[0:6][\"count\"]\n",
    "\n",
    "# calculate sum just w/in PAG group\n",
    "mm_prop = plot_df[0:6][\"count\"]/plot_df[0:6][\"count\"].sum()\n",
    "\n",
    "\n",
    "plot_s = from_memberships(include, data=mm_prop)\n",
    "# plot_s = from_memberships(include, data=plot_df[0:6][\"proportion\"])\n",
    "plot_s"
   ]
  },
  {
   "cell_type": "code",
   "execution_count": 16,
   "metadata": {},
   "outputs": [],
   "source": [
    "\n",
    "\n",
    "# # generate motif counts\n",
    "# pag_count = df_to_motif_proportion(mm_pt_all, plot_pt, proportion=False, subset=\"PAG\")\n",
    "\n",
    "# pag_index = np.array(pag_count.index.tolist())\n",
    "\n",
    "# degree = pag_index.sum(axis=1)\n",
    "\n",
    "\n",
    "# # pag_df = pd.DataFrame(columns=[\"PAG\", \"PAG+1\", \"PAG+2\", \"PAG+3\", \"PAG+4\", \"PAG+5\", \"PAG+6(all)\"])\n",
    "\n",
    "# mm_count =  []\n",
    "# for i in range(1,7):\n",
    "#     idx = [j for j in range(pag_index.shape[0]) if degree[j]==i]\n",
    "#     mm_count.append(pag_count[idx].sum())\n",
    "\n",
    "# mm_prop = [c/mm_pt_all.shape[0] for c in mm_count]\n",
    "\n",
    "# print(mm_count)\n",
    "# print(mm_prop)"
   ]
  },
  {
   "cell_type": "code",
   "execution_count": 17,
   "metadata": {},
   "outputs": [
    {
     "data": {
      "text/html": [
       "<div>\n",
       "<style scoped>\n",
       "    .dataframe tbody tr th:only-of-type {\n",
       "        vertical-align: middle;\n",
       "    }\n",
       "\n",
       "    .dataframe tbody tr th {\n",
       "        vertical-align: top;\n",
       "    }\n",
       "\n",
       "    .dataframe thead th {\n",
       "        text-align: right;\n",
       "    }\n",
       "</style>\n",
       "<table border=\"1\" class=\"dataframe\">\n",
       "  <thead>\n",
       "    <tr style=\"text-align: right;\">\n",
       "      <th></th>\n",
       "      <th>xlabel</th>\n",
       "      <th>proportion</th>\n",
       "      <th>count</th>\n",
       "      <th>species</th>\n",
       "      <th>pag_prop</th>\n",
       "    </tr>\n",
       "  </thead>\n",
       "  <tbody>\n",
       "    <tr>\n",
       "      <th>0</th>\n",
       "      <td>PAG</td>\n",
       "      <td>0.001836</td>\n",
       "      <td>17</td>\n",
       "      <td>MMus</td>\n",
       "      <td>0.011409</td>\n",
       "    </tr>\n",
       "    <tr>\n",
       "      <th>1</th>\n",
       "      <td>PAG+1</td>\n",
       "      <td>0.005940</td>\n",
       "      <td>55</td>\n",
       "      <td>MMus</td>\n",
       "      <td>0.036913</td>\n",
       "    </tr>\n",
       "    <tr>\n",
       "      <th>2</th>\n",
       "      <td>PAG+2</td>\n",
       "      <td>0.020737</td>\n",
       "      <td>192</td>\n",
       "      <td>MMus</td>\n",
       "      <td>0.128859</td>\n",
       "    </tr>\n",
       "    <tr>\n",
       "      <th>3</th>\n",
       "      <td>PAG+3</td>\n",
       "      <td>0.047737</td>\n",
       "      <td>442</td>\n",
       "      <td>MMus</td>\n",
       "      <td>0.296644</td>\n",
       "    </tr>\n",
       "    <tr>\n",
       "      <th>4</th>\n",
       "      <td>PAG+4</td>\n",
       "      <td>0.071498</td>\n",
       "      <td>662</td>\n",
       "      <td>MMus</td>\n",
       "      <td>0.444295</td>\n",
       "    </tr>\n",
       "    <tr>\n",
       "      <th>5</th>\n",
       "      <td>PAG+5(all)</td>\n",
       "      <td>0.013176</td>\n",
       "      <td>122</td>\n",
       "      <td>MMus</td>\n",
       "      <td>0.081879</td>\n",
       "    </tr>\n",
       "    <tr>\n",
       "      <th>6</th>\n",
       "      <td>PAG</td>\n",
       "      <td>0.012232</td>\n",
       "      <td>12</td>\n",
       "      <td>STeg</td>\n",
       "      <td>0.027778</td>\n",
       "    </tr>\n",
       "    <tr>\n",
       "      <th>7</th>\n",
       "      <td>PAG+1</td>\n",
       "      <td>0.034659</td>\n",
       "      <td>34</td>\n",
       "      <td>STeg</td>\n",
       "      <td>0.078704</td>\n",
       "    </tr>\n",
       "    <tr>\n",
       "      <th>8</th>\n",
       "      <td>PAG+2</td>\n",
       "      <td>0.070336</td>\n",
       "      <td>69</td>\n",
       "      <td>STeg</td>\n",
       "      <td>0.159722</td>\n",
       "    </tr>\n",
       "    <tr>\n",
       "      <th>9</th>\n",
       "      <td>PAG+3</td>\n",
       "      <td>0.142712</td>\n",
       "      <td>140</td>\n",
       "      <td>STeg</td>\n",
       "      <td>0.324074</td>\n",
       "    </tr>\n",
       "    <tr>\n",
       "      <th>10</th>\n",
       "      <td>PAG+4</td>\n",
       "      <td>0.149847</td>\n",
       "      <td>147</td>\n",
       "      <td>STeg</td>\n",
       "      <td>0.340278</td>\n",
       "    </tr>\n",
       "    <tr>\n",
       "      <th>11</th>\n",
       "      <td>PAG+5(all)</td>\n",
       "      <td>0.030581</td>\n",
       "      <td>30</td>\n",
       "      <td>STeg</td>\n",
       "      <td>0.069444</td>\n",
       "    </tr>\n",
       "  </tbody>\n",
       "</table>\n",
       "</div>"
      ],
      "text/plain": [
       "        xlabel  proportion  count species  pag_prop\n",
       "0          PAG    0.001836     17    MMus  0.011409\n",
       "1        PAG+1    0.005940     55    MMus  0.036913\n",
       "2        PAG+2    0.020737    192    MMus  0.128859\n",
       "3        PAG+3    0.047737    442    MMus  0.296644\n",
       "4        PAG+4    0.071498    662    MMus  0.444295\n",
       "5   PAG+5(all)    0.013176    122    MMus  0.081879\n",
       "6          PAG    0.012232     12    STeg  0.027778\n",
       "7        PAG+1    0.034659     34    STeg  0.078704\n",
       "8        PAG+2    0.070336     69    STeg  0.159722\n",
       "9        PAG+3    0.142712    140    STeg  0.324074\n",
       "10       PAG+4    0.149847    147    STeg  0.340278\n",
       "11  PAG+5(all)    0.030581     30    STeg  0.069444"
      ]
     },
     "execution_count": 17,
     "metadata": {},
     "output_type": "execute_result"
    }
   ],
   "source": [
    "plot_df"
   ]
  },
  {
   "cell_type": "code",
   "execution_count": 19,
   "metadata": {},
   "outputs": [
    {
     "name": "stderr",
     "output_type": "stream",
     "text": [
      "/Users/eisko/mambaforge/envs/MAPseq_231109/lib/python3.12/site-packages/upsetplot/plotting.py:662: FutureWarning: Setting an item of incompatible dtype is deprecated and will raise in a future error of pandas. Value '['tab:blue' '#1f77b42e' '#1f77b42e' '#1f77b42e' '#1f77b42e' '#1f77b42e'\n",
      " 'tab:blue' 'tab:blue' '#1f77b42e' '#1f77b42e' '#1f77b42e' '#1f77b42e'\n",
      " 'tab:blue' 'tab:blue' 'tab:blue' '#1f77b42e' '#1f77b42e' '#1f77b42e'\n",
      " 'tab:blue' 'tab:blue' 'tab:blue' 'tab:blue' '#1f77b42e' '#1f77b42e'\n",
      " 'tab:blue' 'tab:blue' 'tab:blue' 'tab:blue' 'tab:blue' '#1f77b42e'\n",
      " 'tab:blue' 'tab:blue' 'tab:blue' 'tab:blue' 'tab:blue' 'tab:blue']' has dtype incompatible with float64, please explicitly cast to a compatible dtype first.\n",
      "  styles[\"edgecolor\"].fillna(styles[\"facecolor\"], inplace=True)\n",
      "/Users/eisko/mambaforge/envs/MAPseq_231109/lib/python3.12/site-packages/upsetplot/plotting.py:663: FutureWarning: Setting an item of incompatible dtype is deprecated and will raise in a future error of pandas. Value 'solid' has dtype incompatible with float64, please explicitly cast to a compatible dtype first.\n",
      "  styles[\"linestyle\"].fillna(\"solid\", inplace=True)\n",
      "/var/folders/l2/gvq0gkm95b1fbrlls4tsq2wr0000gp/T/ipykernel_20185/3828674366.py:27: FutureWarning: Series.__getitem__ treating keys as positions is deprecated. In a future version, integer keys will always be treated as labels (consistent with DataFrame behavior). To access a value by position, use `ser.iloc[pos]`\n",
      "  plt.text(x=i, y=plot_s[i]+0.04, s=str(mm_counts[i]), ha=\"center\", fontsize=8, zorder=12)\n"
     ]
    },
    {
     "name": "stdout",
     "output_type": "stream",
     "text": [
      "1490\n"
     ]
    },
    {
     "data": {
      "image/png": "[encoded data removed]",
      "text/plain": [
       "<Figure size 444.444x533.333 with 4 Axes>"
      ]
     },
     "metadata": {},
     "output_type": "display_data"
    }
   ],
   "source": [
    "include = [[\"PAG\"],\n",
    "           [\"PAG\", \"+1\"],\n",
    "           [\"PAG\", \"+1\", \"+2\"],\n",
    "           [\"PAG\", \"+1\", \"+2\", \"+3\"],\n",
    "           [\"PAG\", \"+1\", \"+2\", \"+3\", \"+4\"],\n",
    "           [\"PAG\", \"+1\", \"+2\", \"+3\", \"+4\", \"+5\"]]\n",
    "\n",
    "mm_counts = plot_df[0:6][\"count\"]\n",
    "\n",
    "# calculate sum just w/in PAG group\n",
    "mm_prop = plot_df[0:6][\"count\"]/plot_df[0:6][\"count\"].sum()\n",
    "\n",
    "\n",
    "plot_s = from_memberships(include, data=mm_prop)\n",
    "# plot_s = from_memberships(include, data=plot_df[0:6][\"proportion\"])\n",
    "plot_s\n",
    "\n",
    "upsetplot.plot(plot_s, facecolor=\"tab:blue\", shading_color=\"lightgrey\", with_lines=True)\n",
    "print(str(mm_counts.sum()))\n",
    "\n",
    "plt.title(\"Total Neurons=\"+str(mm_counts.sum()), pad=10, fontsize=10)\n",
    "plt.suptitle(\"MMus PAG Motifs\", y=1, fontsize=18)\n",
    "\n",
    "x = list(range(plot_s.shape[0]))\n",
    "\n",
    "for i in x:\n",
    "    plt.text(x=i, y=plot_s[i]+0.04, s=str(mm_counts[i]), ha=\"center\", fontsize=8, zorder=12)\n",
    "plt.ylim(0, 1)\n",
    "plt.savefig(out_path+\"mmus_pag_upset.svg\", dpi=300, bbox_inches=\"tight\")\n",
    "plt.show()"
   ]
  },
  {
   "cell_type": "code",
   "execution_count": 21,
   "metadata": {},
   "outputs": [
    {
     "name": "stderr",
     "output_type": "stream",
     "text": [
      "/Users/eisko/mambaforge/envs/MAPseq_231109/lib/python3.12/site-packages/upsetplot/plotting.py:662: FutureWarning: Setting an item of incompatible dtype is deprecated and will raise in a future error of pandas. Value '['tab:orange' '#ff7f0e2e' '#ff7f0e2e' '#ff7f0e2e' '#ff7f0e2e' '#ff7f0e2e'\n",
      " 'tab:orange' 'tab:orange' '#ff7f0e2e' '#ff7f0e2e' '#ff7f0e2e' '#ff7f0e2e'\n",
      " 'tab:orange' 'tab:orange' 'tab:orange' '#ff7f0e2e' '#ff7f0e2e'\n",
      " '#ff7f0e2e' 'tab:orange' 'tab:orange' 'tab:orange' 'tab:orange'\n",
      " '#ff7f0e2e' '#ff7f0e2e' 'tab:orange' 'tab:orange' 'tab:orange'\n",
      " 'tab:orange' 'tab:orange' '#ff7f0e2e' 'tab:orange' 'tab:orange'\n",
      " 'tab:orange' 'tab:orange' 'tab:orange' 'tab:orange']' has dtype incompatible with float64, please explicitly cast to a compatible dtype first.\n",
      "  styles[\"edgecolor\"].fillna(styles[\"facecolor\"], inplace=True)\n",
      "/Users/eisko/mambaforge/envs/MAPseq_231109/lib/python3.12/site-packages/upsetplot/plotting.py:663: FutureWarning: Setting an item of incompatible dtype is deprecated and will raise in a future error of pandas. Value 'solid' has dtype incompatible with float64, please explicitly cast to a compatible dtype first.\n",
      "  styles[\"linestyle\"].fillna(\"solid\", inplace=True)\n",
      "/var/folders/l2/gvq0gkm95b1fbrlls4tsq2wr0000gp/T/ipykernel_20185/3873687191.py:25: FutureWarning: Series.__getitem__ treating keys as positions is deprecated. In a future version, integer keys will always be treated as labels (consistent with DataFrame behavior). To access a value by position, use `ser.iloc[pos]`\n",
      "  plt.text(x=i, y=plot_s[i]+0.04, s=str(st_counts[i]), ha=\"center\", fontsize=8, zorder=12)\n"
     ]
    },
    {
     "data": {
      "image/png": "[encoded data removed]",
      "text/plain": [
       "<Figure size 444.444x533.333 with 4 Axes>"
      ]
     },
     "metadata": {},
     "output_type": "display_data"
    }
   ],
   "source": [
    "include = [[\"PAG\"],\n",
    "           [\"PAG\", \"+1\"],\n",
    "           [\"PAG\", \"+1\", \"+2\"],\n",
    "           [\"PAG\", \"+1\", \"+2\", \"+3\"],\n",
    "           [\"PAG\", \"+1\", \"+2\", \"+3\", \"+4\"],\n",
    "           [\"PAG\", \"+1\", \"+2\", \"+3\", \"+4\", \"+5\"]]\n",
    "\n",
    "st_counts = plot_df[6:12][\"count\"].reset_index(drop=True)\n",
    "\n",
    "# calculate sum just w/in PAG group\n",
    "st_prop = plot_df[6:12][\"count\"]/plot_df[6:12][\"count\"].sum()\n",
    "\n",
    "\n",
    "plot_s = from_memberships(include, data=st_prop)\n",
    "# plot_s = from_memberships(include, data=plot_df[0:6][\"proportion\"])\n",
    "\n",
    "\n",
    "upsetplot.plot(plot_s, facecolor=\"tab:orange\", shading_color=\"lightgrey\", with_lines=True)\n",
    "plt.title(\"Total Neurons=\"+str(st_counts.sum()), pad=10, fontsize=10)\n",
    "plt.suptitle(\"STeg PAG Motifs\", y=1, fontsize=18)\n",
    "\n",
    "x = list(range(plot_s.shape[0]))\n",
    "\n",
    "for i in x:\n",
    "    plt.text(x=i, y=plot_s[i]+0.04, s=str(st_counts[i]), ha=\"center\", fontsize=8, zorder=12)\n",
    "plt.ylim(0, 1)\n",
    "plt.savefig(out_path+\"steg_pag_upset.svg\", dpi=300, bbox_inches=\"tight\")\n",
    "plt.show()"
   ]
  },
  {
   "cell_type": "code",
   "execution_count": 22,
   "metadata": {},
   "outputs": [
    {
     "data": {
      "image/png": "[encoded data removed]",
      "text/plain": [
       "<Figure size 200x400 with 1 Axes>"
      ]
     },
     "metadata": {},
     "output_type": "display_data"
    }
   ],
   "source": [
    "plot_df[\"PAG_proportions\"] = np.concatenate([mm_prop, st_prop])\n",
    "plot_stack = pd.DataFrame(index=[\"MMus\", \"STeg\"], columns=plot_df.loc[0:5,'xlabel'])\n",
    "plot_stack.loc[\"MMus\",:] = plot_df.loc[0:5, \"PAG_proportions\"].values\n",
    "plot_stack.loc[\"STeg\",:] = plot_df.loc[6:11, \"PAG_proportions\"].values\n",
    "plot_stack\n",
    "# stacked bar charts\n",
    "# create stackd bar charts of relative proportions of motifs\n",
    "# generate proportions for motifs (counts encounter problems in figure size???)\n",
    "\n",
    "\n",
    "plot_stack.plot(kind='bar', stacked=True)\n",
    "plt.legend(bbox_to_anchor=(1.05,1))\n",
    "plt.rcParams.update({'font.size': 12})\n",
    "fig = plt.gcf()\n",
    "fig.set_size_inches((2,4))\n",
    "plt.ylabel(\"PAG Motif proportion\")\n",
    "plt.title(\"PAG Motif proportions\", size=20, pad=20)\n",
    "plt.savefig(out_path+\"PAG_stacked.svg\", dpi=300, bbox_inches=\"tight\")\n",
    "plt.show()"
   ]
  },
  {
   "cell_type": "code",
   "execution_count": null,
   "metadata": {},
   "outputs": [],
   "source": [
    "plt.hist(degree)\n",
    "plt.title(\"Degree distribution for PAG/PT cells\")"
   ]
  },
  {
   "cell_type": "markdown",
   "metadata": {},
   "source": [
    "# Add PAB to histogram plots"
   ]
  },
  {
   "cell_type": "markdown",
   "metadata": {},
   "source": [
    "## IT Cells"
   ]
  },
  {
   "cell_type": "code",
   "execution_count": null,
   "metadata": {},
   "outputs": [],
   "source": [
    "# mm_it_prop = df_to_motif_proportion(mm_it_all, areas=plot_it, proportion=True)\n",
    "# mm_it_pab = df_to_calc_pab_proportions(mm_it_all, mm_it_prop.index)\n",
    "\n",
    "st_it_prop = df_to_motif_proportion(st_it_all, areas=plot_it, proportion=True)\n",
    "st_it_pab = df_to_calc_pab_proportions(st_it_all, st_it_prop.index)"
   ]
  },
  {
   "cell_type": "code",
   "execution_count": null,
   "metadata": {},
   "outputs": [],
   "source": [
    "to_plot = [\"OMCc\", \"AUD\", \"STR\"]\n",
    "\n",
    "plot_motif_hist_prop(st_it_all, title=\"STeg IT Motifs\", reps=1000, plot_pab=True)\n",
    "plt.show()\n",
    "\n",
    "plot_motif_hist_prop(mm_it_all, title=\"MMus IT Motifs\", color=\"tab:blue\", reps=1000, plot_pab=True)\n",
    "plt.show()\n",
    "\n",
    "## obs vs calc motif proportions\n",
    "\n",
    "mm_motif_prop = df_to_motif_proportion(mm_it_all, areas=plot_it, proportion=True)\n",
    "mm_motif_calc_prop = df_to_calc_pab_proportions(mm_it_all, mm_motif_prop.index)\n",
    "st_motif_prop = df_to_motif_proportion(st_it_all, areas=plot_it, proportion=True)\n",
    "st_motif_calc_prop = df_to_calc_pab_proportions(st_it_all, st_motif_prop.index)\n",
    "\n",
    "plt.scatter(mm_motif_prop, mm_motif_calc_prop, label=\"MMus\")\n",
    "plt.scatter(st_motif_prop, st_motif_calc_prop, label=\"STeg\")\n",
    "plt.xlabel(\"Observed motif proportion\")\n",
    "plt.ylabel(\"Calculated P(A)*P(B)\")\n",
    "plt.title(\"IT cells motif proporitons obs vs. calc\")\n",
    "plt.axline((0,0), (0.08,0.08), color=\"grey\", linestyle=\"--\")\n",
    "plt.show()\n"
   ]
  },
  {
   "cell_type": "markdown",
   "metadata": {},
   "source": [
    "## PT Cells"
   ]
  },
  {
   "cell_type": "code",
   "execution_count": null,
   "metadata": {},
   "outputs": [],
   "source": [
    "# plot simulated motif histograms w/ line for real value\n",
    "plot_pt = [\"BS\", \"SNr\", \"SCm\", \"PG\", \"HY\", \"PAG\"]\n",
    "\n",
    "plot_motif_hist_prop(st_pt_all, title=\"STeg PAG/PT Motifs\", plot_areas=plot_pt,\n",
    "                      subset_area=\"PAG\", subset_idx=(16,32), reps=500, plot_pab=True)\n",
    "plt.show()\n",
    "\n",
    "plot_motif_hist_prop(mm_pt_all, title=\"MMus PAG/PT Motifs\", color=\"tab:blue\", \n",
    "                     subset_area=\"PAG\", plot_areas=plot_pt, subset_idx=(16,32), \n",
    "                     reps=500, plot_pab=True)\n",
    "plt.show()"
   ]
  },
  {
   "cell_type": "code",
   "execution_count": null,
   "metadata": {},
   "outputs": [],
   "source": [
    "# pt cells plot\n",
    "\n",
    "mm_motif_prop = df_to_motif_proportion(mm_pt_all, areas=plot_pt, proportion=True, subset=\"PAG\")\n",
    "mm_motif_calc_prop = df_to_calc_pab_proportions(mm_pt_all, mm_motif_prop.index)\n",
    "st_motif_prop = df_to_motif_proportion(st_pt_all, areas=plot_pt, proportion=True, subset=\"PAG\")\n",
    "st_motif_calc_prop = df_to_calc_pab_proportions(st_pt_all, st_motif_prop.index)\n",
    "\n",
    "plt.scatter(mm_motif_prop[16:32], mm_motif_calc_prop[16:32], label=\"MMus\")\n",
    "plt.scatter(st_motif_prop[16:32], st_motif_calc_prop[16:32], label=\"STeg\")\n",
    "plt.xlabel(\"Observed motif proportion\")\n",
    "plt.ylabel(\"Calculated P(A)*P(B)\")\n",
    "plt.title(\"PT cells motif proporitons obs vs. calc\")\n",
    "plt.axline((0,0), (0.08,0.08), color=\"grey\", linestyle=\"--\")\n",
    "plt.show()"
   ]
  },
  {
   "cell_type": "markdown",
   "metadata": {},
   "source": [
    "# "
   ]
  }
 ],
 "metadata": {
  "kernelspec": {
   "display_name": "Python 3",
   "language": "python",
   "name": "python3"
  },
  "language_info": {
   "codemirror_mode": {
    "name": "ipython",
    "version": 3
   },
   "file_extension": ".py",
   "mimetype": "text/x-python",
   "name": "python",
   "nbconvert_exporter": "python",
   "pygments_lexer": "ipython3",
   "version": "3.12.0"
  },
  "orig_nbformat": 4
 },
 "nbformat": 4,
 "nbformat_minor": 2
}
