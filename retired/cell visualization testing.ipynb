{
 "cells": [
  {
   "attachments": {},
   "cell_type": "markdown",
   "metadata": {},
   "source": [
    "# Data Visualization exploration"
   ]
  },
  {
   "cell_type": "code",
   "execution_count": null,
   "metadata": {},
   "outputs": [],
   "source": [
    "###### load packages\n",
    "import pandas as pd\n",
    "import numpy as np\n",
    "import matplotlib.pyplot as plt\n",
    "# from sklearn.preprocessing import binarize\n",
    "from sklearn.preprocessing import MinMaxScaler # min/max scaling\n",
    "import pickle\n",
    "import seaborn as sns\n",
    "from matplotlib.colors import LogNorm, Normalize\n",
    "from mapseq_fxns import * # import all functions from this script\n",
    "# from math import log10\n",
    "from scipy import stats\n",
    "\n",
    "\n",
    "\n",
    "# random sample consimment between runs\n",
    "import random\n",
    "\n",
    "\n",
    "\n",
    "%matplotlib inline\n"
   ]
  },
  {
   "cell_type": "code",
   "execution_count": null,
   "metadata": {},
   "outputs": [],
   "source": [
    "\n",
    "# set-up variables\n",
    "in_path = '/Volumes/Data/Emily/MAPseq/combined_analysis_M194_M220/processed_data/'\n",
    "out_path = '/Volumes/Data/Emily/MAPseq/combined_analysis_M194_M220/output/'\n",
    "\n",
    "# import metadata\n",
    "from M194_M220_metadata import *\n",
    "\n",
    "# import colormaps\n",
    "from colormaps import blue_cmp, orange_cmp\n"
   ]
  },
  {
   "attachments": {},
   "cell_type": "markdown",
   "metadata": {},
   "source": [
    "# binarized data"
   ]
  },
  {
   "cell_type": "code",
   "execution_count": null,
   "metadata": {},
   "outputs": [],
   "source": [
    "\n",
    "#### load data\n",
    "with open(in_path +'M194_M220_OMC_bin4.pkl', 'rb') as f:\n",
    "    omc_bin = pickle.load(f)\n",
    "\n",
    "    \n"
   ]
  },
  {
   "cell_type": "code",
   "execution_count": null,
   "metadata": {},
   "outputs": [],
   "source": [
    "# seperate by cell type\n",
    "\n",
    "omc_type = [sort_by_celltype(omc_bin[i]) for i in range(num_samples)]\n",
    "omc_pt = [(omc_type[i][omc_type[i]['type']==1000]).drop([\"type\"], axis=1).reset_index(drop=True) for i in range(num_samples)]\n",
    "omc_it = [(omc_type[i][omc_type[i]['type']==10]).drop([\"type\"], axis=1).reset_index(drop=True) for i in range(num_samples)]\n",
    "\n",
    "omc_mm = []\n",
    "omc_st = []\n",
    "omc_pt_mm = []\n",
    "omc_pt_st = []\n",
    "omc_it_mm = []\n",
    "omc_it_st = []\n",
    "mice_mm=[]\n",
    "mice_st=[]\n",
    "dataset_mm = []\n",
    "dataset_st = []\n",
    "\n",
    "for i in range(num_samples):\n",
    "    if metadata.species[i] == 'MMus':\n",
    "        omc_mm.append(omc_type[i])\n",
    "        omc_pt_mm.append(omc_pt[i])\n",
    "        omc_it_mm.append(omc_it[i])\n",
    "        mice_mm.append(mice[i])\n",
    "        dataset_mm.append(dataset[i])\n",
    "    else:\n",
    "        omc_st.append(omc_type[i])\n",
    "        omc_pt_st.append(omc_pt[i])\n",
    "        omc_it_st.append(omc_it[i])\n",
    "        mice_st.append(mice[i])\n",
    "        dataset_st.append(dataset[i])\n",
    "\n",
    "omc_mm_all = pd.concat(omc_mm)\n",
    "omc_st_all = pd.concat(omc_st)\n"
   ]
  },
  {
   "cell_type": "code",
   "execution_count": null,
   "metadata": {},
   "outputs": [],
   "source": [
    "\n",
    "\n",
    "for i in range(len(omc_it_mm)):\n",
    "    omc_it_mm[i] = clean_up_data(omc_it_mm[i])\n",
    "\n",
    "for i in range(len(omc_pt_mm)):\n",
    "    omc_pt_mm[i] = clean_up_data(omc_pt_mm[i])\n",
    "\n",
    "for i in range(len(omc_it_st)):\n",
    "    omc_it_st[i] = clean_up_data(omc_it_st[i])\n",
    "\n",
    "for i in range(len(omc_pt_st)):\n",
    "    omc_pt_st[i] = clean_up_data(omc_pt_st[i])\n",
    "\n",
    "omc_it_mm_all = pd.concat(omc_it_mm)\n",
    "omc_it_st_all = pd.concat(omc_it_st)\n",
    "\n",
    "omc_pt_mm_all = pd.concat(omc_pt_mm)\n",
    "omc_pt_st_all = pd.concat(omc_pt_st)"
   ]
  },
  {
   "cell_type": "code",
   "execution_count": null,
   "metadata": {},
   "outputs": [],
   "source": [
    "# need to change type values so that can visualize on heatmap\n",
    "\n",
    "# change type so .25,.5,.75\n",
    "mm_type_col = omc_mm_all['type']\n",
    "mm_replace = np.where(mm_type_col==1000, 0.75, mm_type_col)\n",
    "mm_replace = np.where(mm_replace==100, 0.5, mm_replace)\n",
    "mm_replace = np.where(mm_replace==10, 0.25, mm_replace)\n",
    "omc_mm_all['type'] = mm_replace\n",
    "\n",
    "# change type so .25,.5,.75\n",
    "st_type_col = omc_st_all['type']\n",
    "st_replace = np.where(st_type_col==1000, 0.75, st_type_col)\n",
    "st_replace = np.where(st_replace==100, 0.5, st_replace)\n",
    "st_replace = np.where(st_replace==10, 0.25, st_replace)\n",
    "omc_st_all['type'] = st_replace\n",
    "\n",
    "print(omc_mm_all.shape)\n",
    "print(omc_st_all.shape)\n",
    "omc_mm_all.columns"
   ]
  },
  {
   "cell_type": "code",
   "execution_count": null,
   "metadata": {},
   "outputs": [],
   "source": [
    "plot = omc_mm_all #.sample(1000, random_state=10)\n",
    "\n",
    "# sort by cell type\n",
    "plot = plot.sort_values(by=['type']).reset_index(drop=True)\n",
    "\n",
    "sns.heatmap(plot, cmap=blue_cmp, cbar=False)\n",
    "# plt.gca().get_yaxis().set_visible(False)\n",
    "# plt.savefig(out_path+\"mm_single_heatmap.jpeg\", dpi=300)\n"
   ]
  },
  {
   "cell_type": "code",
   "execution_count": null,
   "metadata": {},
   "outputs": [],
   "source": [
    "plot = omc_st_all #.sample(1000, random_state=10)\n",
    "\n",
    "# sort by cell type\n",
    "plot = plot.sort_values(by=['type']).reset_index(drop=True)\n",
    "\n",
    "sns.heatmap(plot, cmap=orange_cmp, cbar=False)\n",
    "# plt.gca().get_yaxis().set_visible(False)\n",
    "# plt.savefig(out_path+\"mm_single_heatmap.jpeg\", dpi=300)\n"
   ]
  },
  {
   "attachments": {},
   "cell_type": "markdown",
   "metadata": {},
   "source": [
    "# count data\n"
   ]
  },
  {
   "cell_type": "code",
   "execution_count": null,
   "metadata": {},
   "outputs": [],
   "source": [
    "#### load data\n",
    "with open(in_path +'M194_M220_OMC_count4.pkl', 'rb') as f:\n",
    "    omc_count = pickle.load(f)"
   ]
  },
  {
   "cell_type": "code",
   "execution_count": null,
   "metadata": {},
   "outputs": [],
   "source": [
    "omc_count = [clean_up_data(df) for df in omc_count]\n",
    "\n",
    "\n",
    "omc_count[0]"
   ]
  },
  {
   "cell_type": "code",
   "execution_count": null,
   "metadata": {},
   "outputs": [],
   "source": [
    "omc_values = []\n",
    "for i in range(num_samples):\n",
    "    values = omc_count[i].values\n",
    "    flat = values.flatten() # make single array\n",
    "    # nzeros = flat.nonzero() # drop zeros to find range\n",
    "    # omc_values.append(nzeros)\n",
    "    omc_values.append(flat)\n",
    "1\n"
   ]
  },
  {
   "cell_type": "code",
   "execution_count": null,
   "metadata": {},
   "outputs": [],
   "source": [
    "# plot histogram of count values\n",
    "fig, axs = plt.subplots(2,6, figsize=(25,9))\n",
    "i=0\n",
    "for ax in axs.flat:\n",
    "    sns.histplot(omc_values[i], bins = 50, legend=False, ax=ax)\n",
    "    ax.set_title(mice[i])\n",
    "    i+=1\n",
    "fig.suptitle(\"With zeros\")"
   ]
  },
  {
   "cell_type": "code",
   "execution_count": null,
   "metadata": {},
   "outputs": [],
   "source": [
    "# plot = []\n",
    "# for i in range(num_samples):\n",
    "#     plot.append(omc_values[i].nonzero())\n",
    "\n",
    "# plot histogram of count values\n",
    "fig, axs = plt.subplots(2,6, figsize=(25,9))\n",
    "i=0\n",
    "for ax in axs.flat:\n",
    "    idx = omc_values[i].nonzero()\n",
    "    plot = omc_values[i][idx]\n",
    "    sns.histplot(plot, bins = 50, legend=False, ax=ax)\n",
    "    ax.set_title(mice[i])\n",
    "    i+=1\n",
    "fig.suptitle(\"Without zeros\")\n",
    "\n"
   ]
  },
  {
   "cell_type": "code",
   "execution_count": null,
   "metadata": {},
   "outputs": [],
   "source": [
    "# use min/max scaling to get all count values within same range\n",
    "# all min is 0, so formula (x-xmin/xmax-xmin) becomes (x/xmax)\n",
    "# scale w/ data that includes 0 (?)\n",
    "omc_scaled = []\n",
    "for i in range(num_samples):\n",
    "    df = omc_count[i].copy()\n",
    "    max_c = df.values.flatten().max().max() # get max value for each brain\n",
    "    df_scaled = df/max_c * 1000 # normalize to max and scale by 1000 so numbers are reasonable/interpretable\n",
    "    omc_scaled.append(df_scaled)"
   ]
  },
  {
   "cell_type": "code",
   "execution_count": null,
   "metadata": {},
   "outputs": [],
   "source": [
    "# plot = []\n",
    "# for i in range(num_samples):\n",
    "#     plot.append(omc_values[i].nonzero())\n",
    "\n",
    "# plot histogram of count values\n",
    "fig, axs = plt.subplots(2,6, figsize=(25,9))\n",
    "i=0\n",
    "for ax in axs.flat:\n",
    "    df = omc_scaled[i]\n",
    "    vals = df.values.flatten()\n",
    "    idx = vals.nonzero()\n",
    "    plot = vals[idx]\n",
    "    sns.histplot(plot, bins = 50, legend=False, ax=ax)\n",
    "    ax.set_title(mice[i])\n",
    "    i+=1\n",
    "fig.suptitle(\"Scaled - Without zeros\")\n",
    "\n"
   ]
  },
  {
   "attachments": {},
   "cell_type": "markdown",
   "metadata": {},
   "source": [
    "# combine datasets and plot\n",
    "Not perfect yet, need to scale median value??? but decided to move on"
   ]
  },
  {
   "cell_type": "code",
   "execution_count": null,
   "metadata": {},
   "outputs": [],
   "source": [
    "omc_mm = []\n",
    "omc_st = []\n",
    "for i in range(num_samples):\n",
    "    if species[i] == \"MMus\":\n",
    "        omc_mm.append(omc_scaled[i])\n",
    "    elif species[i] == \"STeg\":\n",
    "        omc_st.append(omc_scaled[i])\n",
    "\n",
    "omc_mm_all = pd.concat(omc_mm)\n",
    "omc_st_all = pd.concat(omc_st)"
   ]
  },
  {
   "cell_type": "code",
   "execution_count": null,
   "metadata": {},
   "outputs": [],
   "source": [
    "sns.heatmap(omc_mm_all, cmap=blue_cmp, norm=LogNorm())\n",
    "plt.show()\n",
    "sns.heatmap(omc_st_all, cmap=orange_cmp, norm=LogNorm())\n",
    "plt.show()"
   ]
  },
  {
   "cell_type": "code",
   "execution_count": null,
   "metadata": {},
   "outputs": [],
   "source": [
    "# sort cells?\n",
    "omc_mm_sort = sort_by_celltype(omc_mm_all, pt_areas=[\"AMY\",\"SNr\",\"SCm\",\"PG\",\"PAG\",\"BS\"])\n",
    "omc_st_sort = sort_by_celltype(omc_st_all, pt_areas=[\"AMY\",\"SNr\",\"SCm\",\"PG\",\"PAG\",\"BS\"])\n",
    "sns.heatmap(omc_mm_sort, cmap=blue_cmp, norm=LogNorm())\n",
    "plt.show()\n",
    "sns.heatmap(omc_st_sort, cmap=orange_cmp, norm=LogNorm())\n",
    "plt.show()\n"
   ]
  },
  {
   "cell_type": "code",
   "execution_count": null,
   "metadata": {},
   "outputs": [],
   "source": [
    "# sort cells?\n",
    "fig, axs = plt.subplots(2, 6, figsize=(30,10))\n",
    "i=0\n",
    "for ax in axs.flat:\n",
    "    sort_df = sort_by_celltype(omc_scaled[i], pt_areas=[\"AMY\",\"SNr\",\"SCm\",\"PG\",\"PAG\",\"BS\"])\n",
    "    if species[i]==\"MMus\":\n",
    "        sns.heatmap(sort_df, cmap=blue_cmp, norm=LogNorm(), ax=ax)\n",
    "    else:\n",
    "        sns.heatmap(sort_df, cmap=orange_cmp, norm=LogNorm(), ax=ax)\n",
    "    ax.set_title(mice[i])\n",
    "    \n",
    "    i+=1\n",
    "plt.suptitle(\"sorted heatmaps\")\n",
    "plt.show()"
   ]
  },
  {
   "attachments": {},
   "cell_type": "markdown",
   "metadata": {},
   "source": [
    "# covariance"
   ]
  },
  {
   "cell_type": "code",
   "execution_count": null,
   "metadata": {},
   "outputs": [],
   "source": [
    "\n",
    "\n",
    "fig, axs = plt.subplots(2, 6, figsize=(30,10))\n",
    "i=0\n",
    "for ax in axs.flat:\n",
    "    df = omc_scaled[i]\n",
    "    if species[i]==\"MMus\":\n",
    "        sns.heatmap(df.cov(), cmap=blue_cmp, norm=LogNorm(), ax=ax)\n",
    "    else:\n",
    "        sns.heatmap(df.cov(), cmap=orange_cmp, norm=LogNorm(), ax=ax)\n",
    "    ax.set_title(mice[i])\n",
    "    \n",
    "    i+=1\n",
    "plt.suptitle(\"Covariance matrices\",size=24)\n",
    "plt.show()"
   ]
  },
  {
   "cell_type": "code",
   "execution_count": null,
   "metadata": {},
   "outputs": [],
   "source": [
    "# aggregated covariance plots\n",
    "fig, axs = plt.subplots(1,2, figsize=(15,5))\n",
    "\n",
    "sns.heatmap(omc_mm_all.cov(), cmap=blue_cmp, norm=LogNorm(), ax=axs[0])\n",
    "axs[0].set_title(\"MMus all\")\n",
    "\n",
    "sns.heatmap(omc_st_all.cov(), cmap=orange_cmp, norm=LogNorm(), ax=axs[1])\n",
    "axs[1].set_title(\"STeg all\")\n",
    "\n",
    "plt.suptitle(\"Covariance Matrix on Counts\",size=24)\n",
    "plt.show()\n"
   ]
  },
  {
   "attachments": {},
   "cell_type": "markdown",
   "metadata": {},
   "source": [
    "# PCA"
   ]
  },
  {
   "cell_type": "code",
   "execution_count": null,
   "metadata": {},
   "outputs": [],
   "source": [
    "print(omc_mm_sort.shape)\n",
    "print(omc_mm_all.shape)"
   ]
  },
  {
   "cell_type": "code",
   "execution_count": null,
   "metadata": {},
   "outputs": [],
   "source": [
    "omc_st_all"
   ]
  },
  {
   "cell_type": "code",
   "execution_count": null,
   "metadata": {},
   "outputs": [],
   "source": [
    "def sort_by_celltype(proj, it_areas=[\"OMCc\", \"AUD\", \"STR\"], ct_areas=[\"TH\"], pt_areas=[\"AMY\",\"SNr\",\"SCm\",\"PG\",\"PAG\",\"RN\"]):\n",
    "    \"\"\"\n",
    "    Function takes in projection matrix and outputs matrix sorted by the 3 major celltypes:\n",
    "    - IT = intratelencephalic (projects to cortical and/or Striatum), type = 10\n",
    "    - CT = corticalthalamic (projects to thalamus w/o projection to brainstem), type = 100\n",
    "    - PT = pyramidal tract (projects to brainstem += other areas), type = 1000\n",
    "    Returns single dataframe with cells sorted and labelled by 3 cell types (IT/CT/PT)\n",
    "    \n",
    "    default areas:\n",
    "    - it_areas=[\"OMCc\", \"AUD\", \"STR\"]\n",
    "    - ct_areas=[\"TH\"]\n",
    "    - pt_areas=[\"AMY\",\"SNr\",\"SCm\",\"PG\",\"PAG\",\"RN\"]\n",
    "    \"\"\"\n",
    "    # areas = proj.columns\n",
    "    # if \"OMCi\" in areas:\n",
    "    #     ds = proj.drop(\"OMCi\", axis=1)\n",
    "    # else:\n",
    "    #     ds = proj\n",
    "\n",
    "    ds=proj\n",
    " \n",
    "    \n",
    "\n",
    "    # 1. isolate PT cells\n",
    "    pt_counts = ds[pt_areas].sum(axis=1)\n",
    "    pt_idx = ds[pt_counts>0].index\n",
    "    ds_pt = ds.loc[pt_idx,:]\n",
    "    ds_pt = ds_pt.sort_values(['PAG','AMY'], ascending=False)\n",
    "    ds_pt['type'] = 1000\n",
    "\n",
    "    # Isolate remaining non-PT cells\n",
    "    ds_npt = ds.drop(pt_idx)\n",
    "\n",
    "    # Identify CT cells by thalamus projection\n",
    "    th_idx = ds_npt['TH'] > 0\n",
    "    ds_th = ds_npt[th_idx]\n",
    "    ds_th = ds_th.sort_values('TH', ascending=False)\n",
    "    ds_th['type'] = 100\n",
    "\n",
    "    # Identify IT cells by the remaining cells (non-PT, non-CT)\n",
    "    ds_nth = ds_npt[~th_idx]\n",
    "    ds_nth = ds_nth.sort_values(['OMCc','AUD','STR'],ascending=False)\n",
    "    ds_nth['type'] = 10\n",
    "\n",
    "    # combine IT and CT cells\n",
    "    ds_npt = pd.concat([ds_nth, ds_th])\n",
    "\n",
    "    # combine IT/CT and PT cells\n",
    "    sorted = pd.concat([ds_npt,ds_pt],ignore_index=True)\n",
    "\n",
    "    sorted=sorted.reset_index(drop=True)\n",
    "\n",
    "    # add back omci if there???\n",
    "    \n",
    "    return sorted"
   ]
  },
  {
   "cell_type": "code",
   "execution_count": null,
   "metadata": {},
   "outputs": [],
   "source": [
    "omc_st_sort = sort_by_celltype(omc_st_all, pt_areas=[\"AMY\", \"SNr\", \"SCm\", \"PG\", \"PAG\", \"BS\"])\n",
    "omc_st_sort"
   ]
  },
  {
   "cell_type": "code",
   "execution_count": null,
   "metadata": {},
   "outputs": [],
   "source": [
    "sorted_mm = []\n",
    "sorted_st = []\n",
    "for i in range(num_samples):\n",
    "    # print(omc_scaled[i].shape)\n",
    "    int_sort = sort_by_celltype(omc_scaled[i], pt_areas=[\"AMY\", \"SNr\", \"SCm\", \"PG\", \"PAG\", \"BS\"])\n",
    "    # print(int_sort.shape)\n",
    "    if species[i]==\"MMus\":\n",
    "        sorted_mm.append(int_sort)\n",
    "    else:\n",
    "        sorted_st.append(int_sort)\n",
    "\n",
    "sorted_mm_all = pd.concat(sorted_mm)\n",
    "sorted_st_all = pd.concat(sorted_st)\n",
    "print(sorted_mm_all.shape)\n",
    "print(sorted_st_all.shape)"
   ]
  },
  {
   "cell_type": "code",
   "execution_count": null,
   "metadata": {},
   "outputs": [],
   "source": [
    "names = []\n",
    "for i in range(12):\n",
    "    names.append('C'+str(i))\n",
    "names"
   ]
  },
  {
   "cell_type": "code",
   "execution_count": null,
   "metadata": {},
   "outputs": [],
   "source": [
    "from sklearn.decomposition import PCA\n",
    "pca = PCA()\n",
    "mm_type = sorted_mm_all['type']\n",
    "mm_plot = sorted_mm_all.drop(\"type\", axis=1)\n",
    "components = pca.fit_transform(mm_plot)\n",
    "print(mm_plot.shape)\n",
    "print(components.shape)\n",
    "components[:,0].shape\n",
    "plot = pd.DataFrame(components, columns = names)\n",
    "# plot['type'] = mm_type\n",
    "plot\n",
    "# sns.scatterplot(plot, x=\"C0\", y=\"C1\", hue=\"type\")"
   ]
  },
  {
   "cell_type": "code",
   "execution_count": null,
   "metadata": {},
   "outputs": [],
   "source": []
  },
  {
   "attachments": {},
   "cell_type": "markdown",
   "metadata": {},
   "source": [
    "# clustering?\n"
   ]
  }
 ],
 "metadata": {
  "kernelspec": {
   "display_name": "MAPseq",
   "language": "python",
   "name": "python3"
  },
  "language_info": {
   "codemirror_mode": {
    "name": "ipython",
    "version": 3
   },
   "file_extension": ".py",
   "mimetype": "text/x-python",
   "name": "python",
   "nbconvert_exporter": "python",
   "pygments_lexer": "ipython3",
   "version": "3.10.6"
  },
  "orig_nbformat": 4
 },
 "nbformat": 4,
 "nbformat_minor": 2
}
