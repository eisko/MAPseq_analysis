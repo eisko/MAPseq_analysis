{
 "cells": [
  {
   "cell_type": "code",
   "execution_count": 1,
   "metadata": {},
   "outputs": [],
   "source": [
    "###### load packages\n",
    "import pandas as pd\n",
    "import numpy as np\n",
    "import matplotlib.pyplot as plt\n",
    "# from sklearn.preprocessing import MinMaxScaler, StandardScaler # min/max scaling\n",
    "import pickle\n",
    "import seaborn as sns\n",
    "# from matplotlib.colors import LogNorm\n",
    "\n",
    "# import matplotlib.lines as mlines # needed for custom legend\n",
    "# from scipy import stats\n",
    "# import random\n",
    "\n",
    "# custum fxns\n",
    "from MAPseq_processing import * # import all functions from this script\n",
    "from MAPseq_plotting import * # import all functions from this script\n",
    "\n",
    "# import metadata\n",
    "from M194_M220_metadata import *\n",
    "\n",
    "# import colormaps\n",
    "from colormaps import blue_cmp, orange_cmp\n",
    "\n",
    "%matplotlib inline\n",
    "\n",
    "# auto refreshes imported functions if source code changes:\n",
    "%load_ext autoreload\n",
    "%autoreload 2"
   ]
  },
  {
   "cell_type": "code",
   "execution_count": 4,
   "metadata": {},
   "outputs": [],
   "source": [
    "# import data - this data is only cleaned (f) - no parameters applied yet\n",
    "# set-up variables\n",
    "in_path = '/Volumes/Data/Emily/MAPseq/combined_analysis_M194_M220/processed_data/'\n",
    "out_path = '/Volumes/Data/Emily/figures/fig_2_mapseq/python_out/'\n",
    "\n",
    "\n",
    "with open(in_path + 'M194_M220_OMC_separate_all_count.pkl', 'rb') as f:\n",
    "    omc_count = pickle.load(f)\n",
    "    \n",
    "with open(in_path + 'M194_M220_ACA_separate_all_count.pkl', 'rb') as f:\n",
    "    aca_count = pickle.load(f)\n",
    "\n",
    "# NORMALIZED COUNT DATA\n",
    "with open(in_path + 'M194_M220_OMC_separate_all_countN.pkl', 'rb') as f:\n",
    "    omc_countN = pickle.load(f)\n",
    "    \n",
    "with open(in_path + 'M194_M220_ACA_separate_all_countN.pkl', 'rb') as f:\n",
    "    aca_countN = pickle.load(f)"
   ]
  },
  {
   "cell_type": "markdown",
   "metadata": {},
   "source": [
    "# Threshold\n",
    "- cut-off used for minimum BC for binarization"
   ]
  },
  {
   "cell_type": "markdown",
   "metadata": {},
   "source": [
    "# 1000 Constant\n",
    "- multiply normalized counts by constant to make numbers more amenable"
   ]
  },
  {
   "cell_type": "markdown",
   "metadata": {},
   "source": [
    "# Norm each brain by median\n",
    "- normalize BC counts so can compare across brains\n",
    "- Divide by median BC count by each brain"
   ]
  },
  {
   "cell_type": "markdown",
   "metadata": {},
   "source": [
    "# row normalization\n",
    "- only would be used in motif analysis???\n",
    "- or relative projection strength b/w areas?"
   ]
  },
  {
   "cell_type": "markdown",
   "metadata": {},
   "source": []
  }
 ],
 "metadata": {
  "kernelspec": {
   "display_name": "Python 3",
   "language": "python",
   "name": "python3"
  },
  "language_info": {
   "codemirror_mode": {
    "name": "ipython",
    "version": 3
   },
   "file_extension": ".py",
   "mimetype": "text/x-python",
   "name": "python",
   "nbconvert_exporter": "python",
   "pygments_lexer": "ipython3",
   "version": "3.10.6"
  },
  "orig_nbformat": 4
 },
 "nbformat": 4,
 "nbformat_minor": 2
}
