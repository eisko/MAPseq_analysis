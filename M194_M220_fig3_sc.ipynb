{
 "cells": [
  {
   "cell_type": "code",
   "execution_count": 1,
   "metadata": {},
   "outputs": [],
   "source": [
    "###### load packages\n",
    "import pandas as pd\n",
    "import numpy as np\n",
    "import matplotlib.pyplot as plt\n",
    "# from sklearn.preprocessing import binarize\n",
    "import pickle\n",
    "import seaborn as sns\n",
    "from matplotlib.colors import LogNorm, Normalize\n",
    "from mapseq_fxns import * # import all functions from this script\n",
    "# from math import log10\n",
    "from scipy import stats\n",
    "\n",
    "# random sample consimment between runs\n",
    "import random\n",
    "# set random seed\n",
    "random.seed(10)\n",
    "\n",
    "\n",
    "%matplotlib inline\n",
    "\n"
   ]
  },
  {
   "cell_type": "code",
   "execution_count": 2,
   "metadata": {},
   "outputs": [],
   "source": [
    "\n",
    "# set-up variables\n",
    "in_path = '/Volumes/Data/Emily/MAPseq/combined_analysis_M194_M220/'\n",
    "out_path = '/Volumes/Data/Emily/MAPseq/combined_analysis_M194_M220/output/'\n",
    "\n",
    "# import metadata\n",
    "from M194_M220_metadata import *\n",
    "\n",
    "# import colormaps\n",
    "from colormaps import blue_cmp, orange_cmp\n",
    "\n",
    "#### load data\n",
    "with open(in_path +'M194_M220_OMC_bin4.pkl', 'rb') as f:\n",
    "    omc_bin = pickle.load(f)\n",
    "# seperate by cell type\n",
    "\n",
    "omc_type = [sort_by_celltype(omc_bin[i]) for i in range(num_samples)]\n",
    "omc_pt = [(omc_type[i][omc_type[i]['type']==1000]).drop([\"type\"], axis=1).reset_index(drop=True) for i in range(num_samples)]\n",
    "omc_it = [(omc_type[i][omc_type[i]['type']==10]).drop([\"type\"], axis=1).reset_index(drop=True) for i in range(num_samples)]\n",
    "\n",
    "omc_mm = []\n",
    "omc_st = []\n",
    "omc_pt_mm = []\n",
    "omc_pt_st = []\n",
    "omc_it_mm = []\n",
    "omc_it_st = []\n",
    "mice_mm=[]\n",
    "mice_st=[]\n",
    "dataset_mm = []\n",
    "dataset_st = []\n",
    "\n",
    "for i in range(num_samples):\n",
    "    if metadata.species[i] == 'MMus':\n",
    "        omc_mm.append(omc_type[i])\n",
    "        omc_pt_mm.append(omc_pt[i])\n",
    "        omc_it_mm.append(omc_it[i])\n",
    "        mice_mm.append(mice[i])\n",
    "        dataset_mm.append(dataset[i])\n",
    "    else:\n",
    "        omc_st.append(omc_type[i])\n",
    "        omc_pt_st.append(omc_pt[i])\n",
    "        omc_it_st.append(omc_it[i])\n",
    "        mice_st.append(mice[i])\n",
    "        dataset_st.append(dataset[i])\n",
    "\n",
    "omc_mm_all = pd.concat(omc_mm)\n",
    "omc_st_all = pd.concat(omc_st)\n"
   ]
  },
  {
   "cell_type": "code",
   "execution_count": 3,
   "metadata": {},
   "outputs": [],
   "source": [
    "\n",
    "for i in range(len(omc_it_mm)):\n",
    "    omc_it_mm[i] = clean_up_data(omc_it_mm[i])\n",
    "\n",
    "for i in range(len(omc_pt_mm)):\n",
    "    omc_pt_mm[i] = clean_up_data(omc_pt_mm[i])\n",
    "\n",
    "for i in range(len(omc_it_st)):\n",
    "    omc_it_st[i] = clean_up_data(omc_it_st[i])\n",
    "\n",
    "for i in range(len(omc_pt_st)):\n",
    "    omc_pt_st[i] = clean_up_data(omc_pt_st[i])\n",
    "\n",
    "omc_it_mm_all = pd.concat(omc_it_mm)\n",
    "omc_it_st_all = pd.concat(omc_it_st)\n",
    "\n",
    "omc_pt_mm_all = pd.concat(omc_pt_mm)\n",
    "omc_pt_st_all = pd.concat(omc_pt_st)"
   ]
  },
  {
   "attachments": {},
   "cell_type": "markdown",
   "metadata": {},
   "source": [
    "# Example Lab mouse"
   ]
  },
  {
   "cell_type": "code",
   "execution_count": null,
   "metadata": {},
   "outputs": [],
   "source": [
    "plot = omc_it_mm_all.sample(1000, random_state=10).reset_index(drop=True)\n",
    "\n",
    "sns.heatmap(plot, cmap=blue_cmp, cbar=False)\n",
    "plt.gca().get_yaxis().set_visible(False)"
   ]
  },
  {
   "cell_type": "code",
   "execution_count": null,
   "metadata": {},
   "outputs": [],
   "source": [
    "# just plot OMCc\n",
    "area = 'OMCc'\n",
    "fig = plt.subplots(figsize=(0.75,5))\n",
    "sample = omc_it_mm_all.sample(1000, random_state=10).reset_index(drop=True)\n",
    "plot = pd.DataFrame(sample[area])\n",
    "sns.heatmap(plot, cmap=blue_cmp, cbar=False)\n",
    "plt.gca().get_yaxis().set_visible(False)\n",
    "# plot"
   ]
  },
  {
   "cell_type": "code",
   "execution_count": null,
   "metadata": {},
   "outputs": [],
   "source": [
    "area = 'AUD'\n",
    "fig = plt.subplots(figsize=(0.75,5))\n",
    "sample = omc_it_mm_all.sample(1000, random_state=10).reset_index(drop=True)\n",
    "plot = pd.DataFrame(sample[area])\n",
    "sns.heatmap(plot, cmap=blue_cmp, cbar=False)\n",
    "plt.gca().get_yaxis().set_visible(False)"
   ]
  },
  {
   "cell_type": "code",
   "execution_count": null,
   "metadata": {},
   "outputs": [],
   "source": [
    "# plot omcc/aud intersect\n",
    "fig = plt.subplots(figsize=(0.75,5))\n",
    "sample = omc_it_mm_all.sample(1000, random_state=10).reset_index(drop=True)\n",
    "sample\n",
    "aud_omc = sample['OMCc'] + sample['AUD']\n",
    "both = aud_omc == 2\n",
    "plot = pd.DataFrame(both, columns=['OMCc AUD'])\n",
    "sns.heatmap(plot, cmap=blue_cmp, cbar=False)\n",
    "plt.gca().get_yaxis().set_visible(False)"
   ]
  },
  {
   "cell_type": "code",
   "execution_count": null,
   "metadata": {},
   "outputs": [],
   "source": [
    "plot = omc_it_st_all.sample(1000, random_state=10).reset_index(drop=True)\n",
    "\n",
    "sns.heatmap(plot, cmap=orange_cmp, cbar=False)\n",
    "plt.gca().get_yaxis().set_visible(False)\n",
    "\n",
    "# just plot OMCc\n",
    "area = 'OMCc'\n",
    "fig = plt.subplots(figsize=(0.75,5))\n",
    "sample = omc_it_st_all.sample(1000, random_state=10).reset_index(drop=True)\n",
    "plot = pd.DataFrame(sample[area])\n",
    "sns.heatmap(plot, cmap=orange_cmp, cbar=False)\n",
    "plt.gca().get_yaxis().set_visible(False)\n",
    "\n",
    "# plot aud\n",
    "area = 'AUD'\n",
    "fig = plt.subplots(figsize=(0.75,5))\n",
    "sample = omc_it_st_all.sample(1000, random_state=10).reset_index(drop=True)\n",
    "plot = pd.DataFrame(sample[area])\n",
    "sns.heatmap(plot, cmap=orange_cmp, cbar=False)\n",
    "plt.gca().get_yaxis().set_visible(False)\n",
    "\n",
    "# plot omcc/aud intersect\n",
    "fig = plt.subplots(figsize=(0.75,5))\n",
    "sample = omc_it_st_all.sample(1000, random_state=10).reset_index(drop=True)\n",
    "sample\n",
    "aud_omc = sample['OMCc'] + sample['AUD']\n",
    "both = aud_omc == 2\n",
    "plot = pd.DataFrame(both, columns=['OMCc AUD'])\n",
    "sns.heatmap(plot, cmap=orange_cmp, cbar=False)\n",
    "plt.gca().get_yaxis().set_visible(False)"
   ]
  },
  {
   "attachments": {},
   "cell_type": "markdown",
   "metadata": {},
   "source": [
    "# example lab mouse"
   ]
  },
  {
   "cell_type": "code",
   "execution_count": null,
   "metadata": {},
   "outputs": [],
   "source": [
    "plot = omc_it_mm[1]\n",
    "\n",
    "sns.heatmap(plot, cmap=blue_cmp, cbar=False)\n",
    "# plt.gca().get_yaxis().set_visible(False)"
   ]
  },
  {
   "cell_type": "code",
   "execution_count": null,
   "metadata": {},
   "outputs": [],
   "source": [
    "# plot omcc/aud intersect\n",
    "fig = plt.subplots(figsize=(0.75,5))\n",
    "sample = omc_it_mm[1]['OMCc']\n",
    "# aud_omc = sample['OMCc'] + sample['AUD']\n",
    "# both = aud_omc == 2\n",
    "plot = pd.DataFrame(sample)\n",
    "sns.heatmap(plot, cmap=blue_cmp, cbar=False)\n",
    "plt.gca().get_yaxis().set_visible(False)"
   ]
  },
  {
   "cell_type": "code",
   "execution_count": null,
   "metadata": {},
   "outputs": [],
   "source": [
    "# plot omcc/aud intersect\n",
    "fig = plt.subplots(figsize=(0.75,5))\n",
    "sample = omc_it_mm[1]['AUD']\n",
    "# aud_omc = sample['OMCc'] + sample['AUD']\n",
    "# both = aud_omc == 2\n",
    "plot = pd.DataFrame(sample)\n",
    "sns.heatmap(plot, cmap=blue_cmp, cbar=False)\n",
    "# plt.gca().get_yaxis().set_visible(False)"
   ]
  },
  {
   "cell_type": "code",
   "execution_count": null,
   "metadata": {},
   "outputs": [],
   "source": [
    "# plot omcc/aud intersect\n",
    "fig = plt.subplots(figsize=(0.75,5))\n",
    "sample = omc_it_mm[1]\n",
    "aud_omc = sample['OMCc'] + sample['AUD']\n",
    "both = aud_omc == 2\n",
    "plot = pd.DataFrame(both, columns=['OMCc AUD'])\n",
    "sns.heatmap(plot, cmap=blue_cmp, cbar=False)\n",
    "# plt.gca().get_yaxis().set_visible(False)"
   ]
  },
  {
   "attachments": {},
   "cell_type": "markdown",
   "metadata": {},
   "source": [
    "# example steg\n"
   ]
  },
  {
   "cell_type": "code",
   "execution_count": null,
   "metadata": {},
   "outputs": [],
   "source": [
    "plot = omc_it_st[1]\n",
    "#plot all\n",
    "sns.heatmap(plot, cmap=orange_cmp, cbar=False)\n",
    "\n",
    "# plot omcc intersect\n",
    "fig = plt.subplots(figsize=(0.75,5))\n",
    "sample = omc_it_st[1]['OMCc']\n",
    "plot = pd.DataFrame(sample)\n",
    "sns.heatmap(plot, cmap=orange_cmp, cbar=False)\n",
    "\n",
    "# plot aud intersect\n",
    "fig = plt.subplots(figsize=(0.75,5))\n",
    "sample = omc_it_st[1]['AUD']\n",
    "\n",
    "plot = pd.DataFrame(sample)\n",
    "sns.heatmap(plot, cmap=orange_cmp, cbar=False)\n",
    "\n",
    "# plot omcc/aud intersect\n",
    "fig = plt.subplots(figsize=(0.75,5))\n",
    "sample = omc_it_st[1]\n",
    "aud_omc = sample['OMCc'] + sample['AUD']\n",
    "both = aud_omc == 2\n",
    "plot = pd.DataFrame(both, columns=['OMCc AUD'])\n",
    "sns.heatmap(plot, cmap=orange_cmp, cbar=False)\n",
    "# plt.gca().get_yaxis().set_visible(False)"
   ]
  },
  {
   "attachments": {},
   "cell_type": "markdown",
   "metadata": {},
   "source": [
    "## obs vs. expected"
   ]
  },
  {
   "cell_type": "code",
   "execution_count": null,
   "metadata": {},
   "outputs": [],
   "source": [
    "def calc_overlap(df, area1='OMCc', area2='AUD'):\n",
    "    combination = df[area1] + df[area2]\n",
    "    overlap = combination == 2\n",
    "    return(pd.DataFrame(overlap, columns=[area1 + ' ' + area2]))"
   ]
  },
  {
   "cell_type": "code",
   "execution_count": null,
   "metadata": {},
   "outputs": [],
   "source": [
    "overlap_df = pd.DataFrame(columns=[\"OMCc_AUD_obs\", \"obs_prop\", \"calc_prop\", \"total\", \"OMCc_tot\", \"AUD_tot\", \"Species\", \"Mouse\", \"Dataset\"])\n",
    "\n",
    "for i in range(len(omc_it_mm)):\n",
    "    df = omc_it_mm[i]\n",
    "    overlap = calc_overlap(df).sum()[0]\n",
    "    omcc = (df[\"OMCc\"] > 0).sum()\n",
    "    aud = (df[\"AUD\"] > 0).sum()\n",
    "    obs_prop = overlap/df.shape[0]\n",
    "    calc_proportion = (omcc/df.shape[0]) * (aud/df.shape[0])\n",
    "    overlap_df.loc[len(overlap_df.index)] = [overlap, obs_prop, calc_proportion, df.shape[0], omcc, aud, \"MMus\", mice_mm[i], dataset_mm[i]]\n",
    "    \n",
    "for i in range(len(omc_it_st)):\n",
    "    df = omc_it_st[i]\n",
    "    overlap = calc_overlap(df).sum()[0]\n",
    "    omcc = (df[\"OMCc\"] > 0).sum()\n",
    "    aud = (df[\"AUD\"] > 0).sum()\n",
    "    obs_prop = overlap/df.shape[0]\n",
    "    calc_proportion = (omcc/df.shape[0]) * (aud/df.shape[0])\n",
    "    overlap_df.loc[len(overlap_df.index)] = [overlap, obs_prop, calc_proportion, df.shape[0], omcc, aud, \"STeg\", mice_st[i], dataset_st[i]]\n",
    "\n",
    "overlap_df"
   ]
  },
  {
   "cell_type": "code",
   "execution_count": null,
   "metadata": {},
   "outputs": [],
   "source": [
    "# plot obs vs expected\n",
    "x = np.linspace(0,0.2, 5)\n",
    "y = x\n",
    "plt.plot(x, y, color='red'\n",
    "         , linestyle=\"--\", linewidth=0.5)\n",
    "sns.scatterplot(overlap_df, x=\"obs_prop\", y=\"calc_prop\", hue=\"Species\")\n",
    "\n"
   ]
  },
  {
   "cell_type": "code",
   "execution_count": null,
   "metadata": {},
   "outputs": [],
   "source": []
  },
  {
   "cell_type": "code",
   "execution_count": null,
   "metadata": {},
   "outputs": [],
   "source": [
    "# just plot mmus\n",
    "idx = overlap_df['Species'] == \"MMus\"\n",
    "plot = overlap_df[idx]\n",
    "dot = plot.iloc[1,:].to_frame().transpose()\n",
    "x = np.linspace(0,0.2, 5)\n",
    "y = x\n",
    "plt.plot(x, y, color='red'\n",
    "         , linestyle=\"--\", linewidth=0.5)\n",
    "sns.scatterplot(plot, x=\"obs_prop\", y=\"calc_prop\", color=\"black\")\n",
    "sns.scatterplot(dot, x='obs_prop', y='calc_prop')\n",
    "plt.title(\"MMus\")"
   ]
  },
  {
   "cell_type": "code",
   "execution_count": null,
   "metadata": {},
   "outputs": [],
   "source": [
    "# just plot steg\n",
    "idx = overlap_df['Species'] == \"STeg\"\n",
    "plot = overlap_df[idx]\n",
    "dot = plot.iloc[1,:].to_frame().transpose()\n",
    "x = np.linspace(0,0.2, 5)\n",
    "y = x\n",
    "plt.plot(x, y, color='red'\n",
    "         , linestyle=\"--\", linewidth=0.5)\n",
    "sns.scatterplot(plot, x=\"obs_prop\", y=\"calc_prop\", color=\"black\")\n",
    "sns.scatterplot(dot, x='obs_prop', y='calc_prop', color=\"orange\")\n",
    "plt.title(\"STeg\")"
   ]
  },
  {
   "attachments": {},
   "cell_type": "markdown",
   "metadata": {},
   "source": [
    "# dot plot"
   ]
  },
  {
   "cell_type": "code",
   "execution_count": null,
   "metadata": {},
   "outputs": [],
   "source": [
    "overlap_df"
   ]
  },
  {
   "cell_type": "code",
   "execution_count": null,
   "metadata": {},
   "outputs": [],
   "source": [
    "# mmus = overlap_df[overlap_df[\"Species\"] == \"MMus\"]\n",
    "# steg = overlap_df[overlap_df[\"Species\"] == \"STeg\"]\n",
    "plot = pd.melt(overlap_df, id_vars=['Mouse', 'Species', 'Dataset'], value_vars=['obs_prop', 'calc_prop'],\n",
    "        var_name='o_v_e', value_name='proportion')\n",
    "sns.lineplot(plot, x=\"o_v_e\", y='proportion', hue='Species', units=\"Mouse\", estimator=None, \n",
    "             marker='o', alpha=0.75)\n",
    "plt.xlabel(\"Observed v Expected\")\n",
    "plt.legend(bbox_to_anchor=(1.02, 1), loc='upper left', borderaxespad=0)\n",
    "\n"
   ]
  },
  {
   "cell_type": "code",
   "execution_count": null,
   "metadata": {},
   "outputs": [],
   "source": [
    "# just plot mmus\n",
    "mmus = overlap_df[overlap_df['Species']==\"MMus\"]\n",
    "df = pd.melt(overlap_df, id_vars=['Mouse', 'Species', 'Dataset'], value_vars=['obs_prop', 'calc_prop'],\n",
    "        var_name='o_v_e', value_name='proportion')\n",
    "idx = df['Species'] == \"MMus\"\n",
    "plot = df[idx]\n",
    "dot = mmus.iloc[1,:].to_frame().transpose()\n",
    "dot_p = pd.melt(dot, id_vars=['Mouse', 'Species', 'Dataset'], value_vars=['obs_prop', 'calc_prop'],\n",
    "        var_name='o_v_e', value_name='proportion')\n",
    "sns.lineplot(plot, x=\"o_v_e\", y='proportion', units=\"Mouse\", estimator=None, \n",
    "             marker='o', alpha=0.75, color='black')\n",
    "sns.lineplot(dot_p, x=\"o_v_e\", y='proportion', units=\"Mouse\", estimator=None, \n",
    "             marker='o', color='blue')\n",
    "plt.xlabel(\"Observed v Expected\")\n",
    "# plt.legend(bbox_to_anchor=(1.02, 1), loc='upper left', borderaxespad=0)\n",
    "plt.title(\"MMus\")"
   ]
  },
  {
   "cell_type": "code",
   "execution_count": null,
   "metadata": {},
   "outputs": [],
   "source": [
    "# just plot mmus\n",
    "steg = overlap_df[overlap_df['Species']==\"STeg\"]\n",
    "df = pd.melt(overlap_df, id_vars=['Mouse', 'Species', 'Dataset'], value_vars=['obs_prop', 'calc_prop'],\n",
    "        var_name='o_v_e', value_name='proportion')\n",
    "idx = df['Species'] == \"STeg\"\n",
    "plot = df[idx]\n",
    "dot = steg.iloc[1,:].to_frame().transpose()\n",
    "dot_p = pd.melt(dot, id_vars=['Mouse', 'Species', 'Dataset'], value_vars=['obs_prop', 'calc_prop'],\n",
    "        var_name='o_v_e', value_name='proportion')\n",
    "sns.lineplot(plot, x=\"o_v_e\", y='proportion', units=\"Mouse\", estimator=None, \n",
    "             marker='o', alpha=0.75, color='black')\n",
    "sns.lineplot(dot_p, x=\"o_v_e\", y='proportion', units=\"Mouse\", estimator=None, \n",
    "             marker='o', color='orange')\n",
    "plt.xlabel(\"Observed v Expected\")\n",
    "# plt.legend(bbox_to_anchor=(1.02, 1), loc='upper left', borderaxespad=0)\n",
    "plt.title(\"STeg\")"
   ]
  },
  {
   "attachments": {},
   "cell_type": "markdown",
   "metadata": {},
   "source": [
    "# Node plots"
   ]
  },
  {
   "cell_type": "code",
   "execution_count": 15,
   "metadata": {},
   "outputs": [
    {
     "name": "stdout",
     "output_type": "stream",
     "text": [
      "MMus\n",
      "1.0    0.302055\n",
      "2.0    0.665433\n",
      "3.0    0.032511\n",
      "dtype: float64\n",
      "\n",
      "\n",
      "STeg\n",
      "1.0    0.287466\n",
      "2.0    0.638692\n",
      "3.0    0.073842\n",
      "dtype: float64\n"
     ]
    }
   ],
   "source": [
    "# all it cells - summary combine all cells from each species\n",
    "# calculate node degree\n",
    "print(\"MMus\")\n",
    "node_proportion_mm = df_to_nodes(omc_it_mm_all)\n",
    "print(node_proportion_mm)\n",
    "\n",
    "print(\"\\n\")\n",
    "\n",
    "print(\"STeg\")\n",
    "node_proportion_st = df_to_nodes(omc_it_st_all)\n",
    "print(node_proportion_st)"
   ]
  },
  {
   "cell_type": "code",
   "execution_count": 16,
   "metadata": {},
   "outputs": [
    {
     "data": {
      "image/png": "[encoded data removed]",
      "text/plain": [
       "<Figure size 640x480 with 1 Axes>"
      ]
     },
     "metadata": {},
     "output_type": "display_data"
    }
   ],
   "source": [
    "plot_df = pd.DataFrame(columns=['MMus', 'STeg'])\n",
    "# plot_df\n",
    "plot_df['MMus'] = node_proportion_mm\n",
    "plot_df['STeg'] = node_proportion_st\n",
    "plot_df.transpose().plot(kind='bar', stacked=True)\n",
    "plt.gca().get_yaxis().set_visible(False)\n",
    "plt.legend(bbox_to_anchor=(1.05, 0.95), loc='upper left', borderaxespad=0, title=\"Node degree\")\n",
    "plt.gca().set_aspect(5)\n",
    "plt.gca().spines['top'].set_visible(False)\n",
    "plt.gca().spines['right'].set_visible(False)\n",
    "# plt.gca().spines['bottom'].set_visible(False)\n",
    "plt.gca().spines['left'].set_visible(False)\n",
    "plt.title(\"IT Cells\")\n",
    "# plt.savefig(out_path+\"mm_st_stack.jpeg\", dpi=300"
   ]
  },
  {
   "cell_type": "code",
   "execution_count": 14,
   "metadata": {},
   "outputs": [],
   "source": [
    "# node 1 for each individual species\n",
    "nodes_mm = df_list_to_nodes(omc_it_mm, drop=['OMCi'], species='MMus')\n",
    "nodes_st = df_list_to_nodes(omc_it_st, drop=['OMCi'], species='STeg')\n",
    "nodes_it = pd.concat([nodes_mm, nodes_st])\n",
    "# nodes_it"
   ]
  },
  {
   "cell_type": "code",
   "execution_count": 13,
   "metadata": {},
   "outputs": [
    {
     "data": {
      "text/plain": [
       "Text(0.5, 1.0, 'IT, node degree=1')"
      ]
     },
     "execution_count": 13,
     "metadata": {},
     "output_type": "execute_result"
    },
    {
     "data": {
      "image/png": "[encoded data removed]",
      "text/plain": [
       "<Figure size 500x500 with 1 Axes>"
      ]
     },
     "metadata": {},
     "output_type": "display_data"
    }
   ],
   "source": [
    "plot = nodes_it[nodes_it[\"Node Degree\"]==1]\n",
    "sns.catplot(plot, x=\"Species\", y=\"Normalized Frequency\", hue=\"Species\")\n",
    "plt.title(\"IT, node degree=1\")"
   ]
  },
  {
   "cell_type": "code",
   "execution_count": 28,
   "metadata": {},
   "outputs": [
    {
     "name": "stdout",
     "output_type": "stream",
     "text": [
      "MMus\n"
     ]
    },
    {
     "data": {
      "text/plain": [
       "1.0    0.025262\n",
       "2.0    0.145853\n",
       "3.0    0.828885\n",
       "dtype: float64"
      ]
     },
     "metadata": {},
     "output_type": "display_data"
    },
    {
     "name": "stdout",
     "output_type": "stream",
     "text": [
      "\n",
      "\n",
      "STeg\n"
     ]
    },
    {
     "data": {
      "text/plain": [
       "1.0    0.204301\n",
       "2.0    0.310036\n",
       "3.0    0.485663\n",
       "dtype: float64"
      ]
     },
     "metadata": {},
     "output_type": "display_data"
    }
   ],
   "source": [
    "# AUD\n",
    "\n",
    "# isolate aud cells\n",
    "omc_it_mm_aud = []\n",
    "for i in range(len(omc_it_mm)):\n",
    "    df = omc_it_mm[i]\n",
    "    aud = df[df['AUD']>0]\n",
    "    omc_it_mm_aud.append(aud)\n",
    "\n",
    "omc_it_mm_aud_all = pd.concat(omc_it_mm_aud)\n",
    "\n",
    "omc_it_st_aud = []\n",
    "for i in range(len(omc_it_st)):\n",
    "    df = omc_it_st[i]\n",
    "    aud = df[df['AUD']>0]\n",
    "    omc_it_st_aud.append(aud)\n",
    "\n",
    "omc_it_st_aud_all = pd.concat(omc_it_st_aud)\n",
    "\n",
    "\n",
    "# calculate node degree\n",
    "print(\"MMus\")\n",
    "node_proportion_mm = df_to_nodes(omc_it_mm_aud_all, drop=['OMCi'])\n",
    "display(node_proportion_mm)\n",
    "\n",
    "print(\"\\n\")\n",
    "\n",
    "print(\"STeg\")\n",
    "node_proportion_st = df_to_nodes(omc_it_st_aud_all, drop=['OMCi'])\n",
    "display(node_proportion_st)\n"
   ]
  },
  {
   "cell_type": "code",
   "execution_count": 29,
   "metadata": {},
   "outputs": [
    {
     "data": {
      "text/plain": [
       "Text(0.5, 1.0, 'IT AUD')"
      ]
     },
     "execution_count": 29,
     "metadata": {},
     "output_type": "execute_result"
    },
    {
     "data": {
      "image/png": "[encoded data removed]",
      "text/plain": [
       "<Figure size 640x480 with 1 Axes>"
      ]
     },
     "metadata": {},
     "output_type": "display_data"
    }
   ],
   "source": [
    "plot_df = pd.DataFrame(columns=['MMus', 'STeg'])\n",
    "# plot_df\n",
    "plot_df['MMus'] = node_proportion_mm\n",
    "plot_df['STeg'] = node_proportion_st\n",
    "plot_df.transpose().plot(kind='bar', stacked=True)\n",
    "plt.gca().get_yaxis().set_visible(False)\n",
    "plt.legend(bbox_to_anchor=(1.05, 0.95), loc='upper left', borderaxespad=0, title=\"Node degree\")\n",
    "plt.gca().set_aspect(5)\n",
    "plt.gca().spines['top'].set_visible(False)\n",
    "plt.gca().spines['right'].set_visible(False)\n",
    "plt.gca().spines['left'].set_visible(False)\n",
    "plt.title(\"IT AUD\")\n",
    "# plt.savefig(out_path+\"mm_st_stack.jpeg\", dpi=300\n"
   ]
  },
  {
   "cell_type": "code",
   "execution_count": 30,
   "metadata": {},
   "outputs": [
    {
     "data": {
      "text/plain": [
       "Text(0.5, 1.0, 'IT AUD, node degree=1')"
      ]
     },
     "execution_count": 30,
     "metadata": {},
     "output_type": "execute_result"
    },
    {
     "data": {
      "image/png": "[encoded data removed]",
      "text/plain": [
       "<Figure size 500x500 with 1 Axes>"
      ]
     },
     "metadata": {},
     "output_type": "display_data"
    }
   ],
   "source": [
    "\n",
    "# node 1 for each individual species\n",
    "nodes_mm = df_list_to_nodes(omc_it_mm_aud, drop=['OMCi'], species='MMus')\n",
    "nodes_st = df_list_to_nodes(omc_it_st_aud, drop=['OMCi'], species='STeg')\n",
    "nodes_it = pd.concat([nodes_mm, nodes_st])\n",
    "# nodes_it\n",
    "plot = nodes_it[nodes_it[\"Node Degree\"]==1]\n",
    "sns.catplot(plot, x=\"Species\", y=\"Normalized Frequency\", hue=\"Species\")\n",
    "plt.title(\"IT AUD, node degree=1\")"
   ]
  },
  {
   "attachments": {},
   "cell_type": "markdown",
   "metadata": {},
   "source": [
    "# OMCc"
   ]
  },
  {
   "cell_type": "code",
   "execution_count": 31,
   "metadata": {},
   "outputs": [
    {
     "name": "stdout",
     "output_type": "stream",
     "text": [
      "MMus\n"
     ]
    },
    {
     "data": {
      "text/plain": [
       "1.0    0.114143\n",
       "2.0    0.844167\n",
       "3.0    0.041690\n",
       "dtype: float64"
      ]
     },
     "metadata": {},
     "output_type": "display_data"
    },
    {
     "name": "stdout",
     "output_type": "stream",
     "text": [
      "\n",
      "\n",
      "STeg\n"
     ]
    },
    {
     "data": {
      "text/plain": [
       "1.0    0.166389\n",
       "2.0    0.743581\n",
       "3.0    0.090030\n",
       "dtype: float64"
      ]
     },
     "metadata": {},
     "output_type": "display_data"
    },
    {
     "data": {
      "text/plain": [
       "Text(0.5, 1.0, 'IT OMCc, node degree=1')"
      ]
     },
     "execution_count": 31,
     "metadata": {},
     "output_type": "execute_result"
    },
    {
     "data": {
      "image/png": "[encoded data removed]",
      "text/plain": [
       "<Figure size 640x480 with 1 Axes>"
      ]
     },
     "metadata": {},
     "output_type": "display_data"
    },
    {
     "data": {
      "image/png": "[encoded data removed]",
      "text/plain": [
       "<Figure size 500x500 with 1 Axes>"
      ]
     },
     "metadata": {},
     "output_type": "display_data"
    }
   ],
   "source": [
    "# OMCc\n",
    "\n",
    "# isolate omcc cells\n",
    "omc_it_mm_omcc = []\n",
    "for i in range(len(omc_it_mm)):\n",
    "    df = omc_it_mm[i]\n",
    "    omcc = df[df['OMCc']>0]\n",
    "    omc_it_mm_omcc.append(omcc)\n",
    "\n",
    "omc_it_mm_omcc_all = pd.concat(omc_it_mm_omcc)\n",
    "\n",
    "omc_it_st_omcc = []\n",
    "for i in range(len(omc_it_st)):\n",
    "    df = omc_it_st[i]\n",
    "    omcc = df[df['OMCc']>0]\n",
    "    omc_it_st_omcc.append(omcc)\n",
    "\n",
    "omc_it_st_omcc_all = pd.concat(omc_it_st_omcc)\n",
    "\n",
    "\n",
    "# calculate node degree\n",
    "print(\"MMus\")\n",
    "node_proportion_mm = df_to_nodes(omc_it_mm_omcc_all, drop=['OMCi'])\n",
    "display(node_proportion_mm)\n",
    "\n",
    "print(\"\\n\")\n",
    "\n",
    "print(\"STeg\")\n",
    "node_proportion_st = df_to_nodes(omc_it_st_omcc_all, drop=['OMCi'])\n",
    "display(node_proportion_st)\n",
    "\n",
    "plot_df = pd.DataFrame(columns=['MMus', 'STeg'])\n",
    "# plot_df\n",
    "plot_df['MMus'] = node_proportion_mm\n",
    "plot_df['STeg'] = node_proportion_st\n",
    "plot_df.transpose().plot(kind='bar', stacked=True)\n",
    "plt.gca().get_yaxis().set_visible(False)\n",
    "plt.legend(bbox_to_anchor=(1.05, 0.95), loc='upper left', borderaxespad=0, title=\"Node degree\")\n",
    "plt.gca().set_aspect(5)\n",
    "plt.gca().spines['top'].set_visible(False)\n",
    "plt.gca().spines['right'].set_visible(False)\n",
    "plt.gca().spines['left'].set_visible(False)\n",
    "plt.title(\"IT OMCc\")\n",
    "# plt.savefig(out_path+\"mm_st_stack.jpeg\", dpi=300\n",
    "\n",
    "\n",
    "# node 1 for each individual species\n",
    "nodes_mm = df_list_to_nodes(omc_it_mm_omcc, drop=['OMCi'], species='MMus')\n",
    "nodes_st = df_list_to_nodes(omc_it_st_omcc, drop=['OMCi'], species='STeg')\n",
    "nodes_it = pd.concat([nodes_mm, nodes_st])\n",
    "# nodes_it\n",
    "plot = nodes_it[nodes_it[\"Node Degree\"]==1]\n",
    "sns.catplot(plot, x=\"Species\", y=\"Normalized Frequency\", hue=\"Species\")\n",
    "plt.title(\"IT OMCc, node degree=1\")"
   ]
  }
 ],
 "metadata": {
  "kernelspec": {
   "display_name": "MAPseq",
   "language": "python",
   "name": "python3"
  },
  "language_info": {
   "codemirror_mode": {
    "name": "ipython",
    "version": 3
   },
   "file_extension": ".py",
   "mimetype": "text/x-python",
   "name": "python",
   "nbconvert_exporter": "python",
   "pygments_lexer": "ipython3",
   "version": "3.10.6"
  },
  "orig_nbformat": 4
 },
 "nbformat": 4,
 "nbformat_minor": 2
}
