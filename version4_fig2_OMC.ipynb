{
 "cells": [
  {
   "cell_type": "code",
   "execution_count": 1,
   "metadata": {},
   "outputs": [],
   "source": [
    "###### load packages\n",
    "import pandas as pd\n",
    "import numpy as np\n",
    "import matplotlib.pyplot as plt\n",
    "# from sklearn.preprocessing import MinMaxScaler, StandardScaler # min/max scaling\n",
    "import pickle\n",
    "import seaborn as sns\n",
    "from matplotlib.colors import LogNorm\n",
    "from MAPseq_processing import * # import all functions from this script\n",
    "from MAPseq_plotting import * # import all functions from this script\n",
    "import matplotlib.lines as mlines # needed for custom legend\n",
    "import matplotlib.font_manager as fm # needed to export editable text\n",
    "from scipy import stats\n",
    "import random\n",
    "\n",
    "# needed for editable text in svg format\n",
    "plt.rcParams['svg.fonttype'] = 'none'\n",
    "\n",
    "\n",
    "# import metadata\n",
    "from M194_M220_metadata import *\n",
    "\n",
    "# import colormaps\n",
    "from colormaps import blue_cmp, orange_cmp\n",
    "\n",
    "%matplotlib inline\n",
    "\n",
    "# auto refreshes imported functions if source code changes:\n",
    "%load_ext autoreload\n",
    "%autoreload 2"
   ]
  },
  {
   "cell_type": "code",
   "execution_count": 2,
   "metadata": {},
   "outputs": [],
   "source": [
    "# # set up matplotlib fonts\n",
    "# plt.rc('font', family=\"hel\")\n",
    "# plt.rcParams.update({'font.size':12})\n",
    "# font = fm.FontProperties(family = \"Helvetica\")\n",
    "# # use plt.title('title_str', fontproporties = font)"
   ]
  },
  {
   "cell_type": "code",
   "execution_count": 3,
   "metadata": {},
   "outputs": [],
   "source": [
    "# set-up variables\n",
    "in_path = '/Volumes/Data/Emily/MAPseq/combined_analysis_M194_M220/processed_data/'\n",
    "# out_path = '/Volumes/Data/Emily/figures/fig_2_mapseq/figure_pics/'\n",
    "out_path = \"/Users/eisko/Documents/CSHL/mapseq_paper/svg_images/\""
   ]
  },
  {
   "cell_type": "code",
   "execution_count": 4,
   "metadata": {},
   "outputs": [],
   "source": [
    "#### load data\n",
    "# with open(in_path +'M194_M220_OMC_bin4.pkl', 'rb') as f:\n",
    "#     omc_bin = pickle.load(f)   \n",
    "omc_bin = pd.read_pickle(in_path+\"M194_M220_OMC_bin4.pkl\")\n",
    "\n",
    "#### load data\n",
    "# with open(in_path +'M194_M220_OMC_countN4.pkl', 'rb') as f:\n",
    "#     omc_countN = pickle.load(f)\n",
    "omc_countN = pd.read_pickle(in_path+\"M194_M220_OMC_countN4.pkl\")\n",
    "\n",
    "\n",
    "#     #### load data\n",
    "# with open(in_path +'M194_M220_ACA_bin4.pkl', 'rb') as f:\n",
    "#     aca_bin = pickle.load(f)   \n",
    "\n",
    "# #### load data\n",
    "# with open(in_path +'M194_M220_ACA_countN4.pkl', 'rb') as f:\n",
    "#     aca_countN = pickle.load(f)"
   ]
  },
  {
   "attachments": {},
   "cell_type": "markdown",
   "metadata": {},
   "source": [
    "# Data Processing"
   ]
  },
  {
   "cell_type": "code",
   "execution_count": 5,
   "metadata": {},
   "outputs": [],
   "source": [
    "# initial processing\n",
    "# bin processing\n",
    "omc_clean = [clean_up_data(df) for df in omc_bin]\n",
    "omc_type = [sort_by_celltype(df) for df in omc_clean]\n",
    "omc_preprocess = dfs_preprocess_counts(omc_type) # normalize by dataset median\n",
    "\n",
    "# countN processing\n",
    "omc_cleanN = [clean_up_data(df) for df in omc_countN]\n",
    "omc_typeN = [sort_by_celltype(df) for df in omc_cleanN]\n",
    "omc_preprocessN = dfs_preprocess_counts(omc_typeN) # normalize by dataset median\n",
    "\n"
   ]
  },
  {
   "cell_type": "markdown",
   "metadata": {},
   "source": [
    "# Infectivity"
   ]
  },
  {
   "cell_type": "code",
   "execution_count": null,
   "metadata": {},
   "outputs": [],
   "source": [
    "infect_df = pd.DataFrame(columns=[\"Unique Barcodes\", \"mice\", \"species\", \"dataset\"])\n",
    "\n",
    "for i in range(metadata.shape[0]):\n",
    "    infect_df.loc[i,\"Unique Barcodes\"] = omc_type[i].shape[0]\n",
    "    infect_df.loc[i, \"mice\"] = metadata.loc[i,\"mice\"]\n",
    "    infect_df.loc[i,\"species\"] = metadata.loc[i, \"species\"]\n",
    "    infect_df.loc[i, \"dataset\"] = metadata.loc[i, \"dataset\"]\n",
    "\n",
    "dot_plot(infect_df, to_plot=\"Unique Barcodes\")\n",
    "plt.savefig(out_path+\"infectivity_uBC_dotplot.svg\", dpi=300, bbox_inches=\"tight\")\n",
    "plt.show()"
   ]
  },
  {
   "attachments": {},
   "cell_type": "markdown",
   "metadata": {},
   "source": [
    "# Heatmaps"
   ]
  },
  {
   "attachments": {},
   "cell_type": "markdown",
   "metadata": {},
   "source": [
    "## individual animal"
   ]
  },
  {
   "cell_type": "code",
   "execution_count": null,
   "metadata": {},
   "outputs": [],
   "source": [
    "col_order = [\"OMCc\", \"AUD\", \"STR\", 'TH',  \"AMY\", 'HY', 'SNr', 'SCm', 'PG', 'PAG',\n",
    "             'BS', 'OMCi', 'type']\n"
   ]
  },
  {
   "cell_type": "code",
   "execution_count": null,
   "metadata": {},
   "outputs": [],
   "source": [
    "# omc_preprocess_rename = [df.rename(columns={\"AUD\":\"AUD/TEa\"}) for df in omc_preprocess]\n",
    "# omc_preprocessN_rename = [df.rename(columns={\"AUD\":\"AUD/TEa\"}) for df in omc_preprocessN]\n"
   ]
  },
  {
   "cell_type": "code",
   "execution_count": null,
   "metadata": {},
   "outputs": [],
   "source": [
    "# plot STF6 only, mice[10]\n",
    "i=10\n",
    "\n",
    "\n",
    "\n",
    "sort_order = ['type', 'OMCc', 'AUD',  'STR', 'TH', 'AMY', 'HY', 'SNr', 'SCm', 'PG', 'PAG',\n",
    "       'BS']\n",
    "neurons = {\"a\":100, \"b\":740, \"c\":795, \"d\":810, \"e\":900, \"f\":960}\n",
    "\n",
    "# title_n = mice[i]+\", total neurons = \"+str(omc_preprocess_rename[i].shape[0])\n",
    "title_n = \"\"\n",
    "\n",
    "# specify column order by highest -> lowest projecting\n",
    "col_order = omc_preprocess[i].sum().drop('type').sort_values(ascending=False).index.tolist()+[\"type\"]\n",
    "\n",
    "# # binary\n",
    "# all_idx, fig = sorted_heatmap(omc_preprocess[i][col_order], sort_by=sort_order, sort_ascend=True, title=title_n, drop=[\"OMCi\"],\n",
    "#                label_neurons=neurons)\n",
    "\n",
    "# counts\n",
    "all_idx, fig = sorted_heatmap(omc_preprocessN[i][col_order], sort_by=sort_order, sort_ascend=True, \n",
    "                              title=title_n, drop=[\"OMCi\"], label_neurons=neurons, norm=LogNorm(),\n",
    "                              cbar=True)\n",
    "\n",
    "# rotate xtick labels 45 degrees\n",
    "plt.xticks(rotation=45,ha='right', rotation_mode='anchor')\n",
    "\n",
    "# set cbar label\n",
    "ax = plt.gca()\n",
    "ax.collections[0].colorbar.set_label(\"Normalized Counts\")\n",
    "\n",
    "plt.savefig(out_path+\"OMC_heatmap_mapseq_STF6.svg\", dpi=300, bbox_inches=\"tight\")\n",
    "plt.show()\n"
   ]
  },
  {
   "cell_type": "code",
   "execution_count": null,
   "metadata": {},
   "outputs": [],
   "source": [
    "\n",
    "neurons_idx = {}\n",
    "for key in neurons:\n",
    "    neurons_idx[key] = all_idx[neurons[key]]\n",
    "\n",
    "for key in neurons_idx:\n",
    "       # single_neuron_bar(omc_preprocessN[i], neurons[key], label=key, sort_by=[])\n",
    "       plot = omc_preprocessN[i][col_order]\n",
    "       single_neuron_bar(plot, neurons_idx[key], label=key, sort_by=[], row_norm=False, ylim=9)\n",
    "       if key==\"f\":\n",
    "             plt.xticks(rotation=45, ha='right', rotation_mode='anchor')\n",
    "       else:\n",
    "             plt.tick_params(labelbottom=False)\n",
    "       plt.savefig(out_path+\"OMC_heatmap_mapseq_STF6\"+\"neuron_\"+key+\".svg\", dpi=300, bbox_inches=\"tight\")\n",
    "       plt.show()\n",
    "       "
   ]
  },
  {
   "cell_type": "markdown",
   "metadata": {},
   "source": [
    "## MMus"
   ]
  },
  {
   "cell_type": "code",
   "execution_count": null,
   "metadata": {},
   "outputs": [],
   "source": [
    "plot_order = [\"STR\", \"OMCc\", \"AUD\", \"TH\", \"AMY\", \"HY\", \"PG\", \"PAG\", \"SNr\", \"SCm\", \"BS\", \"type\"]"
   ]
  },
  {
   "cell_type": "code",
   "execution_count": null,
   "metadata": {},
   "outputs": [],
   "source": [
    "# plot MMM4 only, mice[6]\n",
    "i=6\n",
    "\n",
    "sort_order = ['type', 'OMCc', 'AUD',  'STR', 'TH', 'AMY', 'HY', 'SNr', 'SCm', 'PG', 'PAG',\n",
    "       'BS']\n",
    "neurons = {\"a\":110, \"b\":750, \"c\":825, \"d\":840, \"e\":900, \"f\":940}\n",
    "\n",
    "# title_n = mice[i]+\" 1000 neurons plotted\\ntotal neurons = \"+str(omc_preprocess[i].shape[0])\n",
    "title_n = \"\"\n",
    "\n",
    "\n",
    "# only plot 1000 cells for visualization purposes\n",
    "n_1000 = omc_preprocessN[6].sample(1000, random_state=10)\n",
    "\n",
    "# specify column order by highest -> lowest projecting\n",
    "# col_order = omc_preprocess_rename[i].sum().drop('type').sort_values(ascending=False).index.tolist()+[\"type\"]\n",
    "\n",
    "\n",
    "all_idx, fig = sorted_heatmap(n_1000[plot_order], sort_by=sort_order, sort_ascend=True, title=title_n,\n",
    "                              drop=[], cmap=blue_cmp, label_neurons=neurons, norm=LogNorm(),\n",
    "                              cbar=True)\n",
    "# all_idx, fig = sorted_heatmap(omc_preprocess_rename[i][col_order], sort_by=sort_order, sort_ascend=True, title=title_n, drop=[\"OMCi\"],\n",
    "#                label_neurons=neurons)\n",
    "\n",
    "\n",
    "# rotate xtick labels 45 degrees\n",
    "plt.xticks(rotation=45,ha='right', rotation_mode='anchor')\n",
    "\n",
    "# set cbar label\n",
    "ax = plt.gca()\n",
    "ax.collections[0].colorbar.set_label(\"Normalized Counts\")\n",
    "\n",
    "plt.savefig(out_path+\"OMC_heatmap_mapseq_MMM4.svg\", dpi=300, bbox_inches=\"tight\")\n",
    "plt.show()\n"
   ]
  },
  {
   "cell_type": "code",
   "execution_count": null,
   "metadata": {},
   "outputs": [],
   "source": [
    "\n",
    "neurons_idx = {}\n",
    "for key in neurons:\n",
    "    neurons_idx[key] = all_idx[neurons[key]]\n",
    "\n",
    "for key in neurons_idx:\n",
    "       # single_neuron_bar(omc_preprocessN_rename[i], neurons[key], label=key, sort_by=[])\n",
    "       plot = omc_preprocessN[i][col_order]\n",
    "       single_neuron_bar(plot, neurons_idx[key], label=key, sort_by=[], cmap=blue_cmp, \n",
    "                         col_order=plot_order[:-1], row_norm=False, ylim=23)\n",
    "       if key==\"f\":\n",
    "             plt.xticks(rotation=45, ha='right', rotation_mode='anchor')\n",
    "       else:\n",
    "             plt.tick_params(labelbottom=False)\n",
    "       plt.savefig(out_path+\"OMC_heatmap_mapseq_MMM4\"+\"neuron_\"+key+\".svg\", dpi=300, bbox_inches=\"tight\")\n",
    "       plt.show()\n",
    "       "
   ]
  },
  {
   "attachments": {},
   "cell_type": "markdown",
   "metadata": {},
   "source": [
    "## n=1000 species summary"
   ]
  },
  {
   "cell_type": "code",
   "execution_count": null,
   "metadata": {},
   "outputs": [],
   "source": [
    "# plot 1000 neurons sampled from all only\n",
    "stidx = [i for i in range(len(species)) if species[i]==\"STeg\"]\n",
    "omc_st = np.take(omc_preprocess, stidx) # just get steg from list\n",
    "plot_st = pd.concat(omc_st).reset_index(drop=True)\n",
    "\n",
    "\n",
    "neurons = {\"a\":124, \"b\":800, \"c\":945}\n",
    "\n",
    "idx, fig = sorted_heatmap(plot_st, sort_by=sort_order, title=\"N=7, n=1000\", drop=[\"OMCi\"],\n",
    "               nsample=1000, label_neurons=neurons)\n",
    "plt.savefig(out_path+\"OMC_heatmap_ST_1000.jpg\", dpi=300, bbox_inches=\"tight\")\n",
    "plt.show(fig)\n",
    "\n",
    "\n",
    "stidx = [i for i in range(len(species)) if species[i]==\"STeg\"]\n",
    "omcN_st = np.take(omc_preprocessN, stidx) # just get steg from list\n",
    "plotN_st = pd.concat(omcN_st).reset_index(drop=True)\n",
    "plotN = plotN_st.loc[idx,:].reset_index(drop=True)\n",
    "for key in neurons.keys():\n",
    "       # single_neuron_bar(omc_preprocessN[i], neurons[key], label=key, sort_by=[])\n",
    "       plot = plotN[col_order]\n",
    "       single_neuron_plot(plot, neurons[key], label=key, sort_by=[])\n",
    "       plt.savefig(out_path+\"OMC_heatmap_ST_1000_neuron_\"+key+\".jpg\", dpi=300, bbox_inches=\"tight\")\n",
    "       plt.show()"
   ]
  },
  {
   "attachments": {},
   "cell_type": "markdown",
   "metadata": {},
   "source": [
    "# Dot Plots"
   ]
  },
  {
   "cell_type": "markdown",
   "metadata": {},
   "source": [
    "## Add down Sampled lab and singing mouse\n",
    "- sample from aggregated dataset, with replacement b/w 'animals'"
   ]
  },
  {
   "cell_type": "code",
   "execution_count": null,
   "metadata": {},
   "outputs": [],
   "source": [
    "# omc_type_rename = [df.rename(columns={\"AUD\":\"AUD/TEa\"}) for df in omc_type]\n",
    "# omc_type_rename[0]"
   ]
  },
  {
   "cell_type": "code",
   "execution_count": 6,
   "metadata": {},
   "outputs": [
    {
     "name": "stderr",
     "output_type": "stream",
     "text": [
      "/Users/eisko/github_repos/MAPseq_analysis/MAPseq_processing.py:261: FutureWarning: The behavior of DataFrame concatenation with empty or all-NA entries is deprecated. In a future version, this will no longer exclude empty or all-NA columns when determining the result dtypes. To retain the old behavior, exclude the relevant entries before the concat operation.\n",
      "  plot_df = pd.concat([plot_df, df_add])\n",
      "/Users/eisko/github_repos/MAPseq_analysis/MAPseq_processing.py:261: FutureWarning: The behavior of DataFrame concatenation with empty or all-NA entries is deprecated. In a future version, this will no longer exclude empty or all-NA columns when determining the result dtypes. To retain the old behavior, exclude the relevant entries before the concat operation.\n",
      "  plot_df = pd.concat([plot_df, df_add])\n",
      "/Users/eisko/github_repos/MAPseq_analysis/MAPseq_processing.py:261: FutureWarning: The behavior of DataFrame concatenation with empty or all-NA entries is deprecated. In a future version, this will no longer exclude empty or all-NA columns when determining the result dtypes. To retain the old behavior, exclude the relevant entries before the concat operation.\n",
      "  plot_df = pd.concat([plot_df, df_add])\n",
      "/Users/eisko/github_repos/MAPseq_analysis/MAPseq_processing.py:261: FutureWarning: The behavior of DataFrame concatenation with empty or all-NA entries is deprecated. In a future version, this will no longer exclude empty or all-NA columns when determining the result dtypes. To retain the old behavior, exclude the relevant entries before the concat operation.\n",
      "  plot_df = pd.concat([plot_df, df_add])\n",
      "/Users/eisko/github_repos/MAPseq_analysis/MAPseq_processing.py:261: FutureWarning: The behavior of DataFrame concatenation with empty or all-NA entries is deprecated. In a future version, this will no longer exclude empty or all-NA columns when determining the result dtypes. To retain the old behavior, exclude the relevant entries before the concat operation.\n",
      "  plot_df = pd.concat([plot_df, df_add])\n",
      "/Users/eisko/github_repos/MAPseq_analysis/MAPseq_processing.py:261: FutureWarning: The behavior of DataFrame concatenation with empty or all-NA entries is deprecated. In a future version, this will no longer exclude empty or all-NA columns when determining the result dtypes. To retain the old behavior, exclude the relevant entries before the concat operation.\n",
      "  plot_df = pd.concat([plot_df, df_add])\n"
     ]
    }
   ],
   "source": [
    "# processing\n",
    "plot_it = [\"AUD\", \"OMCc\"]\n",
    "plot_pt = [\"PAG\", \"SNr\"]\n",
    "\n",
    "# IT cells\n",
    "omc_it = [df[df[\"type\"]==\"IT\"].drop(\"type\", axis=1) for df in omc_type]\n",
    "omc_it_prop = dfs_to_proportions(omc_it, cell_type=\"IT\")\n",
    "\n",
    "mm_it_sim = resample_neurons(omc_it, species=\"MMus\")\n",
    "mm_it_sim_prop = dfs_to_proportions(mm_it_sim, cell_type=\"IT\")\n",
    "mm_it_sim_prop['species'] = \"MMus_resampled\"\n",
    "\n",
    "st_it_sim = resample_neurons(omc_it, species=\"STeg\")\n",
    "st_it_sim_prop = dfs_to_proportions(st_it_sim, cell_type=\"IT\")\n",
    "st_it_sim_prop['species'] = \"STeg_resampled\"\n",
    "\n",
    "# PT cells\n",
    "omc_pt = [df[df[\"type\"]==\"PT\"].drop(\"type\", axis=1) for df in omc_type]\n",
    "omc_pt_prop = dfs_to_proportions(omc_pt, cell_type=\"PT\", aud_rename=False)\n",
    "\n",
    "mm_pt_sim = resample_neurons(omc_pt, species=\"MMus\")\n",
    "mm_pt_sim_prop = dfs_to_proportions(mm_pt_sim, cell_type=\"PT\", aud_rename=False)\n",
    "mm_pt_sim_prop['species'] = \"MMus_resampled\"\n",
    "\n",
    "st_pt_sim = resample_neurons(omc_pt, species=\"STeg\")\n",
    "st_pt_sim_prop = dfs_to_proportions(st_pt_sim, cell_type=\"PT\", aud_rename=False)\n",
    "st_pt_sim_prop['species'] = \"STeg_resampled\"\n",
    "\n",
    "plot_it = pd.concat([omc_it_prop, mm_it_sim_prop, st_it_sim_prop])\n",
    "plot_pt = pd.concat([omc_pt_prop, mm_pt_sim_prop, st_pt_sim_prop])"
   ]
  },
  {
   "cell_type": "code",
   "execution_count": null,
   "metadata": {},
   "outputs": [],
   "source": [
    "# AUD\n",
    "dot_plot_resample(plot_it, \"AUD\", title=\"AUD\", add_legend=False)\n",
    "plt.savefig(out_path+\"OMC_AUD_resample_dot.svg\", dpi=300, bbox_inches=\"tight\")\n",
    "plt.show()\n",
    "\n",
    "# OMCc\n",
    "dot_plot_resample(plot_it, \"OMCc\", title=\"OMCc\", add_legend=False)\n",
    "plt.savefig(out_path+\"OMC_OMCc_resample_dot.svg\", dpi=300, bbox_inches=\"tight\")\n",
    "plt.show()\n",
    "\n",
    "# PAG\n",
    "dot_plot_resample(plot_pt, \"PAG\", title=\"PAG\", add_legend=False)\n",
    "plt.savefig(out_path+\"OMC_PAG_resample_dot.svg\", dpi=300, bbox_inches=\"tight\")\n",
    "plt.show()\n",
    "\n",
    "# SNr\n",
    "dot_plot_resample(plot_pt, \"SNr\", title=\"SNr\", add_legend=False)\n",
    "plt.savefig(out_path+\"OMC_SNr_resample_dot.svg\", dpi=300, bbox_inches=\"tight\")\n",
    "plt.show()"
   ]
  },
  {
   "cell_type": "markdown",
   "metadata": {},
   "source": [
    "# Intra vs. Inter comparisons"
   ]
  },
  {
   "cell_type": "code",
   "execution_count": null,
   "metadata": {},
   "outputs": [],
   "source": [
    "d1 = proportion_comparisons(plot_it, species1=\"MMus\", species2=\"STeg\", label=\"inter\")\n",
    "d2 = proportion_comparisons(plot_it, species1=\"MMus\", species2=\"MMus\", label=\"intra\")\n",
    "d3 = proportion_comparisons(plot_it, species1=\"STeg\", species2=\"STeg\", label=\"intra\")\n",
    "\n",
    "result_it = pd.concat([d1, d2, d3])\n",
    "\n",
    "inter_it = result_it[result_it['label']==\"inter\"]\n",
    "intra_it = result_it[result_it['label']==\"intra\"]\n",
    "\n",
    "d4 = proportion_comparisons(plot_pt, species1=\"MMus\", species2=\"STeg\", label=\"inter\")\n",
    "d5 = proportion_comparisons(plot_pt, species1=\"MMus\", species2=\"MMus\", label=\"intra\")\n",
    "d6 = proportion_comparisons(plot_pt, species1=\"STeg\", species2=\"STeg\", label=\"intra\")\n",
    "\n",
    "result_pt = pd.concat([d4, d5, d6])\n",
    "\n",
    "inter_pt = result_pt[result_pt['label']==\"inter\"]\n",
    "intra_pt = result_pt[result_pt['label']==\"intra\"]\n",
    "\n",
    "# drop str in result_pt so no repeat areas b/w it and pt\n",
    "result_pt = result_pt[result_pt['area']!=\"STR\"]\n",
    "\n",
    "result = pd.concat([result_it, result_pt])\n",
    "\n",
    "# inter = result[result['label']==\"inter\"]\n",
    "# intra = result[result['label']==\"intra\"]\n",
    "\n",
    "result_means = result.groupby(['label', 'area']).mean().reset_index()\n",
    "result_means\n",
    "\n",
    "fig, ax = plt.subplots()\n",
    "sns.pointplot(result_means, x=\"label\", y=\"prop_diff\", hue=\"area\")\n",
    "plt.title(\"OMC - MAPseq proportions\")\n",
    "ax.spines['right'].set_visible(False)\n",
    "ax.spines['top'].set_visible(False)\n",
    "plt.savefig(out_path+\"inter_intra_paired_mapseq.jpg\", dpi=300, bbox_inches=\"tight\")\n",
    "plt.show()"
   ]
  },
  {
   "cell_type": "code",
   "execution_count": null,
   "metadata": {},
   "outputs": [],
   "source": [
    "from scipy.stats import ttest_rel\n",
    "\n",
    "# do paired t-test = significant!\n",
    "result_means_inter = result_means[result_means['label']==\"inter\"]\n",
    "result_means_intra = result_means[result_means['label']==\"intra\"]\n",
    "\n",
    "ttest_rel(result_means_inter['prop_diff'], result_means_intra['prop_diff'])"
   ]
  },
  {
   "attachments": {},
   "cell_type": "markdown",
   "metadata": {},
   "source": [
    "# Compare proportions"
   ]
  },
  {
   "cell_type": "markdown",
   "metadata": {},
   "source": [
    "# Scatterplots"
   ]
  },
  {
   "cell_type": "code",
   "execution_count": null,
   "metadata": {},
   "outputs": [],
   "source": [
    "# preprocess\n",
    "plot_it['type'] = \"IT\"\n",
    "plot_pt['type'] = \"PT\"\n"
   ]
  },
  {
   "cell_type": "code",
   "execution_count": null,
   "metadata": {},
   "outputs": [],
   "source": [
    "# combine IT and PT\n",
    "sp_stats_it = stvmm_calc_stats(plot_it, species=[\"STeg\", \"MMus\"])\n",
    "sp_stats_pt = stvmm_calc_stats(plot_pt, species=[\"STeg\", \"MMus\"])\n",
    "\n",
    "sp_stats = pd.concat([sp_stats_it,sp_stats_pt])\n",
    "\n",
    "stvmm_area_scatter_type(sp_stats, title=\"OMC\")\n",
    "# plt.savefig(out_path+\"OMC_scatter_mapseq_type.jpg\", dpi=300, bbox_inches=\"tight\")\n",
    "plt.show()"
   ]
  },
  {
   "cell_type": "markdown",
   "metadata": {},
   "source": [
    "## volcano plot"
   ]
  },
  {
   "cell_type": "code",
   "execution_count": null,
   "metadata": {},
   "outputs": [],
   "source": [
    "plot_it['type'] = \"IT\"\n",
    "plot_pt['type'] = \"PT\"\n",
    "omc_prop = pd.concat([plot_it, plot_pt])\n",
    "plot = stvmm_calc_ttest(omc_prop, sp1=\"MMus\", sp2=\"STeg\")\n",
    "\n",
    "plot_volcano(plot, title=\"OMC MAPseq Proportion\", shape=\"type\", fig_size=(7,5.5), p_01=None, ylim=(0, -np.log10(0.01)))\n",
    "plt.xlim(-2,2)\n",
    "\n",
    "\n",
    "# plt.savefig(out_path+\"OMC_volcano_mapseq_type.svg\", dpi=300, bbox_inches=\"tight\")\n",
    "plt.show()"
   ]
  },
  {
   "cell_type": "code",
   "execution_count": null,
   "metadata": {},
   "outputs": [],
   "source": [
    "display(sp_stats)\n",
    "display(plot)"
   ]
  },
  {
   "cell_type": "markdown",
   "metadata": {},
   "source": [
    "## AUD vs PAG propotion"
   ]
  },
  {
   "cell_type": "code",
   "execution_count": null,
   "metadata": {},
   "outputs": [],
   "source": [
    "omc_prop\n",
    "omc_prop_select = omc_prop[(omc_prop[\"species\"]==\"MMus\") | (omc_prop[\"species\"]==\"STeg\")]\n",
    "omc_prop_aud = omc_prop_select[(omc_prop_select['area']==\"AUD\")].reset_index(drop=True)\n",
    "omc_prop_pag = omc_prop_select[(omc_prop_select['area']==\"PAG\")].reset_index(drop=True)\n",
    "omc_prop_aud = omc_prop_aud.rename(columns=({'proportion':'aud_prop'}))\n",
    "omc_prop_aud['pag_prop'] = omc_prop_pag['proportion']\n",
    "plot_df = omc_prop_aud.copy().drop([\"area\", \"type\"], axis=1)\n",
    "plot_df\n",
    "\n",
    "sns.scatterplot(plot_df, x=\"aud_prop\", y=\"pag_prop\",hue=\"species\",\n",
    "                s=100)\n",
    "plt.xlabel(\"AUD Proportion\")\n",
    "plt.ylabel(\"PAG Proportion\")\n",
    "\n",
    "plt.xlim(0,0.7)\n",
    "\n",
    "plt.savefig(out_path+\"omc_proportion_AUDvPAG2.svg\", dpi=300, bbox_inches=\"tight\")"
   ]
  },
  {
   "cell_type": "code",
   "execution_count": null,
   "metadata": {},
   "outputs": [],
   "source": [
    "# scatter and volcano plot for comparing resampled data\n",
    "# combine IT and PT\n",
    "sp_stats_it = stvmm_calc_stats(plot_it, species=[\"STeg_resampled\", \"MMus_resampled\"])\n",
    "sp_stats_pt = stvmm_calc_stats(plot_pt, species=[\"STeg_resampled\", \"MMus_resampled\"])\n",
    "\n",
    "sp_stats = pd.concat([sp_stats_it,sp_stats_pt])\n",
    "sp_stats\n",
    "\n",
    "\n",
    "stvmm_area_scatter_type(sp_stats, title=\"OMC - Resampled\", x=\"STeg_resampled\", y=\"MMus_resampled\")\n",
    "# plt.savefig(out_path+\"OMC_scatter_mapseq_resampled.jpg\", dpi=300, bbox_inches=\"tight\")\n",
    "plt.show()\n",
    "## volcano plot\n",
    "omc_prop = pd.concat([plot_it, plot_pt])\n",
    "plot = stvmm_calc_ttest(omc_prop, sp1=\"MMus_resampled\", sp2=\"STeg_resampled\")\n",
    "\n",
    "plot_volcano(plot, title=\"OMC MAPseq Proportion - Resampled\", shape=\"type\")\n",
    "plt.xlim(-3,3)\n",
    "\n",
    "\n",
    "# plt.savefig(out_path+\"OMC_volcano_mapseq_resampled.jpg\", dpi=300, bbox_inches=\"tight\")\n"
   ]
  },
  {
   "cell_type": "markdown",
   "metadata": {},
   "source": [
    "# compare number of cells"
   ]
  },
  {
   "cell_type": "code",
   "execution_count": null,
   "metadata": {},
   "outputs": [],
   "source": [
    "omc_preprocess[0]\n",
    "\n",
    "# make dataframe w/ # unique barcodes per animal\n",
    "\n",
    "nBC_df = pd.DataFrame(columns=[\"Total Neurons\", \"IT Neurons\", \"CT Neurons\", \"PT Neurons\",\n",
    "                               \"mice\", \"species\", \"dataset\"])\n",
    "\n",
    "for i in range(metadata.shape[0]):\n",
    "    df = omc_preprocess[i]\n",
    "    tot = df.shape[0]\n",
    "    it = df[df['type']==\"IT\"].shape[0]\n",
    "    ct = df[df['type']==\"CT\"].shape[0]\n",
    "    pt = df[df['type']==\"PT\"].shape[0]\n",
    "\n",
    "    row = [tot, it, ct, pt, metadata.loc[i,\"mice\"], metadata.loc[i,\"species\"], metadata.loc[i,\"dataset\"]]\n",
    "\n",
    "    nBC_df.loc[i] = row\n",
    "\n",
    "nBC_df"
   ]
  },
  {
   "cell_type": "code",
   "execution_count": null,
   "metadata": {},
   "outputs": [],
   "source": [
    "area_proportion_dot_plot(nBC_df, title=\"All Unique Barcodes - OMC\",\n",
    "                         to_plot=\"Total Neurons\", add_legend=False)\n",
    "plt.savefig(out_path+\"uBC_OMC_all.jpg\", dpi=300, bbox_inches=\"tight\")\n",
    "plt.show()\n",
    "\n",
    "area_proportion_dot_plot(nBC_df, title=\"IT Unique Barcodes - OMC\",\n",
    "                         to_plot=\"IT Neurons\", add_legend=False)\n",
    "plt.show()\n",
    "\n",
    "area_proportion_dot_plot(nBC_df, title=\"CT Unique Barcodes - OMC\",\n",
    "                         to_plot=\"CT Neurons\", add_legend=False)\n",
    "plt.show()\n",
    "\n",
    "area_proportion_dot_plot(nBC_df, title=\"PT Unique Barcodes - OMC\",\n",
    "                         to_plot=\"PT Neurons\", add_legend=False)\n",
    "plt.show()\n",
    "\n"
   ]
  },
  {
   "cell_type": "markdown",
   "metadata": {},
   "source": [
    "# PCA  to cluster animals"
   ]
  },
  {
   "cell_type": "code",
   "execution_count": 7,
   "metadata": {},
   "outputs": [],
   "source": [
    "it_df = omc_it_prop.pivot(index=\"mice\", columns=\"area\", values=\"proportion\")\n",
    "pt_df = omc_pt_prop.pivot(index=\"mice\", columns=\"area\", values=\"proportion\")\n",
    "\n",
    "all_df = pd.concat([it_df, pt_df], axis=1)"
   ]
  },
  {
   "cell_type": "code",
   "execution_count": 8,
   "metadata": {},
   "outputs": [
    {
     "data": {
      "image/png": "[encoded data removed]",
      "text/plain": [
       "<Figure size 640x480 with 1 Axes>"
      ]
     },
     "metadata": {},
     "output_type": "display_data"
    },
    {
     "data": {
      "text/plain": [
       "<Figure size 640x480 with 0 Axes>"
      ]
     },
     "metadata": {},
     "output_type": "display_data"
    }
   ],
   "source": [
    "from sklearn.decomposition import PCA\n",
    "\n",
    "pca = PCA()\n",
    "principalComponents = pca.fit_transform(all_df)\n",
    "explain_var = pca.explained_variance_ratio_\n",
    "\n",
    "# plot pcs\n",
    "plt.scatter(principalComponents[0:5,0], principalComponents[0:5,1], label=\"lab mouse\")\n",
    "plt.scatter(principalComponents[5:12,0], principalComponents[5:12,1], label=\"singing mouse\")\n",
    "plt.xlabel(\"PC1 \"+ str(round(explain_var[0], 4)*100)+ \"%\")\n",
    "plt.ylabel(\"PC2 \"+ str(round(explain_var[1], 4)*100)+ \"%\")\n",
    "plt.legend()\n",
    "plt.show()\n",
    "plt.savefig(out_path+\"omc_prop_pca12.svg\", dpi=300, bbox_inches=\"tight\")"
   ]
  },
  {
   "cell_type": "code",
   "execution_count": null,
   "metadata": {},
   "outputs": [],
   "source": [
    "plt.scatter(principalComponents[0:5,1], principalComponents[0:5,2], label=\"lab mouse\")\n",
    "plt.scatter(principalComponents[5:12,1], principalComponents[5:12,2], label=\"singing mouse\")\n",
    "plt.xlabel(\"PC2 \"+ str(round(explain_var[1], 4)*100)+ \"%\")\n",
    "plt.ylabel(\"PC3 \"+ str(round(explain_var[2], 4)*100)+ \"%\")\n",
    "plt.legend()\n",
    "plt.show()\n",
    "plt.savefig(out_path+\"omc_prop_pca23.svg\", dpi=300, bbox_inches=\"tight\")"
   ]
  },
  {
   "cell_type": "code",
   "execution_count": null,
   "metadata": {},
   "outputs": [],
   "source": [
    "from mpl_toolkits import mplot3d\n",
    "\n",
    "# plt.scatter(principalComponents[0:5,1], principalComponents[0:5,2], label=\"lab mouse\")\n",
    "\n",
    "\n",
    "# Creating figure\n",
    "fig = plt.figure(figsize = (10, 7))\n",
    "ax = plt.axes(projection =\"3d\")\n",
    " \n",
    "# Creating plot\n",
    "ax.scatter3D(principalComponents[0:5,0], principalComponents[0:5,1], principalComponents[0:5,2], label=\"lab mouse\")\n",
    "ax.scatter3D(principalComponents[5:12,0], principalComponents[5:12,1], principalComponents[5:12,2], label=\"singing mouse\")\n",
    "ax.set_xlabel(\"PC1 \"+ str(round(explain_var[0], 4)*100)+ \"%\")\n",
    "ax.set_ylabel(\"PC2 \"+ str(round(explain_var[1], 4)*100)+ \"%\")\n",
    "ax.set_zlabel(\"PC3 \"+ str(round(explain_var[2], 4)*100)+ \"%\")\n",
    "plt.legend()\n",
    "plt.show()"
   ]
  },
  {
   "cell_type": "code",
   "execution_count": 38,
   "metadata": {},
   "outputs": [
    {
     "data": {
      "image/png": "[encoded data removed]",
      "text/plain": [
       "<Figure size 640x480 with 1 Axes>"
      ]
     },
     "metadata": {},
     "output_type": "display_data"
    }
   ],
   "source": [
    "components = pca.components_\n",
    "plot_pca = pd.DataFrame(components, columns=all_df.columns).T\n",
    "cols = [\"PC\"+str(x) for x in range(1,12)]\n",
    "plot_pca.columns = cols\n",
    "plot_pca.reset_index(inplace=True)\n",
    "\n",
    "plt.plot(plot_pca[\"area\"], plot_pca[\"PC1\"], '-o', label=\"PC1 \"+ str(round(explain_var[0], 4)*100)+ \"%\")\n",
    "plt.plot(plot_pca[\"area\"], plot_pca[\"PC2\"], '-o', label=\"PC2 \"+ str(round(explain_var[1], 4)*100)+ \"%\")\n",
    "plt.plot(plot_pca[\"area\"], plot_pca[\"PC3\"], '-o', label=\"PC3 \"+ str(round(explain_var[2], 4)*100)+ \"%\")\n",
    "plt.legend()\n",
    "plt.axhline(color=\"gray\", linestyle=\"--\")\n",
    "plt.savefig(out_path+\"pca_loadings.png\", dpi=300, bbox_inches=\"tight\")\n",
    "plt.show()\n",
    "\n"
   ]
  },
  {
   "cell_type": "code",
   "execution_count": 12,
   "metadata": {},
   "outputs": [
    {
     "data": {
      "application/vnd.plotly.v1+json": {
       "config": {
        "plotlyServerURL": "https://plot.ly"
       },
       "data": [
        {
         "hovertemplate": "species=MMus<br>PC1=%{x}<br>PC2=%{y}<br>PC3=%{z}<extra></extra>",
         "legendgroup": "MMus",
         "marker": {
          "color": "#636efa",
          "symbol": "circle"
         },
         "mode": "markers",
         "name": "MMus",
         "scene": "scene",
         "showlegend": true,
         "type": "scatter3d",
         "x": [
          -0.1812038666369599,
          -0.3990012306387713,
          -0.1308609583921606,
          -0.32825939233513507,
          0.15501413438917988
         ],
         "y": [
          -0.06369291275867947,
          -0.11635121532054035,
          0.6037208277232184,
          -0.13035916735561284,
          0.048528882225610234
         ],
         "z": [
          -0.36777284407294153,
          -0.0853925818817574,
          0.022491754796477376,
          -0.2818815044513839,
          0.024063083050169073
         ]
        },
        {
         "hovertemplate": "species=STeg<br>PC1=%{x}<br>PC2=%{y}<br>PC3=%{z}<extra></extra>",
         "legendgroup": "STeg",
         "marker": {
          "color": "#EF553B",
          "symbol": "circle"
         },
         "mode": "markers",
         "name": "STeg",
         "scene": "scene",
         "showlegend": true,
         "type": "scatter3d",
         "x": [
          -0.3802158888899046,
          0.603837682689979,
          0.34479352486228587,
          0.005221658621640063,
          -0.273927013188669,
          -0.1707565086938031,
          0.7553578582123195
         ],
         "y": [
          -0.2571576964481015,
          -0.15586025358266378,
          -0.2357570454605264,
          -0.3596548834477702,
          -0.24519302760814116,
          0.761951962902586,
          0.14982452913062072
         ],
         "z": [
          0.1734337903219642,
          -0.20792153328260415,
          0.2749227609281181,
          -0.03295615418634674,
          0.36838163360241744,
          0.08781261649664028,
          0.024818978679247292
         ]
        }
       ],
       "layout": {
        "legend": {
         "title": {
          "text": "species"
         },
         "tracegroupgap": 0
        },
        "margin": {
         "t": 60
        },
        "scene": {
         "domain": {
          "x": [
           0,
           1
          ],
          "y": [
           0,
           1
          ]
         },
         "xaxis": {
          "title": {
           "text": "PC1"
          }
         },
         "yaxis": {
          "title": {
           "text": "PC2"
          }
         },
         "zaxis": {
          "title": {
           "text": "PC3"
          }
         }
        },
        "template": {
         "data": {
          "bar": [
           {
            "error_x": {
             "color": "#2a3f5f"
            },
            "error_y": {
             "color": "#2a3f5f"
            },
            "marker": {
             "line": {
              "color": "#E5ECF6",
              "width": 0.5
             },
             "pattern": {
              "fillmode": "overlay",
              "size": 10,
              "solidity": 0.2
             }
            },
            "type": "bar"
           }
          ],
          "barpolar": [
           {
            "marker": {
             "line": {
              "color": "#E5ECF6",
              "width": 0.5
             },
             "pattern": {
              "fillmode": "overlay",
              "size": 10,
              "solidity": 0.2
             }
            },
            "type": "barpolar"
           }
          ],
          "carpet": [
           {
            "aaxis": {
             "endlinecolor": "#2a3f5f",
             "gridcolor": "white",
             "linecolor": "white",
             "minorgridcolor": "white",
             "startlinecolor": "#2a3f5f"
            },
            "baxis": {
             "endlinecolor": "#2a3f5f",
             "gridcolor": "white",
             "linecolor": "white",
             "minorgridcolor": "white",
             "startlinecolor": "#2a3f5f"
            },
            "type": "carpet"
           }
          ],
          "choropleth": [
           {
            "colorbar": {
             "outlinewidth": 0,
             "ticks": ""
            },
            "type": "choropleth"
           }
          ],
          "contour": [
           {
            "colorbar": {
             "outlinewidth": 0,
             "ticks": ""
            },
            "colorscale": [
             [
              0,
              "#0d0887"
             ],
             [
              0.1111111111111111,
              "#46039f"
             ],
             [
              0.2222222222222222,
              "#7201a8"
             ],
             [
              0.3333333333333333,
              "#9c179e"
             ],
             [
              0.4444444444444444,
              "#bd3786"
             ],
             [
              0.5555555555555556,
              "#d8576b"
             ],
             [
              0.6666666666666666,
              "#ed7953"
             ],
             [
              0.7777777777777778,
              "#fb9f3a"
             ],
             [
              0.8888888888888888,
              "#fdca26"
             ],
             [
              1,
              "#f0f921"
             ]
            ],
            "type": "contour"
           }
          ],
          "contourcarpet": [
           {
            "colorbar": {
             "outlinewidth": 0,
             "ticks": ""
            },
            "type": "contourcarpet"
           }
          ],
          "heatmap": [
           {
            "colorbar": {
             "outlinewidth": 0,
             "ticks": ""
            },
            "colorscale": [
             [
              0,
              "#0d0887"
             ],
             [
              0.1111111111111111,
              "#46039f"
             ],
             [
              0.2222222222222222,
              "#7201a8"
             ],
             [
              0.3333333333333333,
              "#9c179e"
             ],
             [
              0.4444444444444444,
              "#bd3786"
             ],
             [
              0.5555555555555556,
              "#d8576b"
             ],
             [
              0.6666666666666666,
              "#ed7953"
             ],
             [
              0.7777777777777778,
              "#fb9f3a"
             ],
             [
              0.8888888888888888,
              "#fdca26"
             ],
             [
              1,
              "#f0f921"
             ]
            ],
            "type": "heatmap"
           }
          ],
          "heatmapgl": [
           {
            "colorbar": {
             "outlinewidth": 0,
             "ticks": ""
            },
            "colorscale": [
             [
              0,
              "#0d0887"
             ],
             [
              0.1111111111111111,
              "#46039f"
             ],
             [
              0.2222222222222222,
              "#7201a8"
             ],
             [
              0.3333333333333333,
              "#9c179e"
             ],
             [
              0.4444444444444444,
              "#bd3786"
             ],
             [
              0.5555555555555556,
              "#d8576b"
             ],
             [
              0.6666666666666666,
              "#ed7953"
             ],
             [
              0.7777777777777778,
              "#fb9f3a"
             ],
             [
              0.8888888888888888,
              "#fdca26"
             ],
             [
              1,
              "#f0f921"
             ]
            ],
            "type": "heatmapgl"
           }
          ],
          "histogram": [
           {
            "marker": {
             "pattern": {
              "fillmode": "overlay",
              "size": 10,
              "solidity": 0.2
             }
            },
            "type": "histogram"
           }
          ],
          "histogram2d": [
           {
            "colorbar": {
             "outlinewidth": 0,
             "ticks": ""
            },
            "colorscale": [
             [
              0,
              "#0d0887"
             ],
             [
              0.1111111111111111,
              "#46039f"
             ],
             [
              0.2222222222222222,
              "#7201a8"
             ],
             [
              0.3333333333333333,
              "#9c179e"
             ],
             [
              0.4444444444444444,
              "#bd3786"
             ],
             [
              0.5555555555555556,
              "#d8576b"
             ],
             [
              0.6666666666666666,
              "#ed7953"
             ],
             [
              0.7777777777777778,
              "#fb9f3a"
             ],
             [
              0.8888888888888888,
              "#fdca26"
             ],
             [
              1,
              "#f0f921"
             ]
            ],
            "type": "histogram2d"
           }
          ],
          "histogram2dcontour": [
           {
            "colorbar": {
             "outlinewidth": 0,
             "ticks": ""
            },
            "colorscale": [
             [
              0,
              "#0d0887"
             ],
             [
              0.1111111111111111,
              "#46039f"
             ],
             [
              0.2222222222222222,
              "#7201a8"
             ],
             [
              0.3333333333333333,
              "#9c179e"
             ],
             [
              0.4444444444444444,
              "#bd3786"
             ],
             [
              0.5555555555555556,
              "#d8576b"
             ],
             [
              0.6666666666666666,
              "#ed7953"
             ],
             [
              0.7777777777777778,
              "#fb9f3a"
             ],
             [
              0.8888888888888888,
              "#fdca26"
             ],
             [
              1,
              "#f0f921"
             ]
            ],
            "type": "histogram2dcontour"
           }
          ],
          "mesh3d": [
           {
            "colorbar": {
             "outlinewidth": 0,
             "ticks": ""
            },
            "type": "mesh3d"
           }
          ],
          "parcoords": [
           {
            "line": {
             "colorbar": {
              "outlinewidth": 0,
              "ticks": ""
             }
            },
            "type": "parcoords"
           }
          ],
          "pie": [
           {
            "automargin": true,
            "type": "pie"
           }
          ],
          "scatter": [
           {
            "fillpattern": {
             "fillmode": "overlay",
             "size": 10,
             "solidity": 0.2
            },
            "type": "scatter"
           }
          ],
          "scatter3d": [
           {
            "line": {
             "colorbar": {
              "outlinewidth": 0,
              "ticks": ""
             }
            },
            "marker": {
             "colorbar": {
              "outlinewidth": 0,
              "ticks": ""
             }
            },
            "type": "scatter3d"
           }
          ],
          "scattercarpet": [
           {
            "marker": {
             "colorbar": {
              "outlinewidth": 0,
              "ticks": ""
             }
            },
            "type": "scattercarpet"
           }
          ],
          "scattergeo": [
           {
            "marker": {
             "colorbar": {
              "outlinewidth": 0,
              "ticks": ""
             }
            },
            "type": "scattergeo"
           }
          ],
          "scattergl": [
           {
            "marker": {
             "colorbar": {
              "outlinewidth": 0,
              "ticks": ""
             }
            },
            "type": "scattergl"
           }
          ],
          "scattermapbox": [
           {
            "marker": {
             "colorbar": {
              "outlinewidth": 0,
              "ticks": ""
             }
            },
            "type": "scattermapbox"
           }
          ],
          "scatterpolar": [
           {
            "marker": {
             "colorbar": {
              "outlinewidth": 0,
              "ticks": ""
             }
            },
            "type": "scatterpolar"
           }
          ],
          "scatterpolargl": [
           {
            "marker": {
             "colorbar": {
              "outlinewidth": 0,
              "ticks": ""
             }
            },
            "type": "scatterpolargl"
           }
          ],
          "scatterternary": [
           {
            "marker": {
             "colorbar": {
              "outlinewidth": 0,
              "ticks": ""
             }
            },
            "type": "scatterternary"
           }
          ],
          "surface": [
           {
            "colorbar": {
             "outlinewidth": 0,
             "ticks": ""
            },
            "colorscale": [
             [
              0,
              "#0d0887"
             ],
             [
              0.1111111111111111,
              "#46039f"
             ],
             [
              0.2222222222222222,
              "#7201a8"
             ],
             [
              0.3333333333333333,
              "#9c179e"
             ],
             [
              0.4444444444444444,
              "#bd3786"
             ],
             [
              0.5555555555555556,
              "#d8576b"
             ],
             [
              0.6666666666666666,
              "#ed7953"
             ],
             [
              0.7777777777777778,
              "#fb9f3a"
             ],
             [
              0.8888888888888888,
              "#fdca26"
             ],
             [
              1,
              "#f0f921"
             ]
            ],
            "type": "surface"
           }
          ],
          "table": [
           {
            "cells": {
             "fill": {
              "color": "#EBF0F8"
             },
             "line": {
              "color": "white"
             }
            },
            "header": {
             "fill": {
              "color": "#C8D4E3"
             },
             "line": {
              "color": "white"
             }
            },
            "type": "table"
           }
          ]
         },
         "layout": {
          "annotationdefaults": {
           "arrowcolor": "#2a3f5f",
           "arrowhead": 0,
           "arrowwidth": 1
          },
          "autotypenumbers": "strict",
          "coloraxis": {
           "colorbar": {
            "outlinewidth": 0,
            "ticks": ""
           }
          },
          "colorscale": {
           "diverging": [
            [
             0,
             "#8e0152"
            ],
            [
             0.1,
             "#c51b7d"
            ],
            [
             0.2,
             "#de77ae"
            ],
            [
             0.3,
             "#f1b6da"
            ],
            [
             0.4,
             "#fde0ef"
            ],
            [
             0.5,
             "#f7f7f7"
            ],
            [
             0.6,
             "#e6f5d0"
            ],
            [
             0.7,
             "#b8e186"
            ],
            [
             0.8,
             "#7fbc41"
            ],
            [
             0.9,
             "#4d9221"
            ],
            [
             1,
             "#276419"
            ]
           ],
           "sequential": [
            [
             0,
             "#0d0887"
            ],
            [
             0.1111111111111111,
             "#46039f"
            ],
            [
             0.2222222222222222,
             "#7201a8"
            ],
            [
             0.3333333333333333,
             "#9c179e"
            ],
            [
             0.4444444444444444,
             "#bd3786"
            ],
            [
             0.5555555555555556,
             "#d8576b"
            ],
            [
             0.6666666666666666,
             "#ed7953"
            ],
            [
             0.7777777777777778,
             "#fb9f3a"
            ],
            [
             0.8888888888888888,
             "#fdca26"
            ],
            [
             1,
             "#f0f921"
            ]
           ],
           "sequentialminus": [
            [
             0,
             "#0d0887"
            ],
            [
             0.1111111111111111,
             "#46039f"
            ],
            [
             0.2222222222222222,
             "#7201a8"
            ],
            [
             0.3333333333333333,
             "#9c179e"
            ],
            [
             0.4444444444444444,
             "#bd3786"
            ],
            [
             0.5555555555555556,
             "#d8576b"
            ],
            [
             0.6666666666666666,
             "#ed7953"
            ],
            [
             0.7777777777777778,
             "#fb9f3a"
            ],
            [
             0.8888888888888888,
             "#fdca26"
            ],
            [
             1,
             "#f0f921"
            ]
           ]
          },
          "colorway": [
           "#636efa",
           "#EF553B",
           "#00cc96",
           "#ab63fa",
           "#FFA15A",
           "#19d3f3",
           "#FF6692",
           "#B6E880",
           "#FF97FF",
           "#FECB52"
          ],
          "font": {
           "color": "#2a3f5f"
          },
          "geo": {
           "bgcolor": "white",
           "lakecolor": "white",
           "landcolor": "#E5ECF6",
           "showlakes": true,
           "showland": true,
           "subunitcolor": "white"
          },
          "hoverlabel": {
           "align": "left"
          },
          "hovermode": "closest",
          "mapbox": {
           "style": "light"
          },
          "paper_bgcolor": "white",
          "plot_bgcolor": "#E5ECF6",
          "polar": {
           "angularaxis": {
            "gridcolor": "white",
            "linecolor": "white",
            "ticks": ""
           },
           "bgcolor": "#E5ECF6",
           "radialaxis": {
            "gridcolor": "white",
            "linecolor": "white",
            "ticks": ""
           }
          },
          "scene": {
           "xaxis": {
            "backgroundcolor": "#E5ECF6",
            "gridcolor": "white",
            "gridwidth": 2,
            "linecolor": "white",
            "showbackground": true,
            "ticks": "",
            "zerolinecolor": "white"
           },
           "yaxis": {
            "backgroundcolor": "#E5ECF6",
            "gridcolor": "white",
            "gridwidth": 2,
            "linecolor": "white",
            "showbackground": true,
            "ticks": "",
            "zerolinecolor": "white"
           },
           "zaxis": {
            "backgroundcolor": "#E5ECF6",
            "gridcolor": "white",
            "gridwidth": 2,
            "linecolor": "white",
            "showbackground": true,
            "ticks": "",
            "zerolinecolor": "white"
           }
          },
          "shapedefaults": {
           "line": {
            "color": "#2a3f5f"
           }
          },
          "ternary": {
           "aaxis": {
            "gridcolor": "white",
            "linecolor": "white",
            "ticks": ""
           },
           "baxis": {
            "gridcolor": "white",
            "linecolor": "white",
            "ticks": ""
           },
           "bgcolor": "#E5ECF6",
           "caxis": {
            "gridcolor": "white",
            "linecolor": "white",
            "ticks": ""
           }
          },
          "title": {
           "x": 0.05
          },
          "xaxis": {
           "automargin": true,
           "gridcolor": "white",
           "linecolor": "white",
           "ticks": "",
           "title": {
            "standoff": 15
           },
           "zerolinecolor": "white",
           "zerolinewidth": 2
          },
          "yaxis": {
           "automargin": true,
           "gridcolor": "white",
           "linecolor": "white",
           "ticks": "",
           "title": {
            "standoff": 15
           },
           "zerolinecolor": "white",
           "zerolinewidth": 2
          }
         }
        }
       }
      }
     },
     "metadata": {},
     "output_type": "display_data"
    }
   ],
   "source": [
    "import plotly.express as px\n",
    "\n",
    "plot_df = pd.DataFrame(principalComponents)\n",
    "plot_df.index = all_df.index\n",
    "cols = [\"PC\"+str(x) for x in range(1,12)]\n",
    "plot_df.columns = cols\n",
    "plot_df[\"species\"] = \"MMus\"\n",
    "plot_df.iloc[5:12,11] = \"STeg\"\n",
    "\n",
    "fig = px.scatter_3d(plot_df, x=\"PC1\", y=\"PC2\", z=\"PC3\",\n",
    "                    color=\"species\")\n",
    "fig.show()\n"
   ]
  }
 ],
 "metadata": {
  "kernelspec": {
   "display_name": "MAPseq",
   "language": "python",
   "name": "python3"
  },
  "language_info": {
   "codemirror_mode": {
    "name": "ipython",
    "version": 3
   },
   "file_extension": ".py",
   "mimetype": "text/x-python",
   "name": "python",
   "nbconvert_exporter": "python",
   "pygments_lexer": "ipython3",
   "version": "3.12.0"
  },
  "orig_nbformat": 4
 },
 "nbformat": 4,
 "nbformat_minor": 2
}
